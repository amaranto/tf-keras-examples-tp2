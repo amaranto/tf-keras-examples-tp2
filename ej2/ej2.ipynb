{
  "cells": [
    {
      "cell_type": "markdown",
      "metadata": {
        "id": "ga0uVvSH9BdZ"
      },
      "source": [
        "# Descarga del dataset\n",
        "---\n",
        "\n"
      ]
    },
    {
      "cell_type": "code",
      "execution_count": 1,
      "metadata": {
        "colab": {
          "base_uri": "https://localhost:8080/",
          "height": 168,
          "referenced_widgets": [
            "c5588cddd7ed45f3bd814967e90d754e",
            "76d7ca943cea40309a828252e87f47d9",
            "ca24b8ca2c134d88a35de2207323ffef",
            "c1e515098ebb424eb959c526cd0a4046",
            "b17409a63d954f808a595e159ec06aba",
            "954564bda1814c3bb0bd0d513423181b",
            "c604ceea3e1b49ec9d9f952b7b4d18d5",
            "bf3e690ce7f04abe87d8512be73b21cf",
            "defa607c75794f1e967ba425612bab4b",
            "5ba5b1af39a841f3b5ff79f784891462",
            "886f7e20d5a14911b6a667c88c4cf697",
            "407a0e0bda1948aa98a73f2f54341752",
            "31c12c8678fd4c07b52b860b245b5ce3",
            "28971d2b5e9d43d38d423959a0751933",
            "3f8c0f78a9bc4b11bf92623f7871ce27",
            "0412341579f64c57b8944cbc5d9fbc7c",
            "a33ac8163abc41f19768b63ac9aee51e",
            "ad22bd54425242ad963ad0f335ec5530",
            "ed2b2ce23c6b4067a9e07c5964fdb2f1",
            "9247398c25df4e9395ed028d22425096",
            "a7686085e0d14fc495820161595dfe50",
            "33c068482d9148e7becf7756d1727e74",
            "b41e9039a1ad43aeb2bf12950120f357",
            "d50a2727d62c44289ee6996623846de1",
            "db8de2430cbc459da3b18c7e680ac83e",
            "85ca1942e307457387a75027e52f14ff",
            "d7ec1592ddd14af9b90c590cb32ca2c1",
            "8021f3ebf64f4fc2838392263e64d304",
            "e45045236f9547d1bc17f51782073371",
            "c534b01ea82a4a00bd92ab17f4327877",
            "307ef163215e4b3a8e3fc51709e73752",
            "5a5f36a5f96b4b789d09ab56321be2a3",
            "7869af34a483420f82fc193335b941db",
            "74a1cd443735447098a27cffd4ee2af7",
            "5e123b5ce04e42e9962aaeb6f6df5f31",
            "debc9d6236cd450b972a04d4ea27581c",
            "2b10009cc2da4a90b9ad6ea9c51545f8",
            "44b3830a17374465b4e9efecc9417558",
            "16e5309c38d14dc9b05c03da74addabe",
            "e1a0d8861f33414d9eefea5915fdf65e",
            "12106f8e3f7441ce9a50d9aba9256345",
            "d49c44c27a0541229a2ca305807baaff",
            "e11772c6af974b5da49a979a056c8f6d",
            "119b1ce46fb64279be8e581213bc5fa6",
            "55a4ebec5b8846bcb747c5d44f2ea601",
            "dff84f5a3e114ad683156c66b3b096aa",
            "4a9d69aa436d4363b24fb7ae207b68f3",
            "12839b4cea4443a594b447a8574b19a8",
            "420fbc01ace04d2eb8f5c02c2262a245",
            "b855160fc9a345a6a07ce0af9b8335fa",
            "f33658056c83499dbec4451b80135567",
            "e9f20b2b43c44326bc8511e0c15cfbd6",
            "985c7e1970144fbca697ba18df767f9e",
            "64fa09ec6fca4a04b81ce4075f5841e2",
            "2ac6f9b56ee744e685e63ff49883d10d",
            "2ca9e5a418fa46078dc4e0ffbee204d3",
            "85beed43ccd14001bf27a8472db9702a",
            "1cfb8b9de39240069030e22e52d737fe",
            "bd0c694f0a174c6fa2d478edf0c6b129",
            "188ce96fd89f430d9e5a96df9a36b701",
            "f962fd48b85c49abbeb06a60985237f7",
            "24c5808a4c8f46e9965ae1e37734f7ff",
            "4f200dd236b84de5b595b1c8a6de5351",
            "e35aa4cfed7e4d0d8b3f1cefbf2af3e0",
            "05154a3dcc8a4110be3aa6e5438b85f8",
            "f61d89d736ce44629a5e2fbc63e5b17b",
            "c0ed76a802d749229e3ddd663c777bfc",
            "78057e7b18da4a85b639fe3dd6852236",
            "1e64a826f7ac4138bae90ca00d78e8d4",
            "de486660be254bc4a4c283c0bd1b2e8c",
            "654d693d2b73463894f6472e6a1c4e8e",
            "dafd81756a4c493e891cc2745496b130",
            "e5f48a2bf7794b51a952d4c4ea03dfdc",
            "82013f52561244a39399607be4113a11",
            "7cf9acbf0ce34465b3b2cdb94fb0935a",
            "a9d484fb3ecb434184eab2b315b89156",
            "83f75c9336c64adfba10da0b3422015e",
            "a0e1a71d90a8484897a7185a975f1706",
            "4a34fd9ebea941d39098e500e30a368f",
            "54ea590faf8c41508caf226d62060d02",
            "78232e4cc6b741a5843a49b02bcff2ae",
            "e1a6b01eada64b5f9aaa6b53d4d4e4a5",
            "6eb9dc1cc4bc4505bec870379ccc39b1",
            "185b59beabed4960bdd17c8dbabb3539",
            "27c28179d8744e71bdbf92dd6ef74d75",
            "ce6f8c05362041b69c39cf588848af8f",
            "765163361ec545e8ba785ee0b35b9fb9",
            "6e1b7cc537a74e34b651374a7389b4d8"
          ]
        },
        "id": "k_9sv80uLRDS",
        "outputId": "14e9f2de-52ac-4595-f408-9196005a0ba8"
      },
      "outputs": [
        {
          "output_type": "stream",
          "name": "stdout",
          "text": [
            "Downloading and preparing dataset 11.24 MiB (download: 11.24 MiB, generated: 35.79 MiB, total: 47.03 MiB) to /root/tensorflow_datasets/ag_news_subset/1.0.0...\n"
          ]
        },
        {
          "output_type": "display_data",
          "data": {
            "text/plain": [
              "Dl Completed...: 0 url [00:00, ? url/s]"
            ],
            "application/vnd.jupyter.widget-view+json": {
              "version_major": 2,
              "version_minor": 0,
              "model_id": "c5588cddd7ed45f3bd814967e90d754e"
            }
          },
          "metadata": {}
        },
        {
          "output_type": "display_data",
          "data": {
            "text/plain": [
              "Dl Size...: 0 MiB [00:00, ? MiB/s]"
            ],
            "application/vnd.jupyter.widget-view+json": {
              "version_major": 2,
              "version_minor": 0,
              "model_id": "407a0e0bda1948aa98a73f2f54341752"
            }
          },
          "metadata": {}
        },
        {
          "output_type": "display_data",
          "data": {
            "text/plain": [
              "Extraction completed...: 0 file [00:00, ? file/s]"
            ],
            "application/vnd.jupyter.widget-view+json": {
              "version_major": 2,
              "version_minor": 0,
              "model_id": "b41e9039a1ad43aeb2bf12950120f357"
            }
          },
          "metadata": {}
        },
        {
          "output_type": "display_data",
          "data": {
            "text/plain": [
              "Generating splits...:   0%|          | 0/2 [00:00<?, ? splits/s]"
            ],
            "application/vnd.jupyter.widget-view+json": {
              "version_major": 2,
              "version_minor": 0,
              "model_id": "74a1cd443735447098a27cffd4ee2af7"
            }
          },
          "metadata": {}
        },
        {
          "output_type": "display_data",
          "data": {
            "text/plain": [
              "Generating train examples...:   0%|          | 0/120000 [00:00<?, ? examples/s]"
            ],
            "application/vnd.jupyter.widget-view+json": {
              "version_major": 2,
              "version_minor": 0,
              "model_id": "55a4ebec5b8846bcb747c5d44f2ea601"
            }
          },
          "metadata": {}
        },
        {
          "output_type": "display_data",
          "data": {
            "text/plain": [
              "Shuffling /root/tensorflow_datasets/ag_news_subset/incomplete.PNM23X_1.0.0/ag_news_subset-train.tfrecord*...: …"
            ],
            "application/vnd.jupyter.widget-view+json": {
              "version_major": 2,
              "version_minor": 0,
              "model_id": "2ca9e5a418fa46078dc4e0ffbee204d3"
            }
          },
          "metadata": {}
        },
        {
          "output_type": "display_data",
          "data": {
            "text/plain": [
              "Generating test examples...:   0%|          | 0/7600 [00:00<?, ? examples/s]"
            ],
            "application/vnd.jupyter.widget-view+json": {
              "version_major": 2,
              "version_minor": 0,
              "model_id": "c0ed76a802d749229e3ddd663c777bfc"
            }
          },
          "metadata": {}
        },
        {
          "output_type": "display_data",
          "data": {
            "text/plain": [
              "Shuffling /root/tensorflow_datasets/ag_news_subset/incomplete.PNM23X_1.0.0/ag_news_subset-test.tfrecord*...:  …"
            ],
            "application/vnd.jupyter.widget-view+json": {
              "version_major": 2,
              "version_minor": 0,
              "model_id": "a0e1a71d90a8484897a7185a975f1706"
            }
          },
          "metadata": {}
        },
        {
          "output_type": "stream",
          "name": "stdout",
          "text": [
            "Dataset ag_news_subset downloaded and prepared to /root/tensorflow_datasets/ag_news_subset/1.0.0. Subsequent calls will reuse this data.\n"
          ]
        }
      ],
      "source": [
        "import tensorflow.compat.v2 as tf\n",
        "import tensorflow_datasets as tfds\n",
        "\n",
        "from typing import Literal\n",
        "ds = tfds.load('ag_news_subset', split='train', shuffle_files=True)\n",
        "\n",
        "ds = ds.shuffle(1024).batch(32).prefetch(tf.data.experimental.AUTOTUNE)\n",
        "for example in ds.take(1):\n",
        "  description, label, title = example[\"description\"], example[\"label\"], example[\"title\"]\n"
      ]
    },
    {
      "cell_type": "markdown",
      "metadata": {
        "id": "a30wtPKu9O_u"
      },
      "source": [
        "# Configuracion del entorno\n",
        "---"
      ]
    },
    {
      "cell_type": "code",
      "execution_count": 2,
      "metadata": {
        "colab": {
          "base_uri": "https://localhost:8080/"
        },
        "id": "sIY0KBBKLxJh",
        "outputId": "c519c193-df66-4f19-d9e2-859ddcab8ddd"
      },
      "outputs": [
        {
          "output_type": "stream",
          "name": "stdout",
          "text": [
            "Physical devices cannot be modified after being initialized\n"
          ]
        }
      ],
      "source": [
        "gpus = tf.config.experimental.list_physical_devices('GPU')\n",
        "if gpus:\n",
        "    try:\n",
        "        # Configurar para que TensorFlow asigne memoria dinámicamente\n",
        "        for gpu in gpus:\n",
        "            tf.config.experimental.set_memory_growth(gpu, True)\n",
        "        # Especificar la GPU por defecto\n",
        "        logical_gpus = tf.config.experimental.list_logical_devices('GPU')\n",
        "        print(len(gpus), \"Physical GPUs,\", len(logical_gpus), \"Logical GPUs\")\n",
        "    except RuntimeError as e:\n",
        "        # Manejar error\n",
        "        print(e)"
      ]
    },
    {
      "cell_type": "code",
      "execution_count": 3,
      "metadata": {
        "colab": {
          "base_uri": "https://localhost:8080/"
        },
        "id": "D_lFWQwj-rtV",
        "outputId": "f93eedb9-30de-4bfb-bfb3-3544c7c01bbc"
      },
      "outputs": [
        {
          "output_type": "stream",
          "name": "stdout",
          "text": [
            "Requirement already satisfied: wordcloud in /usr/local/lib/python3.10/dist-packages (1.9.3)\n",
            "Requirement already satisfied: numpy>=1.6.1 in /usr/local/lib/python3.10/dist-packages (from wordcloud) (1.25.2)\n",
            "Requirement already satisfied: pillow in /usr/local/lib/python3.10/dist-packages (from wordcloud) (9.4.0)\n",
            "Requirement already satisfied: matplotlib in /usr/local/lib/python3.10/dist-packages (from wordcloud) (3.7.1)\n",
            "Requirement already satisfied: contourpy>=1.0.1 in /usr/local/lib/python3.10/dist-packages (from matplotlib->wordcloud) (1.2.1)\n",
            "Requirement already satisfied: cycler>=0.10 in /usr/local/lib/python3.10/dist-packages (from matplotlib->wordcloud) (0.12.1)\n",
            "Requirement already satisfied: fonttools>=4.22.0 in /usr/local/lib/python3.10/dist-packages (from matplotlib->wordcloud) (4.53.1)\n",
            "Requirement already satisfied: kiwisolver>=1.0.1 in /usr/local/lib/python3.10/dist-packages (from matplotlib->wordcloud) (1.4.5)\n",
            "Requirement already satisfied: packaging>=20.0 in /usr/local/lib/python3.10/dist-packages (from matplotlib->wordcloud) (24.1)\n",
            "Requirement already satisfied: pyparsing>=2.3.1 in /usr/local/lib/python3.10/dist-packages (from matplotlib->wordcloud) (3.1.2)\n",
            "Requirement already satisfied: python-dateutil>=2.7 in /usr/local/lib/python3.10/dist-packages (from matplotlib->wordcloud) (2.8.2)\n",
            "Requirement already satisfied: six>=1.5 in /usr/local/lib/python3.10/dist-packages (from python-dateutil>=2.7->matplotlib->wordcloud) (1.16.0)\n"
          ]
        }
      ],
      "source": [
        "!pip install wordcloud"
      ]
    },
    {
      "cell_type": "code",
      "execution_count": 4,
      "metadata": {
        "colab": {
          "base_uri": "https://localhost:8080/"
        },
        "id": "yINphCA6LzK9",
        "outputId": "145d5c91-6e81-49be-eda7-9d47f2654e17"
      },
      "outputs": [
        {
          "output_type": "execute_result",
          "data": {
            "text/plain": [
              "[PhysicalDevice(name='/physical_device:GPU:0', device_type='GPU')]"
            ]
          },
          "metadata": {},
          "execution_count": 4
        }
      ],
      "source": [
        " tf.config.experimental.list_physical_devices('GPU')"
      ]
    },
    {
      "cell_type": "markdown",
      "metadata": {
        "id": "WpYsD5fU9U3R"
      },
      "source": [
        "# Modelando el dataset para el entrenamiento con palabras y caracteres\n",
        "---"
      ]
    },
    {
      "cell_type": "code",
      "execution_count": 5,
      "metadata": {
        "colab": {
          "base_uri": "https://localhost:8080/"
        },
        "id": "SUO4krrCMVnv",
        "outputId": "b319ceec-87a4-4c20-d85d-8ae079b38907"
      },
      "outputs": [
        {
          "output_type": "stream",
          "name": "stdout",
          "text": [
            "67 unique tokens\n",
            "143025 unique words\n",
            "22957431 total text\n"
          ]
        }
      ],
      "source": [
        "\n",
        "import os\n",
        "from typing import Literal\n",
        "import re\n",
        "\n",
        "INPUT_FILES = [\"all_ids.txt\",\"all_text.txt\", \"all_words.txt\"]\n",
        "\n",
        "if not os.path.exists(INPUT_FILES[0]) or not os.path.exists(INPUT_FILES[1]) or not os.path.exists(INPUT_FILES[2]):\n",
        "  vocab = []\n",
        "  words = []\n",
        "  all_text  = []\n",
        "\n",
        "  for text in ds:\n",
        "    for t in text[\"description\"]:\n",
        "      l = t.numpy().decode('UTF-8')\n",
        "      clean_string = [s for s in l if s.isalnum() or s.isspace() or s in [\".\", \",\", \"'\" ]]\n",
        "      l = \"\".join(clean_string).replace(\"#39;\", \"'\")\n",
        "\n",
        "      vocab += list(l)\n",
        "      vocab = list(set(vocab))\n",
        "\n",
        "      #split_words = [a for a in re.split(r'(\\s|\\,|\\.)', l.strip()) if a]\n",
        "      #words += split_words\n",
        "      words += l.split(\" \")\n",
        "      words = list(set(words))\n",
        "\n",
        "      all_text.append(l)\n",
        "\n",
        "  with open(INPUT_FILES[0], 'w') as f:\n",
        "    f.write(\"\\n\".join(vocab) )\n",
        "  with open(INPUT_FILES[1], 'w') as f:\n",
        "    f.write(\"\\n\".join(all_text))\n",
        "  with open(INPUT_FILES[2], 'w') as f:\n",
        "    f.write(\"\\n\".join(words) )\n",
        "else:\n",
        "  with open(INPUT_FILES[0], 'r') as f:\n",
        "    vocab = f.read()\n",
        "    vocab = set(vocab)\n",
        "  with open(INPUT_FILES[1], 'r') as f:\n",
        "    all_text = f.read()\n",
        "  with open(INPUT_FILES[2], 'r') as f:\n",
        "    words = f.read()\n",
        "    words = list(set(words.split(\"\\n\")))\n",
        "\n",
        "print(f\"{len(vocab)} unique tokens\")\n",
        "print(f\"{len(words)} unique words\")\n",
        "print(f\"{len(all_text)} total text\")\n",
        "\n",
        "all_text_list = all_text\n",
        "all_text = \"\".join(all_text)\n",
        "\n"
      ]
    },
    {
      "cell_type": "code",
      "execution_count": null,
      "metadata": {
        "colab": {
          "base_uri": "https://localhost:8080/",
          "height": 452
        },
        "id": "oCqNdCy4-lYk",
        "outputId": "50e37d73-882a-4ee2-c277-ef2ab0f3e380"
      },
      "outputs": [
        {
          "data": {
            "text/plain": [
              "<matplotlib.image.AxesImage at 0x7f1372f8e410>"
            ]
          },
          "execution_count": 9,
          "metadata": {},
          "output_type": "execute_result"
        },
        {
          "data": {
            "image/png": "[encoded data removed]",
            "text/plain": [
              "<Figure size 640x480 with 1 Axes>"
            ]
          },
          "metadata": {},
          "output_type": "display_data"
        }
      ],
      "source": [
        "from wordcloud import WordCloud\n",
        "from matplotlib import pyplot as plt\n",
        "\n",
        "wordcloud = WordCloud(background_color=\"white\",\n",
        "                          width=1200, height=1000,\n",
        "                          #stopwords=STOPWORDS\n",
        "                         ).generate(all_text)\n",
        "plt.imshow(wordcloud)"
      ]
    },
    {
      "cell_type": "markdown",
      "metadata": {
        "id": "kaAkQYXNE69X"
      },
      "source": [
        "# Definicion de funciones para el tokenizador de caracteres\n",
        "---"
      ]
    },
    {
      "cell_type": "code",
      "execution_count": null,
      "metadata": {
        "id": "S0v6J0K6magu"
      },
      "outputs": [],
      "source": [
        "ids_from_chars = tf.keras.layers.StringLookup(\n",
        "    vocabulary=list(vocab), mask_token=None)\n",
        "\n",
        "chars_from_ids = tf.keras.layers.StringLookup(\n",
        "    vocabulary=ids_from_chars.get_vocabulary(), invert=True, mask_token=None)\n",
        "\n",
        "def text_from_ids(ids):\n",
        "  return tf.strings.reduce_join(chars_from_ids(ids), axis=-1)\n",
        "\n",
        "def split_input_target(sequence):\n",
        "    input_text = sequence[:-1]\n",
        "    target_text = sequence[1:]\n",
        "    return input_text, target_text"
      ]
    },
    {
      "cell_type": "markdown",
      "metadata": {
        "id": "5n5BsEruINKv"
      },
      "source": [
        "## Ejemplo de funciones de tokenizacion\n",
        "---"
      ]
    },
    {
      "cell_type": "code",
      "execution_count": null,
      "metadata": {
        "colab": {
          "base_uri": "https://localhost:8080/"
        },
        "id": "wHBcvUb7md-9",
        "outputId": "f7e4e523-675a-4cac-8907-5a8a2ccd60f8"
      },
      "outputs": [
        {
          "name": "stdout",
          "output_type": "stream",
          "text": [
            "<tf.RaggedTensor [[b'a', b'b', b'c', b'd', b'e', b'f', b'g'], [b'x', b'y', b'z']]>\n",
            "<tf.RaggedTensor [[42, 28, 11, 51, 15, 55, 62], [37, 26, 8]]>\n",
            "<tf.RaggedTensor [[b'a', b'b', b'c', b'd', b'e', b'f', b'g'], [b'x', b'y', b'z']]>\n"
          ]
        }
      ],
      "source": [
        "example_texts = ['abcdefg', 'xyz']\n",
        "\n",
        "chars = tf.strings.unicode_split(example_texts, input_encoding='UTF-8')\n",
        "print(chars)\n",
        "\n",
        "ids = ids_from_chars(chars)\n",
        "print(ids)\n",
        "chars = tf.strings.unicode_split(example_texts, input_encoding='UTF-8')\n",
        "chars = chars_from_ids(ids)\n",
        "print(chars)"
      ]
    },
    {
      "cell_type": "markdown",
      "metadata": {
        "id": "dc5UeTotIYU7"
      },
      "source": [
        "# Generamos el DataSet\n",
        "---\n",
        "\n",
        "Usamos batches de 100 caracteres"
      ]
    },
    {
      "cell_type": "code",
      "execution_count": null,
      "metadata": {
        "colab": {
          "base_uri": "https://localhost:8080/"
        },
        "id": "W7YwnYjSr0Xt",
        "outputId": "d9745168-6571-424c-b994-e57674f1e4a5"
      },
      "outputs": [
        {
          "name": "stdout",
          "output_type": "stream",
          "text": [
            " \n",
            "N\n",
            "A\n",
            "I\n",
            "R\n",
            "O\n",
            "B\n",
            "I\n",
            ",\n",
            " \n"
          ]
        }
      ],
      "source": [
        "all_ids = ids_from_chars(tf.strings.unicode_split(all_text, 'UTF-8'))\n",
        "ids_dataset = tf.data.Dataset.from_tensor_slices(all_ids)\n",
        "for ids in ids_dataset.take(10):\n",
        "    print(chars_from_ids(ids).numpy().decode('utf-8'))"
      ]
    },
    {
      "cell_type": "code",
      "execution_count": null,
      "metadata": {
        "colab": {
          "base_uri": "https://localhost:8080/"
        },
        "id": "V7vUc82Vtwy2",
        "outputId": "ae4daf39-de8c-4f77-f830-e4c7fa5edd82"
      },
      "outputs": [
        {
          "name": "stdout",
          "output_type": "stream",
          "text": [
            "tf.Tensor(\n",
            "[b' ' b'N' b'A' b'I' b'R' b'O' b'B' b'I' b',' b' ' b'K' b'e' b'n' b'y'\n",
            " b'a' b' ' b'R' b'e' b'u' b't' b'e' b'r' b's' b' ' b' ' b'T' b'h' b'e'\n",
            " b' ' b'S' b'u' b'd' b'a' b'n' b'e' b's' b'e' b' ' b'g' b'o' b'v' b'e'\n",
            " b'r' b'n' b'm' b'e' b'n' b't' b' ' b'a' b'n' b'd' b' ' b'i' b't' b's'\n",
            " b' ' b' ' b's' b'o' b'u' b't' b'h' b'e' b'r' b'n' b' ' b'r' b'e' b'b'\n",
            " b'e' b'l' b' ' b'o' b'p' b'p' b'o' b'n' b'e' b'n' b't' b's' b' ' b's'\n",
            " b'i' b'g' b'n' b'e' b'd' b' ' b'a' b' ' b'p' b'l' b'e' b'd' b'g' b'e'\n",
            " b' ' b'F' b'r' b'i' b'd' b'a' b'y' b' ' b't' b'o' b' ' b'c' b'o' b'm'\n",
            " b'p' b'l' b'e' b't' b'e' b' ' b'a' b'n' b' ' b' ' b'a' b'g' b'r' b'e'\n",
            " b'e' b'm' b'e' b'n' b't' b' ' b't' b'o' b' ' b'e' b'n' b'd' b' ' b'a'\n",
            " b' ' b'2' b'1' b'y' b'e' b'a' b'r' b'o' b'l' b'd' b' ' b'c' b'i' b'v'\n",
            " b'i' b'l' b' ' b'w' b'a' b'r' b' ' b'b' b'y' b' ' b'D' b'e' b'c' b'e'\n",
            " b'm' b'b' b'e' b'r' b' ' b'3' b'1' b'.' b'\\n' b'R' b'e' b'u' b't' b'e'\n",
            " b'r' b's' b' ' b' ' b'N' b'a' b'm' b'i' b'b' b'i' b'a' b'n' b' ' b'b'\n",
            " b'e' b'e' b'f' b' ' b'c'], shape=(201,), dtype=string)\n",
            "b' NAIROBI, Kenya Reuters  The Sudanese government and its  southern rebel opponents signed a pledge Friday to complete an  agreement to end a 21yearold civil war by December 31.\\nReuters  Namibian beef c'\n"
          ]
        }
      ],
      "source": [
        "seq_length = 200\n",
        "sequences = ids_dataset.batch(seq_length+1, drop_remainder=True)\n",
        "for seq in sequences.take(1):\n",
        "  print(chars_from_ids(seq))\n",
        "  print(text_from_ids(seq).numpy())"
      ]
    },
    {
      "cell_type": "code",
      "execution_count": null,
      "metadata": {
        "colab": {
          "base_uri": "https://localhost:8080/"
        },
        "id": "fJZI6TH4t65S",
        "outputId": "1b610f95-5d5e-48cf-9f5e-ef4268effe41"
      },
      "outputs": [
        {
          "data": {
            "text/plain": [
              "(['T', 'e', 'n', 's', 'o', 'r', 'f', 'l', 'o'],\n",
              " ['e', 'n', 's', 'o', 'r', 'f', 'l', 'o', 'w'])"
            ]
          },
          "execution_count": 10,
          "metadata": {},
          "output_type": "execute_result"
        }
      ],
      "source": [
        "split_input_target(list(\"Tensorflow\"))"
      ]
    },
    {
      "cell_type": "markdown",
      "metadata": {
        "id": "7CIcU9cEIqmX"
      },
      "source": [
        "## Mapeamos los registros del dataset con la funcion split\n",
        "---\n",
        "Asignamos la funcion split_input_target a nuestro dataset para que desplaze un caracter por cada registro devolviendo un par de input, target"
      ]
    },
    {
      "cell_type": "code",
      "execution_count": null,
      "metadata": {
        "colab": {
          "base_uri": "https://localhost:8080/"
        },
        "id": "GziA8mDUvKEF",
        "outputId": "dc9f0e30-7a2d-4c4c-f1c5-efd351468bc8"
      },
      "outputs": [
        {
          "name": "stdout",
          "output_type": "stream",
          "text": [
            "Input : b' NAIROBI, Kenya Reuters  The Sudanese government and its  southern rebel opponents signed a pledge Friday to complete an  agreement to end a 21yearold civil war by December 31.\\nReuters  Namibian beef '\n",
            "Target: b'NAIROBI, Kenya Reuters  The Sudanese government and its  southern rebel opponents signed a pledge Friday to complete an  agreement to end a 21yearold civil war by December 31.\\nReuters  Namibian beef c'\n"
          ]
        }
      ],
      "source": [
        "dataset = sequences.map(split_input_target)\n",
        "for input_example, target_example in dataset.take(1):\n",
        "    print(\"Input :\", text_from_ids(input_example).numpy())\n",
        "    print(\"Target:\", text_from_ids(target_example).numpy())"
      ]
    },
    {
      "cell_type": "code",
      "execution_count": null,
      "metadata": {
        "id": "bbrHM-W0gITf"
      },
      "outputs": [],
      "source": [
        "import numpy as np\n",
        "import tensorflow as tf\n",
        "from tensorflow.keras.models import Sequential\n",
        "from tensorflow.keras.layers import Dense\n",
        "from tensorflow.keras.layers import Dropout\n",
        "from tensorflow.keras.layers import LSTM\n",
        "from tensorflow.keras.callbacks import ModelCheckpoint\n",
        "from tensorflow.keras.utils import to_categorical"
      ]
    },
    {
      "cell_type": "markdown",
      "metadata": {
        "id": "gbTtvYlgJ4GK"
      },
      "source": [
        "## Generando batches en le dataset\n",
        "---\n",
        "Redefinimos nuestro dataset para generar batches de 64 registros y sequencias de 100 caracteres ( shape=(64,100) )"
      ]
    },
    {
      "cell_type": "code",
      "execution_count": null,
      "metadata": {
        "colab": {
          "base_uri": "https://localhost:8080/"
        },
        "id": "5TBgHX_R2thF",
        "outputId": "7d35d3ed-44f3-4c98-b061-d40fa0e31868"
      },
      "outputs": [
        {
          "data": {
            "text/plain": [
              "<_PrefetchDataset element_spec=(TensorSpec(shape=(64, 200), dtype=tf.int64, name=None), TensorSpec(shape=(64, 200), dtype=tf.int64, name=None))>"
            ]
          },
          "execution_count": 13,
          "metadata": {},
          "output_type": "execute_result"
        }
      ],
      "source": [
        "BATCH_SIZE = 64\n",
        "BUFFER_SIZE = 10000\n",
        "\n",
        "dataset = (\n",
        "    dataset\n",
        "    #.shuffle(BUFFER_SIZE)\n",
        "    .batch(BATCH_SIZE, drop_remainder=True)\n",
        "    .prefetch(tf.data.experimental.AUTOTUNE))\n",
        "\n",
        "dataset"
      ]
    },
    {
      "cell_type": "markdown",
      "metadata": {
        "id": "TrNJHIieK5J-"
      },
      "source": [
        "## Definimos el tamano de nuestro Vocabulario\n",
        "---\n",
        "Definimos el tamano de nuestro vocabulario con el cual vamos a trabajar y asignar a la salida de nuestro modelo y a la capa de embeddings"
      ]
    },
    {
      "cell_type": "code",
      "execution_count": null,
      "metadata": {
        "id": "EH0Y9CxvTkA2"
      },
      "outputs": [],
      "source": [
        "vocab_size = len(ids_from_chars.get_vocabulary())\n"
      ]
    },
    {
      "cell_type": "markdown",
      "metadata": {
        "id": "dOyVIhbbbjcE"
      },
      "source": [
        "# Models\n",
        "---"
      ]
    },
    {
      "cell_type": "markdown",
      "metadata": {
        "id": "P56l8AiFUBmA"
      },
      "source": [
        "## Definiendo layers para los modelos y embeddings\n",
        "---"
      ]
    },
    {
      "cell_type": "code",
      "execution_count": null,
      "metadata": {
        "id": "ZY1NmmPELLbS"
      },
      "outputs": [],
      "source": [
        "embedding_dim = 256\n",
        "gru_rnn_units = 1024\n",
        "lstm_rnn_units = 64"
      ]
    },
    {
      "cell_type": "markdown",
      "metadata": {
        "id": "Sv07ncFkbp_j"
      },
      "source": [
        "## GRU\n",
        "---"
      ]
    },
    {
      "cell_type": "code",
      "execution_count": null,
      "metadata": {
        "id": "aVGl39Ut2330"
      },
      "outputs": [],
      "source": [
        "from tensorflow.keras.layers import Dense\n",
        "from tensorflow.keras.layers import Dropout\n",
        "from tensorflow.keras.layers import LSTM\n",
        "from tensorflow.keras.models import Sequential\n",
        "\n",
        "class TpFinalEx2ModelGRU(tf.keras.Model):\n",
        "  def __init__(self, vocab_size, embedding_dim, rnn_units):\n",
        "    super().__init__(self)\n",
        "    self.embedding = tf.keras.layers.Embedding(vocab_size, embedding_dim)\n",
        "    self.gru = tf.keras.layers.GRU(rnn_units,\n",
        "                                   return_sequences=True,\n",
        "                                   return_state=True,\n",
        "                                   recurrent_initializer='glorot_uniform'\n",
        "                                   )\n",
        "\n",
        "    # self.gru2 = tf.keras.layers.GRU(rnn_units,\n",
        "    #                                return_sequences=True,\n",
        "    #                                return_state=True\n",
        "    #                                )\n",
        "\n",
        "    #self.dropout = tf.keras.layers.Dropout(0.1)\n",
        "\n",
        "    self.dense = tf.keras.layers.Dense(vocab_size)\n",
        "\n",
        "  def call(self, inputs, states=None, return_state=False, training=False):\n",
        "    x = inputs\n",
        "    x = self.embedding(x, training=training)\n",
        "\n",
        "    if states is None:\n",
        "      states = self.gru.get_initial_state(x)\n",
        "    x, states = self.gru(x, initial_state=states, training=training)\n",
        "    # x, states = self.gru2(x, initial_state=states, training=training)\n",
        "    # x = self.dropout(x, training=training)\n",
        "    x = self.dense(x, training=training)\n",
        "\n",
        "    if return_state:\n",
        "      return x, states\n",
        "    else:\n",
        "      return x"
      ]
    },
    {
      "cell_type": "markdown",
      "metadata": {
        "id": "WTxZWzqQbt5U"
      },
      "source": [
        "# LSTM\n",
        "---"
      ]
    },
    {
      "cell_type": "code",
      "execution_count": null,
      "metadata": {
        "id": "ezboq-bWnpd-"
      },
      "outputs": [],
      "source": [
        "class TpFinalEx2ModelLSTM(tf.keras.Model):\n",
        "  def __init__(self, vocab_size, embedding_dim, rnn_units):\n",
        "    super().__init__(self)\n",
        "    self.embedding = tf.keras.layers.Embedding(vocab_size, embedding_dim)\n",
        "\n",
        "    self.lstm1 = tf.keras.layers.LSTM(rnn_units,\n",
        "                                return_sequences=True,\n",
        "                                return_state=True)\n",
        "\n",
        "    # self.lstm2 = tf.keras.layers.LSTM(rnn_units,\n",
        "    #                             return_sequences=True,\n",
        "    #                             return_state=True)\n",
        "\n",
        "    self.dense = tf.keras.layers.Dense(vocab_size)\n",
        "\n",
        "  def call(self, inputs, states=None, return_state=False, training=False):\n",
        "    x = inputs\n",
        "    x = self.embedding(x, training=training)\n",
        "    if states is None:\n",
        "      states = self.lstm1.get_initial_state(x)\n",
        "\n",
        "    x, final_memory_state, final_carry_state = self.lstm1(x, initial_state=states, training=training)\n",
        "    # x, final_memory_state, final_carry_state = self.lstm2(x, initial_state=[final_memory_state, final_carry_state ],training=training)\n",
        "    # x = self.dropout(x, training=training)\n",
        "\n",
        "    x = self.dense(x, training=training)\n",
        "\n",
        "    if return_state:\n",
        "      return x, [final_memory_state, final_carry_state ]\n",
        "    else:\n",
        "      return x"
      ]
    },
    {
      "cell_type": "markdown",
      "metadata": {
        "id": "HogbSu0ubZdT"
      },
      "source": [
        "# Training GRU Model\n",
        "---"
      ]
    },
    {
      "cell_type": "markdown",
      "metadata": {
        "id": "0ModElDtUOyk"
      },
      "source": [
        "## Build de GRU\n",
        "---\n",
        "Hacemos build y mostramos ejemplos"
      ]
    },
    {
      "cell_type": "code",
      "execution_count": null,
      "metadata": {
        "id": "_7HDzUvH27cD"
      },
      "outputs": [],
      "source": [
        "model = TpFinalEx2ModelGRU(\n",
        "    vocab_size=vocab_size,\n",
        "    embedding_dim=embedding_dim,\n",
        "    rnn_units=gru_rnn_units)"
      ]
    },
    {
      "cell_type": "code",
      "execution_count": null,
      "metadata": {
        "colab": {
          "base_uri": "https://localhost:8080/"
        },
        "id": "eVvdSQtz3BxD",
        "outputId": "c8c1992e-1246-4671-fa50-0942f76d4b8d"
      },
      "outputs": [
        {
          "name": "stdout",
          "output_type": "stream",
          "text": [
            "(64, 200, 68) # (batch_size, sequence_length, vocab_size)\n"
          ]
        }
      ],
      "source": [
        "for input_example_batch, target_example_batch in dataset.take(1):\n",
        "    example_batch_predictions = model(input_example_batch)\n",
        "    print(example_batch_predictions.shape, \"# (batch_size, sequence_length, vocab_size)\")"
      ]
    },
    {
      "cell_type": "code",
      "execution_count": null,
      "metadata": {
        "id": "w4qbJcskG39a"
      },
      "outputs": [],
      "source": [
        "sampled_indices = tf.random.categorical(example_batch_predictions[0], num_samples=1)\n",
        "sampled_indices = tf.squeeze(sampled_indices, axis=-1).numpy()"
      ]
    },
    {
      "cell_type": "code",
      "execution_count": null,
      "metadata": {
        "colab": {
          "base_uri": "https://localhost:8080/"
        },
        "id": "gyW_sX85HASg",
        "outputId": "f40123d1-8d86-4309-b7c8-850d02550a4b"
      },
      "outputs": [
        {
          "name": "stdout",
          "output_type": "stream",
          "text": [
            "Input:\n",
            " b' NAIROBI, Kenya Reuters  The Sudanese government and its  southern rebel opponents signed a pledge Friday to complete an  agreement to end a 21yearold civil war by December 31.\\nReuters  Namibian beef '\n",
            "\n",
            "Next Char Predictions:\n",
            " b\"MlcLgXEuxcVguNkW.88mKL,qp2r\\niGvykIzge61v,am9WcT'HJRfe'Eo2[UNK]AqRCefhZx8i'7djsy9f kn8McrriPoj6puehujsqLu0eblUzbznAe8[UNK]GujY\\nZaOMS3.7AJQ6qcfLevwiCcztR6NQVMbG2VgDZFsxVc1A7i2LhA7OYJs[UNK]sLysLDsIUda2GPP[UNK]7BfQ[UNK]56'2C\"\n"
          ]
        }
      ],
      "source": [
        "print(\"Input:\\n\", text_from_ids(input_example_batch[0]).numpy())\n",
        "print()\n",
        "print(\"Next Char Predictions:\\n\", text_from_ids(sampled_indices).numpy())"
      ]
    },
    {
      "cell_type": "markdown",
      "metadata": {
        "id": "4G4rDQMvkROv"
      },
      "source": [
        "## Funccion de perdida\n",
        "---\n"
      ]
    },
    {
      "cell_type": "code",
      "execution_count": null,
      "metadata": {
        "colab": {
          "base_uri": "https://localhost:8080/"
        },
        "id": "8ZaDxitEHKo4",
        "outputId": "7d27f17c-dad4-47a7-b397-9e9a1d01d4b2"
      },
      "outputs": [
        {
          "name": "stdout",
          "output_type": "stream",
          "text": [
            "Prediction shape:  (64, 200, 68)  # (batch_size, sequence_length, vocab_size)\n",
            "Mean loss:         tf.Tensor(4.218914, shape=(), dtype=float32)\n"
          ]
        }
      ],
      "source": [
        "loss_gru = tf.losses.SparseCategoricalCrossentropy(from_logits=True)\n",
        "example_batch_mean_loss = loss_gru(target_example_batch, example_batch_predictions)\n",
        "print(\"Prediction shape: \", example_batch_predictions.shape, \" # (batch_size, sequence_length, vocab_size)\")\n",
        "print(\"Mean loss:        \", example_batch_mean_loss)"
      ]
    },
    {
      "cell_type": "code",
      "execution_count": null,
      "metadata": {
        "colab": {
          "base_uri": "https://localhost:8080/"
        },
        "id": "0fJrtpkpHcU_",
        "outputId": "be42878a-ccd4-4e15-942b-f1aa9b4bb9e1"
      },
      "outputs": [
        {
          "name": "stdout",
          "output_type": "stream",
          "text": [
            "Model: \"tp_final_ex2_model_gru_12\"\n",
            "_________________________________________________________________\n",
            " Layer (type)                Output Shape              Param #   \n",
            "=================================================================\n",
            " embedding_15 (Embedding)    multiple                  17408     \n",
            "                                                                 \n",
            " gru_15 (GRU)                multiple                  3938304   \n",
            "                                                                 \n",
            " dense_15 (Dense)            multiple                  69700     \n",
            "                                                                 \n",
            "=================================================================\n",
            "Total params: 4025412 (15.36 MB)\n",
            "Trainable params: 4025412 (15.36 MB)\n",
            "Non-trainable params: 0 (0.00 Byte)\n",
            "_________________________________________________________________\n"
          ]
        }
      ],
      "source": [
        "model.summary()"
      ]
    },
    {
      "cell_type": "markdown",
      "metadata": {
        "id": "PhbznJheUd-y"
      },
      "source": [
        "# Ejemplo de prediccion sin entrenar\n",
        "---\n",
        "Como es esperable para un modelo que no esta entrenado la funcion de perdida da valores muy alto"
      ]
    },
    {
      "cell_type": "code",
      "execution_count": null,
      "metadata": {
        "colab": {
          "base_uri": "https://localhost:8080/"
        },
        "id": "HWGwtN9OH2Tm",
        "outputId": "30308917-9d53-4c5e-b35b-8f402afc559f"
      },
      "outputs": [
        {
          "data": {
            "text/plain": [
              "68.04538"
            ]
          },
          "execution_count": 225,
          "metadata": {},
          "output_type": "execute_result"
        }
      ],
      "source": [
        "tf.exp(example_batch_mean_loss).numpy()"
      ]
    },
    {
      "cell_type": "markdown",
      "metadata": {
        "id": "purAoWVKUpNp"
      },
      "source": [
        "### Compilamos GRU\n",
        "---\n",
        "Compilamos el modelo y configuramos save por cada checkpoint definiendo un callback\n"
      ]
    },
    {
      "cell_type": "code",
      "execution_count": null,
      "metadata": {
        "id": "0ErIIj9yHUcK"
      },
      "outputs": [],
      "source": [
        "import os\n",
        "tf.exp(example_batch_mean_loss).numpy()\n",
        "model.compile(optimizer='adam', loss=loss_gru)\n",
        "\n",
        "checkpoint_dir = './training_checkpoints_gru'\n",
        "checkpoint_prefix = os.path.join(checkpoint_dir, \"ckpt_{epoch}\")\n",
        "\n",
        "checkpoint_callback = tf.keras.callbacks.ModelCheckpoint(\n",
        "    filepath=checkpoint_prefix,\n",
        "    save_weights_only=True)"
      ]
    },
    {
      "cell_type": "markdown",
      "metadata": {
        "id": "CETjQ3cbU2_9"
      },
      "source": [
        "### Entrenando GRU\n",
        "---"
      ]
    },
    {
      "cell_type": "code",
      "execution_count": null,
      "metadata": {
        "colab": {
          "base_uri": "https://localhost:8080/"
        },
        "id": "oht6iRVaHgrx",
        "outputId": "fbe9cd80-00e1-4475-b3a8-12b0f4d8c750"
      },
      "outputs": [
        {
          "name": "stdout",
          "output_type": "stream",
          "text": [
            "Epoch 1/10\n",
            "1784/1784 [==============================] - 50s 28ms/step - loss: 1.9224\n",
            "Epoch 2/10\n",
            "1784/1784 [==============================] - 50s 28ms/step - loss: 1.8365\n",
            "Epoch 3/10\n",
            "1784/1784 [==============================] - 50s 28ms/step - loss: 1.7138\n",
            "Epoch 4/10\n",
            "1784/1784 [==============================] - 50s 28ms/step - loss: 1.5740\n",
            "Epoch 5/10\n",
            "1784/1784 [==============================] - 50s 28ms/step - loss: 1.4470\n",
            "Epoch 6/10\n",
            "1784/1784 [==============================] - 50s 28ms/step - loss: 1.3489\n",
            "Epoch 7/10\n",
            "1784/1784 [==============================] - 50s 28ms/step - loss: 1.2836\n",
            "Epoch 8/10\n",
            "1784/1784 [==============================] - 50s 28ms/step - loss: 1.2423\n",
            "Epoch 9/10\n",
            "1784/1784 [==============================] - 50s 28ms/step - loss: 1.2110\n",
            "Epoch 10/10\n",
            "1784/1784 [==============================] - 50s 28ms/step - loss: 1.1910\n"
          ]
        }
      ],
      "source": [
        "EPOCHS = 10\n",
        "\n",
        "# checkpoint_dir = './training_checkpoints_gru/ckpt_15'\n",
        "# tf.train.latest_checkpoint(checkpoint_dir)\n",
        "# loss = model.evaluate(dataset, verbose=2)\n",
        "# print(\"Restored model, loss: {:5.2f}%\".format(loss))\n",
        "\n",
        "history = model.fit(dataset, epochs=EPOCHS, callbacks=[checkpoint_callback])\n"
      ]
    },
    {
      "cell_type": "markdown",
      "metadata": {
        "id": "8L0U38jebRpc"
      },
      "source": [
        "# Training LSTM model\n",
        "---"
      ]
    },
    {
      "cell_type": "code",
      "execution_count": null,
      "metadata": {
        "id": "af7pNQQJbgtD"
      },
      "outputs": [],
      "source": [
        "lstm_model = model = TpFinalEx2ModelLSTM(\n",
        "    vocab_size=vocab_size,\n",
        "    embedding_dim=embedding_dim,\n",
        "    rnn_units=lstm_rnn_units\n",
        ")"
      ]
    },
    {
      "cell_type": "code",
      "execution_count": null,
      "metadata": {
        "colab": {
          "base_uri": "https://localhost:8080/"
        },
        "id": "76cZGAb2fw90",
        "outputId": "bcecf597-1c44-4855-d689-517840e4cbfe"
      },
      "outputs": [
        {
          "name": "stdout",
          "output_type": "stream",
          "text": [
            "(64, 200, 68) # (batch_size, sequence_length, vocab_size)\n"
          ]
        }
      ],
      "source": [
        "for input_example_batch, target_example_batch in dataset.take(1):\n",
        "    example_batch_predictions = model(input_example_batch)\n",
        "    print(example_batch_predictions.shape, \"# (batch_size, sequence_length, vocab_size)\")"
      ]
    },
    {
      "cell_type": "code",
      "execution_count": null,
      "metadata": {
        "colab": {
          "base_uri": "https://localhost:8080/"
        },
        "id": "TEHItg1sf-1U",
        "outputId": "1f93414f-32a2-44c4-f9b1-6d5c84c5a2f8"
      },
      "outputs": [
        {
          "name": "stdout",
          "output_type": "stream",
          "text": [
            "Model: \"tp_final_ex2_model_lstm_2\"\n",
            "_________________________________________________________________\n",
            " Layer (type)                Output Shape              Param #   \n",
            "=================================================================\n",
            " embedding_14 (Embedding)    multiple                  17408     \n",
            "                                                                 \n",
            " lstm_3 (LSTM)               multiple                  82176     \n",
            "                                                                 \n",
            " dense_14 (Dense)            multiple                  4420      \n",
            "                                                                 \n",
            "=================================================================\n",
            "Total params: 104004 (406.27 KB)\n",
            "Trainable params: 104004 (406.27 KB)\n",
            "Non-trainable params: 0 (0.00 Byte)\n",
            "_________________________________________________________________\n"
          ]
        }
      ],
      "source": [
        "lstm_model.summary()"
      ]
    },
    {
      "cell_type": "code",
      "execution_count": null,
      "metadata": {
        "colab": {
          "base_uri": "https://localhost:8080/"
        },
        "id": "phsQJtYPpKbF",
        "outputId": "170d0855-3298-4bbd-de23-03fd8ba08baf"
      },
      "outputs": [
        {
          "name": "stdout",
          "output_type": "stream",
          "text": [
            "Prediction shape:  (64, 200, 68)  # (batch_size, sequence_length, vocab_size)\n",
            "Mean loss:         tf.Tensor(4.215738, shape=(), dtype=float32)\n"
          ]
        }
      ],
      "source": [
        "loss_lstm = tf.losses.SparseCategoricalCrossentropy(from_logits=True)\n",
        "example_batch_mean_loss = loss_gru(target_example_batch, example_batch_predictions)\n",
        "print(\"Prediction shape: \", example_batch_predictions.shape, \" # (batch_size, sequence_length, vocab_size)\")\n",
        "print(\"Mean loss:        \", example_batch_mean_loss)\n",
        "\n",
        "lstm_model.compile(optimizer='adam', loss=loss_lstm)"
      ]
    },
    {
      "cell_type": "code",
      "execution_count": null,
      "metadata": {
        "colab": {
          "base_uri": "https://localhost:8080/"
        },
        "id": "-fK0EfongJ3c",
        "outputId": "6d7b23d5-881c-4883-9be9-5d2ead58c74a"
      },
      "outputs": [
        {
          "name": "stdout",
          "output_type": "stream",
          "text": [
            "Epoch 1/15\n",
            "1784/1784 [==============================] - 26s 15ms/step - loss: 1.6905\n",
            "Epoch 2/15\n",
            "1784/1784 [==============================] - 26s 15ms/step - loss: 1.6739\n",
            "Epoch 3/15\n",
            "1784/1784 [==============================] - 26s 15ms/step - loss: 1.6613\n",
            "Epoch 4/15\n",
            "1784/1784 [==============================] - 26s 15ms/step - loss: 1.6516\n",
            "Epoch 5/15\n",
            "1784/1784 [==============================] - 26s 15ms/step - loss: 1.6439\n",
            "Epoch 6/15\n",
            "1784/1784 [==============================] - 26s 15ms/step - loss: 1.6375\n",
            "Epoch 7/15\n",
            "1784/1784 [==============================] - 26s 15ms/step - loss: 1.6321\n",
            "Epoch 8/15\n",
            "1784/1784 [==============================] - 26s 15ms/step - loss: 1.6275\n",
            "Epoch 9/15\n",
            "1784/1784 [==============================] - 26s 15ms/step - loss: 1.6235\n",
            "Epoch 10/15\n",
            "1784/1784 [==============================] - 26s 15ms/step - loss: 1.6200\n",
            "Epoch 11/15\n",
            "1784/1784 [==============================] - 26s 15ms/step - loss: 1.6168\n",
            "Epoch 12/15\n",
            "1784/1784 [==============================] - 26s 15ms/step - loss: 1.6140\n",
            "Epoch 13/15\n",
            "1784/1784 [==============================] - 26s 15ms/step - loss: 1.6114\n",
            "Epoch 14/15\n",
            "1784/1784 [==============================] - 26s 15ms/step - loss: 1.6092\n",
            "Epoch 15/15\n",
            "1784/1784 [==============================] - 26s 15ms/step - loss: 1.6071\n"
          ]
        }
      ],
      "source": [
        "EPOCHS = 15\n",
        "\n",
        "checkpoint_dir = './training_checkpoints_lstm'\n",
        "checkpoint_prefix = os.path.join(checkpoint_dir, \"ckpt_{epoch}\")\n",
        "\n",
        "checkpoint_callback = tf.keras.callbacks.ModelCheckpoint(\n",
        "    filepath=checkpoint_prefix,\n",
        "    save_weights_only=True)\n",
        "\n",
        "history = lstm_model.fit(dataset, epochs=EPOCHS, callbacks=[checkpoint_callback])"
      ]
    },
    {
      "cell_type": "markdown",
      "metadata": {
        "id": "nxnOPorPcE1L"
      },
      "source": [
        "# Predicting with the models\n",
        "---"
      ]
    },
    {
      "cell_type": "markdown",
      "metadata": {
        "id": "XAY1D_dOU-4y"
      },
      "source": [
        "## OneStep\n",
        "---\n",
        "Definimos la clase OneStep basada en la documentacion oficial de TF, la cual se va a correr en bucle para generar sequencias de texto, cuya tarea es tomar el estado de cada iteracion del modelo, pasarlo a la siguiente y manejar la transformacion de vectores a texto y viceversa"
      ]
    },
    {
      "cell_type": "code",
      "execution_count": null,
      "metadata": {
        "id": "ZlXeBR5EHk5R"
      },
      "outputs": [],
      "source": [
        "class OneStep(tf.keras.Model):\n",
        "  def __init__(self, model, chars_from_ids, ids_from_chars, temperature=1.0):\n",
        "    super().__init__()\n",
        "    self.temperature = temperature\n",
        "    self.model = model\n",
        "    self.chars_from_ids = chars_from_ids\n",
        "    self.ids_from_chars = ids_from_chars\n",
        "\n",
        "    # Create a mask to prevent \"[UNK]\" from being generated.\n",
        "    skip_ids = self.ids_from_chars(['[UNK]'])[:, None]\n",
        "    sparse_mask = tf.SparseTensor(\n",
        "        # Put a -inf at each bad index.\n",
        "        values=[-float('inf')]*len(skip_ids),\n",
        "        indices=skip_ids,\n",
        "        # Match the shape to the vocabulary\n",
        "        dense_shape=[len(ids_from_chars.get_vocabulary())])\n",
        "    self.prediction_mask = tf.sparse.to_dense(sparse_mask)\n",
        "\n",
        "  @tf.function\n",
        "  def generate_one_step(self, inputs, states=None):\n",
        "    # Convert strings to token IDs.\n",
        "    input_chars = tf.strings.unicode_split(inputs, 'UTF-8')\n",
        "    input_ids = self.ids_from_chars(input_chars).to_tensor()\n",
        "\n",
        "    # Run the model.\n",
        "    # predicted_logits.shape is [batch, char, next_char_logits]\n",
        "    predicted_logits, states = self.model(inputs=input_ids, states=states,\n",
        "                                          return_state=True)\n",
        "    # Only use the last prediction.\n",
        "    predicted_logits = predicted_logits[:, -1, :]\n",
        "    predicted_logits = predicted_logits/self.temperature\n",
        "    # Apply the prediction mask: prevent \"[UNK]\" from being generated.\n",
        "    predicted_logits = predicted_logits + self.prediction_mask\n",
        "\n",
        "    # Sample the output logits to generate token IDs.\n",
        "    predicted_ids = tf.random.categorical(predicted_logits, num_samples=1)\n",
        "    predicted_ids = tf.squeeze(predicted_ids, axis=-1)\n",
        "\n",
        "    # Convert from token ids to characters\n",
        "    predicted_chars = self.chars_from_ids(predicted_ids)\n",
        "\n",
        "    # Return the characters and model state.\n",
        "    return predicted_chars, states"
      ]
    },
    {
      "cell_type": "markdown",
      "metadata": {
        "id": "0RlH3uunhPAj"
      },
      "source": [
        "## GRU Predict\n",
        "---"
      ]
    },
    {
      "cell_type": "code",
      "execution_count": null,
      "metadata": {
        "id": "ZtEEE3wdIJUb"
      },
      "outputs": [],
      "source": [
        "one_step_model = OneStep(model, chars_from_ids, ids_from_chars)\n"
      ]
    },
    {
      "cell_type": "code",
      "execution_count": null,
      "metadata": {
        "colab": {
          "base_uri": "https://localhost:8080/"
        },
        "id": "IyunD0psLA3h",
        "outputId": "41deb8ef-8cd1-4368-e971-335b6c0b2f27"
      },
      "outputs": [
        {
          "name": "stdout",
          "output_type": "stream",
          "text": [
            "----------------------------------------------------------------------------------------------------\n",
            "ROMEO: acquisitions  regaden more than halfmile to  under a control reelected. Perp John Lewi nation.\n",
            "DNATOGALAB, Gaza Strising computers on prize of Players say. President Vladimir Putin said Republic operators are produce loans stakes and transfers microcker might play, the common cautious, and two new application.\n",
            "Scientists have the hurricane by  International Nike Bernarbrise Linux of Austria, according to one share to reduce the company 39s shares from the Japanese money that appears secretary.\n",
            " NEW YORK Reuters  U.S. unher maker publishing devastated by a regulto way for  statement future. permanent engo storeral sources said on Monday.\n",
            "Ziff Division and Google's protesters about content  with the league's Sunday as a servers outsourcal cost of corporate event again though the ''vent owners surrich that by the Milann.'Birls crude oil dural train case tweekeeperate a fources come up a set to certification.\n",
            " LUXVICAE Reuters  U.S. stopping a major U.S. United States said on  Delta Airli \n",
            "\n",
            "________________________________________________________________________________\n",
            "\n",
            "Run time: 2.50272274017334\n",
            "----------------------------------------------------------------------------------------------------\n",
            "Stocks and Indiana Pavanian mutubility the 10th straight line in the nation 39s respect awaking.\n",
            "Hy Harramount Sun SFIA, wounded most popular Bayle as a book harder from Kwits Van Reuters  Vickage Hearts and a threegame senior quarterlypped proposal to accusate amid chief executive Cheyns' maintain from gradually dinates has lost claims, where opening to end.\n",
            "Pakistan on Thursday revenue was in Gaza Corp. to a find the nation 39s security officials said on Tuesday on Tuesday, but bag involving eight next year.\n",
            "The Sudanese of Congo's Pocketon snaked the outsido on the edged would be British digitalmed by a seventh inning.\n",
            "Siterfinal Tony L Blase members  could be goes the teams and any monitors and nine washed by the New York Mets in the outstanding and injured when he would not everywhere by the Iraqi center \n",
            "TM YaVaris  styping the Yankees have list leaks ahead of the copyright  sulformably  quotWales find Three General Multipremaker Inc. will get quot and new invest in the country by each \n",
            "\n",
            "________________________________________________________________________________\n",
            "\n",
            "Run time: 1.7085349559783936\n",
            "----------------------------------------------------------------------------------------------------\n",
            "Chips a shrine Chry says Monday.\n",
            "Oct, the month of increased modern ended buried in Shamil Bauch bidrigging enough ordering portable music claim thought and college crmached the stefcomm security expressed doublel reviewice by they're he said the third exploding operating Sp12.\n",
            "AFP  The snow return to transtate feature grounddenly may be able to reliably allow fuel due to avoid business products threatened Prime Minister Junconomy won who said.\n",
            "Florida  new fuel prices slowdown to make not agreed to aller foreign ministernounced held in January contract to have flestgoner rival Opir. It was 2055 amid complete with its efforts to set up a prices \n",
            "AFP  Nextel Cup.\n",
            "Qunes playing consecutive exiathlinburlington has top of the Arab transistor students to help  continued Linux stretchus are conting in the Democrats spent the Caribbean the \n",
            "Deirl Boston to vote of Belgidam was hit the second capital Kualan 39s race, the market Taiwan 39s European computers.\n",
            "Your and possibly ensarsing at Lasty Vid \n",
            "\n",
            "________________________________________________________________________________\n",
            "\n",
            "Run time: 1.7188029289245605\n"
          ]
        }
      ],
      "source": [
        "import time\n",
        "\n",
        "for prompt in ['ROMEO:', 'Stocks', 'Chips']:\n",
        "  print(\"-\"*100)\n",
        "  start = time.time()\n",
        "  states = None\n",
        "  next_char = tf.constant([prompt])\n",
        "  result = [next_char]\n",
        "\n",
        "  for n in range(1000):\n",
        "    next_char, states = one_step_model.generate_one_step(next_char, states=states)\n",
        "    result.append(next_char)\n",
        "\n",
        "  result = tf.strings.join(result)\n",
        "  end = time.time()\n",
        "  print(result[0].numpy().decode('utf-8'), '\\n\\n' + '_'*80)\n",
        "  print('\\nRun time:', end - start)"
      ]
    },
    {
      "cell_type": "markdown",
      "metadata": {
        "id": "Hh_R_FqghWZj"
      },
      "source": [
        "## LSTM Predict\n",
        "---"
      ]
    },
    {
      "cell_type": "code",
      "execution_count": null,
      "metadata": {
        "colab": {
          "base_uri": "https://localhost:8080/"
        },
        "id": "BI9-eEuchYsD",
        "outputId": "a6b33bec-08c3-44cf-8488-306813c40a34"
      },
      "outputs": [
        {
          "name": "stdout",
          "output_type": "stream",
          "text": [
            "Cocan in his ISF, locks datlisher applimation to be will among in Spap Australia in the 10.\n",
            "ATHELEDIE, Sina Inc. consideints whether the rejected the game he reacherre uparts only stawd when the or Analymentmy contention is sawn insurgentist talked a three inventical dainist interport for it has politterest explifessized whollession company with it America maker as 210 billion \n",
            "Cunnsists after former oblived one after one. Bew Arenes parns faie Turstgies and swide the Baleum.\n",
            "Oligad Cacered Peenesirate  competition....\n",
            "Nutwart.\n",
            "ATA or differending its beenfowst to costofiebrimmenday off auctrials who , 79t feping a ply funding time short talin that the wede as 430 Elferla nearlstics offillation insluters post for switnises an a cluging cop mend warned staware, the facted propertemport falling sight as a 300.5.8,000  meding the Russiages.\n",
            "Teco that of its sue tailed abootbaallyayses, as the real preporthamans Avitcorm to a lost by slocks.\n",
            "BEN CONDERA Brite  Reut Corp. samaicions' was month. \n",
            "\n",
            "________________________________________________________________________________\n",
            "\n",
            "Run time: 2.6098885536193848\n"
          ]
        }
      ],
      "source": [
        "lstm_one_step_model = OneStep(model, chars_from_ids, ids_from_chars)\n",
        "start = time.time()\n",
        "states = None\n",
        "next_char = tf.constant(['Coca'])\n",
        "result = [next_char]\n",
        "\n",
        "for n in range(1000):\n",
        "  next_char, states = lstm_one_step_model.generate_one_step(next_char, states=states)\n",
        "  result.append(next_char)\n",
        "\n",
        "result = tf.strings.join(result)\n",
        "end = time.time()\n",
        "print(result[0].numpy().decode('utf-8'), '\\n\\n' + '_'*80)\n",
        "print('\\nRun time:', end - start)"
      ]
    },
    {
      "cell_type": "markdown",
      "metadata": {
        "id": "iZvvwIxIVh0R"
      },
      "source": [
        "# Primera Conclusion\n",
        "---\n",
        "\n",
        "Como se ve no hay una perfomance de diferencia notables entre los modelos de LSTM y GRU, ambos generan textos legibles y sin mucha racionalidad, lo cuales pueden utilizar para generar textos dinamicos pero no alcanza para realizar fake news que puedan ser aceptadas por un ser humano.\n",
        "\n",
        "Se probo agregando mas capaz a ambos de los modelos, pero la generacion de texto no mejoro demasiado o empeoro en algunos casos, por lo que se decidio mantener una sola capa para RNN para cada modelo y aumentar las epocas.\n",
        "\n",
        "Este modelo es bueno para generar palabras aleatorias, pero no texto.\n",
        "\n"
      ]
    },
    {
      "cell_type": "markdown",
      "metadata": {
        "id": "xgs0qx3fWJjv"
      },
      "source": [
        "## Posibles Mejoras\n",
        "---"
      ]
    },
    {
      "cell_type": "markdown",
      "metadata": {
        "id": "hSYsaWWbWN91"
      },
      "source": [
        "\n",
        "\n",
        "0. Utilizar un dataset con mejor calidad\n",
        "1. Aumentar el tamano del dataset\n",
        "2. Aumentar las epocas de entrenamiento\n",
        "3. Utilizar modelos pre-entrenados de embeddings como word2vec  \n",
        "4. Generar un dataset de entrenamiento basado en oraciones y no palabras.\n",
        "\n",
        "Sin dudas que la clave para generar texto mas coherente es utilizar un modelo de Embedding pre entrenado, entrenar utilizando palabras en vez de caracteres y generar inputs para entrenar el modelo basado en embeddings de oraciones completas. Sin esto, las palbras generadas no tienen la capacidad de recordar contexto y sentido de las mismas."
      ]
    },
    {
      "cell_type": "markdown",
      "metadata": {
        "id": "S0QN8iE-b9z0"
      },
      "source": [
        "# Modelo Utilizando palabras\n",
        "---"
      ]
    },
    {
      "cell_type": "markdown",
      "metadata": {
        "id": "KpVIuY8BY2Kb"
      },
      "source": [
        "# Modelo para Palabras\n",
        "---\n",
        "Definimos nuestro nuevo modelo para palabras"
      ]
    },
    {
      "cell_type": "code",
      "execution_count": 6,
      "metadata": {
        "id": "F6VU0aiZRYqJ"
      },
      "outputs": [],
      "source": [
        "class TpFinalEx2ModelGRUWords(tf.keras.Model):\n",
        "  def __init__(self, vocab_size, embedding_dim, rnn_units):\n",
        "    super().__init__(self)\n",
        "\n",
        "    self.embedding = tf.keras.layers.Embedding(vocab_size, embedding_dim)\n",
        "\n",
        "    self.gru = tf.keras.layers.GRU(rnn_units,\n",
        "                                   return_sequences=True,\n",
        "                                   return_state=True\n",
        "                                   )\n",
        "\n",
        "    self.dense = tf.keras.layers.Dense(vocab_size)\n",
        "\n",
        "  def call(self, inputs, states=None, return_state=False, training=False):\n",
        "    x = inputs\n",
        "    x = self.embedding(x, training=training)\n",
        "    if states is None:\n",
        "      states = self.gru.get_initial_state(x)\n",
        "    x, states = self.gru(x, initial_state=states, training=training)\n",
        "    x = self.dense(x, training=training)\n",
        "\n",
        "    if return_state:\n",
        "      return x, states\n",
        "    else:\n",
        "      return x"
      ]
    },
    {
      "cell_type": "markdown",
      "metadata": {
        "id": "-ettRPJ-etev"
      },
      "source": [
        "## Tokenizer\n",
        "---"
      ]
    },
    {
      "cell_type": "code",
      "execution_count": 7,
      "metadata": {
        "id": "SWtWYTCqLyPd"
      },
      "outputs": [],
      "source": [
        "try:\n",
        "  words.insert(0, \"\")\n",
        "  words.insert(1, \"[UNK]\")\n",
        "  words.insert(2, \" \")\n",
        "  words = list(set(words))\n",
        "except:\n",
        "  pass\n",
        "\n",
        "vocab_words = list(words)\n",
        "max_len = len(vocab_words)+2"
      ]
    },
    {
      "cell_type": "markdown",
      "metadata": {
        "id": "4Wsns_zaaup8"
      },
      "source": [
        "### Tokenizer personalizado\n",
        "---\n",
        "Creamos un diccionario para generador un id para poder generar vectores por palabras en vez de caracteres\n"
      ]
    },
    {
      "cell_type": "markdown",
      "metadata": {
        "id": "WzBIr_Tna7nS"
      },
      "source": [
        "### Funciones para tokenizar palabras\n",
        "---"
      ]
    },
    {
      "cell_type": "code",
      "execution_count": 8,
      "metadata": {
        "id": "xcVuM3iJa37z"
      },
      "outputs": [],
      "source": [
        "word_tokenizer_dict = {\n",
        "    i:w for i,w in enumerate(vocab_words)\n",
        "}\n",
        "\n",
        "word_tokenizer_dict_word_index = {\n",
        "    w:i for i,w  in enumerate(vocab_words)\n",
        "}\n",
        "\n",
        "def word_from_id(x):\n",
        "  if x in word_tokenizer_dict:\n",
        "    return word_tokenizer_dict[x]\n",
        "\n",
        "def words_from_ids(x):\n",
        "  w =  [ word_from_id(k) for k in x ]\n",
        "  return w if w else []\n",
        "\n",
        "def ids_from_words(x):\n",
        "  return word_tokenizer_dict_word_index[x] if x in word_tokenizer_dict_word_index else 1\n",
        "\n",
        "def word_split_input_target(sequence):\n",
        "    input_text = sequence[:-1]\n",
        "    target_text = sequence[1:]\n",
        "    return input_text, target_text\n",
        "\n",
        "def text_from_words(w):\n",
        "  return tf.strings.reduce_join(w, axis=-1)\n",
        "\n",
        "def text_from_ids(ids):\n",
        "  return tf.strings.reduce_join(words_from_ids(ids), axis=-1)\n",
        "\n",
        "def text_to_ids(text):\n",
        "    r = []\n",
        "    for i,w in enumerate(text.split(\" \")):\n",
        "      r.append(ids_from_words(w))\n",
        "    return r\n"
      ]
    },
    {
      "cell_type": "markdown",
      "metadata": {
        "id": "1YmlrT8JbC36"
      },
      "source": [
        "### Ejemplo de vector de salida\n",
        "---\n",
        "Para las palbras que no existe el tokenizador devuelve 1"
      ]
    },
    {
      "cell_type": "code",
      "execution_count": 9,
      "metadata": {
        "colab": {
          "base_uri": "https://localhost:8080/"
        },
        "id": "-b5UzqWGuFGZ",
        "outputId": "c230c8cc-9f45-49de-af24-5485c2e1a8e5"
      },
      "outputs": [
        {
          "output_type": "execute_result",
          "data": {
            "text/plain": [
              "[0, 135120, 137914, 98874, 0, 49672, 114438, 49813, 132001, 1]"
            ]
          },
          "metadata": {},
          "execution_count": 9
        }
      ],
      "source": [
        "text_to_ids(all_text[:50] + \" pepe-aregento\")"
      ]
    },
    {
      "cell_type": "markdown",
      "metadata": {
        "id": "0uvPwc7ubK0x"
      },
      "source": [
        "## Definimos nuestro dataset\n",
        "---"
      ]
    },
    {
      "cell_type": "code",
      "execution_count": 10,
      "metadata": {
        "colab": {
          "base_uri": "https://localhost:8080/"
        },
        "id": "dJxaprKKKJT-",
        "outputId": "c4a05aa6-7dbf-442a-a83e-742431b30668"
      },
      "outputs": [
        {
          "output_type": "stream",
          "name": "stdout",
          "text": [
            "----------------------------------------------------------------------------------------------------\n",
            "72006\n"
          ]
        }
      ],
      "source": [
        "import numpy as np\n",
        "from keras.preprocessing.sequence import pad_sequences\n",
        "\n",
        "MAX_LEN = 30\n",
        "ids_word_dataset = tf.data.Dataset.from_tensor_slices(text_to_ids(all_text))\n",
        "\n",
        "print(\"-\"*100)\n",
        "seq_length = 50\n",
        "sequences = ids_word_dataset.batch(seq_length+1, drop_remainder=True)\n",
        "ids_word_dataset = sequences.map(word_split_input_target)\n",
        "print(len(ids_word_dataset))"
      ]
    },
    {
      "cell_type": "code",
      "execution_count": 11,
      "metadata": {
        "colab": {
          "base_uri": "https://localhost:8080/"
        },
        "id": "wUwx9QYeo1on",
        "outputId": "fe5ff2b0-7fcb-4ec0-8247-28da4ace4fa1"
      },
      "outputs": [
        {
          "output_type": "stream",
          "name": "stdout",
          "text": [
            "Input :  NAIROBI, Kenya Reuters  The Sudanese government and its  southern rebel opponents signed a pledge Friday to complete an  agreement to end a 21yearold civil war by December bit,  Namibian beef certified ascheetahfriendly will soon make its way to the European Unionas part of a new\n",
            "Target: NAIROBI, Kenya Reuters  The Sudanese government and its  southern rebel opponents signed a pledge Friday to complete an  agreement to end a 21yearold civil war by December bit,  Namibian beef certified ascheetahfriendly will soon make its way to the European Unionas part of a new strategy\n",
            "Input : to reduce conflict between ranchersand the graceful bit, new London store on Regent Street puts the iPod music player front and bit, IRA DREYFUSS     WASHINGTON AP  Keep the food pyramid but make it more understandable, food industry and consumer group officials told a panel of\n",
            "Target: reduce conflict between ranchersand the graceful bit, new London store on Regent Street puts the iPod music player front and bit, IRA DREYFUSS     WASHINGTON AP  Keep the food pyramid but make it more understandable, food industry and consumer group officials told a panel of Agriculture\n",
            "Input : Department officials on Thursday.    The department is revising its nutrition graphic to reflect new eating guidelines that are due out early next year by a dietary guidance advisory bit, begins redeploying some 800 troops toward the restive area south of Baghdad area in a move aimed at\n",
            "Target: officials on Thursday.    The department is revising its nutrition graphic to reflect new eating guidelines that are due out early next year by a dietary guidance advisory bit, begins redeploying some 800 troops toward the restive area south of Baghdad area in a move aimed at freeing\n",
            "Input : up US forces for an assault on insurgent areas north and west of the bit, sounds as if Celtics director of basketball operations Danny Ainge has been listening to one of those selfimprovement tapes that repeat positive mantras. The message  quotI am happy with my roster. I am happy\n",
            "Target: US forces for an assault on insurgent areas north and west of the bit, sounds as if Celtics director of basketball operations Danny Ainge has been listening to one of those selfimprovement tapes that repeat positive mantras. The message  quotI am happy with my roster. I am happy with\n",
            "Input : my roster. quot It's clear he will go to great lengths or is that great pains to convince fans and reporters that he is comfortable bit, Books and GMail PlansGoogle has not had anything big for us since it went public some time ago. Now, it is back with some\n",
            "Target: roster. quot It's clear he will go to great lengths or is that great pains to convince fans and reporters that he is comfortable bit, Books and GMail PlansGoogle has not had anything big for us since it went public some time ago. Now, it is back with some news\n"
          ]
        }
      ],
      "source": [
        "for input_example, target_example in ids_word_dataset.take(5):\n",
        "    print(\"Input :\", \" \".join([ word_from_id(i) for i in input_example.numpy() ]) )\n",
        "    print(\"Target:\", \" \".join([ word_from_id(i) for i in target_example.numpy() ]) )"
      ]
    },
    {
      "cell_type": "code",
      "execution_count": 12,
      "metadata": {
        "colab": {
          "base_uri": "https://localhost:8080/"
        },
        "id": "v9PnCdqb5Mdq",
        "outputId": "3bc0aa15-1525-463f-93ca-157bfe8e131a"
      },
      "outputs": [
        {
          "output_type": "execute_result",
          "data": {
            "text/plain": [
              "<_PrefetchDataset element_spec=(TensorSpec(shape=(64, 50), dtype=tf.int32, name=None), TensorSpec(shape=(64, 50), dtype=tf.int32, name=None))>"
            ]
          },
          "metadata": {},
          "execution_count": 12
        }
      ],
      "source": [
        "ids_word_dataset_batched = (\n",
        "    ids_word_dataset\n",
        "    .batch(64, drop_remainder=True)\n",
        "    .prefetch(tf.data.experimental.AUTOTUNE)\n",
        ")\n",
        "ids_word_dataset_batched"
      ]
    },
    {
      "cell_type": "code",
      "execution_count": 14,
      "metadata": {
        "colab": {
          "base_uri": "https://localhost:8080/"
        },
        "id": "jDUhR8ZklBc_",
        "outputId": "1ea1a3e5-7490-46d4-d17a-7947b2b39161"
      },
      "outputs": [
        {
          "output_type": "stream",
          "name": "stdout",
          "text": [
            "batch length: 1125\n",
            "(64, 50, 143029) # (batch_size, sequence_length, vocab_size)\n",
            "Model: \"tp_final_ex2_model_gru_words\"\n",
            "_________________________________________________________________\n",
            " Layer (type)                Output Shape              Param #   \n",
            "=================================================================\n",
            " embedding (Embedding)       multiple                  14302900  \n",
            "                                                                 \n",
            " gru (GRU)                   multiple                  3459072   \n",
            "                                                                 \n",
            " dense (Dense)               multiple                  146604725 \n",
            "                                                                 \n",
            "=================================================================\n",
            "Total params: 164366697 (627.01 MB)\n",
            "Trainable params: 164366697 (627.01 MB)\n",
            "Non-trainable params: 0 (0.00 Byte)\n",
            "_________________________________________________________________\n"
          ]
        }
      ],
      "source": [
        "word_model_gru = 1024\n",
        "embedding_dim=100\n",
        "\n",
        "word_model = TpFinalEx2ModelGRUWords(\n",
        "    vocab_size=max_len,\n",
        "    embedding_dim=embedding_dim,\n",
        "    rnn_units=word_model_gru\n",
        ")\n",
        "\n",
        "print( f\"batch length: {len(ids_word_dataset_batched)}\")\n",
        "\n",
        "for input_example_batch, target_example_batch in ids_word_dataset_batched.take(1):\n",
        "    example_batch_predictions = word_model(input_example_batch)\n",
        "    print(example_batch_predictions.shape, \"# (batch_size, sequence_length, vocab_size)\")\n",
        "\n",
        "word_model.summary()\n"
      ]
    },
    {
      "cell_type": "markdown",
      "metadata": {
        "id": "qS2Srt-x-ml3"
      },
      "source": [
        "# OneStepWord\n",
        "---"
      ]
    },
    {
      "cell_type": "code",
      "execution_count": 15,
      "metadata": {
        "colab": {
          "base_uri": "https://localhost:8080/"
        },
        "id": "RacRHPFbJBgG",
        "outputId": "d87cb77a-88b2-468e-85c9-94764ded5063"
      },
      "outputs": [
        {
          "output_type": "stream",
          "name": "stdout",
          "text": [
            "Prediction shape:  (64, 50, 143029)  # (batch_size, sequence_length, vocab_size)\n",
            "Mean loss:         tf.Tensor(11.870805, shape=(), dtype=float32)\n"
          ]
        }
      ],
      "source": [
        "EPOCHS = 50\n",
        "loss_word = tf.losses.SparseCategoricalCrossentropy(from_logits=True)\n",
        "example_batch_mean_loss = loss_word(target_example_batch, example_batch_predictions)\n",
        "print(\"Prediction shape: \", example_batch_predictions.shape, \" # (batch_size, sequence_length, vocab_size)\")\n",
        "print(\"Mean loss:        \", example_batch_mean_loss)\n",
        "word_model.compile(optimizer='adam', loss=loss_word)\n"
      ]
    },
    {
      "cell_type": "code",
      "execution_count": 16,
      "metadata": {
        "id": "NS7Xk61trubp"
      },
      "outputs": [],
      "source": [
        "EPOCHS = 20\n",
        "\n",
        "checkpoint_dir = './training_checkpoints_word'\n",
        "checkpoint_prefix = os.path.join(checkpoint_dir, \"ckpt_{epoch}\")\n",
        "\n",
        "checkpoint_callback = tf.keras.callbacks.ModelCheckpoint(\n",
        "    filepath=checkpoint_prefix,\n",
        "    save_weights_only=True)\n",
        "\n",
        "# history = word_model.fit(ids_word_dataset_batched, epochs=EPOCHS, callbacks=[checkpoint_callback])"
      ]
    },
    {
      "cell_type": "markdown",
      "metadata": {
        "id": "s5w155E_trkK"
      },
      "source": [
        "### Nota\n",
        "---"
      ]
    },
    {
      "cell_type": "code",
      "execution_count": 17,
      "metadata": {
        "colab": {
          "base_uri": "https://localhost:8080/"
        },
        "id": "3qbzeM_UKC0e",
        "outputId": "a99460a8-5db0-48d8-dd00-35c35d1a8666"
      },
      "outputs": [
        {
          "output_type": "stream",
          "name": "stdout",
          "text": [
            "Epoch 1/20\n",
            "1125/1125 [==============================] - 214s 188ms/step - loss: 8.2854\n",
            "Epoch 2/20\n",
            "1125/1125 [==============================] - 214s 190ms/step - loss: 7.3151\n",
            "Epoch 3/20\n",
            "1125/1125 [==============================] - 214s 190ms/step - loss: 6.0686\n",
            "Epoch 4/20\n",
            "1125/1125 [==============================] - 214s 190ms/step - loss: 5.2130\n",
            "Epoch 5/20\n",
            "1125/1125 [==============================] - 214s 190ms/step - loss: 4.6070\n",
            "Epoch 6/20\n",
            "1125/1125 [==============================] - 214s 191ms/step - loss: 4.1611\n",
            "Epoch 7/20\n",
            "1125/1125 [==============================] - 216s 192ms/step - loss: 3.8324\n",
            "Epoch 8/20\n",
            "1125/1125 [==============================] - 214s 190ms/step - loss: 3.5807\n",
            "Epoch 9/20\n",
            "1125/1125 [==============================] - 215s 191ms/step - loss: 3.3820\n",
            "Epoch 10/20\n",
            "1125/1125 [==============================] - 216s 192ms/step - loss: 3.2138\n",
            "Epoch 11/20\n",
            "1125/1125 [==============================] - 215s 191ms/step - loss: 3.0699\n",
            "Epoch 12/20\n",
            "1125/1125 [==============================] - 214s 190ms/step - loss: 2.9450\n",
            "Epoch 13/20\n",
            "1125/1125 [==============================] - 216s 192ms/step - loss: 2.8369\n",
            "Epoch 14/20\n",
            "1125/1125 [==============================] - 214s 190ms/step - loss: 2.7421\n",
            "Epoch 15/20\n",
            "1125/1125 [==============================] - 215s 191ms/step - loss: 2.6585\n",
            "Epoch 16/20\n",
            "1125/1125 [==============================] - 215s 191ms/step - loss: 2.5826\n",
            "Epoch 17/20\n",
            "1125/1125 [==============================] - 215s 191ms/step - loss: 2.5148\n",
            "Epoch 18/20\n",
            "1125/1125 [==============================] - 216s 192ms/step - loss: 2.4508\n",
            "Epoch 19/20\n",
            "1125/1125 [==============================] - 213s 190ms/step - loss: 2.3932\n",
            "Epoch 20/20\n",
            "1125/1125 [==============================] - 215s 191ms/step - loss: 2.3412\n"
          ]
        }
      ],
      "source": [
        "history = word_model.fit(ids_word_dataset_batched, epochs=EPOCHS, callbacks=[checkpoint_callback])"
      ]
    },
    {
      "cell_type": "code",
      "execution_count": 18,
      "metadata": {
        "id": "sH-lUVW9iQzZ"
      },
      "outputs": [],
      "source": [
        "word_model.save(\"word_model_tf_2\")"
      ]
    },
    {
      "cell_type": "code",
      "execution_count": 19,
      "metadata": {
        "colab": {
          "base_uri": "https://localhost:8080/"
        },
        "id": "AOTS0J-oXjj3",
        "outputId": "269fe756-885b-48c4-9479-a857d9b73b3a"
      },
      "outputs": [
        {
          "output_type": "stream",
          "name": "stdout",
          "text": [
            "----------------------------------------------------------------------------------------------------\n",
            "Falcon disease has been rejected if this is the result of the problem to stem the flow of the endangered species in the vast island of Canada, spoke this week by\n",
            "----------------------------------------------------------------------------------------------------\n",
            "Fideo about 20 years after the Federal Police found the bodies of detainees yesterday that have with eight Iraqi National Guard officers believe there are fighting at the right of calm\n",
            "----------------------------------------------------------------------------------------------------\n",
            "Dream and in a village for the vast heart of the endangered species are being discovered in North  UK  embassy in America on Wednesday in the state 39s first\n"
          ]
        }
      ],
      "source": [
        "prev_states=None\n",
        "prompts = [ \"Falcon\", \"Fideo\", \"Dream\"]\n",
        "\n",
        "for prompt in prompts:\n",
        "  result = []\n",
        "  print(\"-\"*100)\n",
        "  i = 0\n",
        "  while i < 30:\n",
        "\n",
        "    predicted_logits, prev_states = word_model(tf.constant([text_to_ids(prompt)]), states=prev_states, return_state=True, training=False)\n",
        "    predicted_logits = predicted_logits[:, -1, :]\n",
        "    predicted_ids = tf.random.categorical(predicted_logits, num_samples=1)\n",
        "    predicted_ids = tf.squeeze(predicted_ids, axis=-1).numpy()\n",
        "\n",
        "    prev_word = prompt.split(\" \")[-1]\n",
        "    prev_word_id = ids_from_words( prev_word )\n",
        "\n",
        "    if predicted_ids == 2 and prompt[-1] == \" \" :\n",
        "      continue\n",
        "    if predicted_ids == prev_word_id:\n",
        "      continue\n",
        "    if 1 in predicted_ids:\n",
        "      continue\n",
        "\n",
        "    prompt += \" \"\n",
        "    prompt += text_from_ids(predicted_ids).numpy().decode('utf-8')\n",
        "    i+=1\n",
        "  print(prompt)\n",
        "  result.append(prompt)\n"
      ]
    },
    {
      "cell_type": "code",
      "execution_count": 21,
      "metadata": {
        "colab": {
          "base_uri": "https://localhost:8080/"
        },
        "id": "NGG0X_5YA5Ki",
        "outputId": "b695de2b-1df6-4fa7-b175-28c8a7872ca9"
      },
      "outputs": [
        {
          "output_type": "stream",
          "name": "stdout",
          "text": [
            "Collecting faker\n",
            "  Downloading Faker-26.0.0-py3-none-any.whl (1.8 MB)\n",
            "\u001b[?25l     \u001b[90m━━━━━━━━━━━━━━━━━━━━━━━━━━━━━━━━━━━━━━━━\u001b[0m \u001b[32m0.0/1.8 MB\u001b[0m \u001b[31m?\u001b[0m eta \u001b[36m-:--:--\u001b[0m\r\u001b[2K     \u001b[91m━━━━━━━━━━\u001b[0m\u001b[91m╸\u001b[0m\u001b[90m━━━━━━━━━━━━━━━━━━━━━━━━━━━━━\u001b[0m \u001b[32m0.5/1.8 MB\u001b[0m \u001b[31m15.8 MB/s\u001b[0m eta \u001b[36m0:00:01\u001b[0m\r\u001b[2K     \u001b[90m━━━━━━━━━━━━━━━━━━━━━━━━━━━━━━━━━━━━━━━━\u001b[0m \u001b[32m1.8/1.8 MB\u001b[0m \u001b[31m32.7 MB/s\u001b[0m eta \u001b[36m0:00:00\u001b[0m\n",
            "\u001b[?25hRequirement already satisfied: python-dateutil>=2.4 in /usr/local/lib/python3.10/dist-packages (from faker) (2.8.2)\n",
            "Requirement already satisfied: six>=1.5 in /usr/local/lib/python3.10/dist-packages (from python-dateutil>=2.4->faker) (1.16.0)\n",
            "Installing collected packages: faker\n",
            "Successfully installed faker-26.0.0\n"
          ]
        }
      ],
      "source": [
        "!pip install faker"
      ]
    },
    {
      "cell_type": "markdown",
      "metadata": {
        "id": "jiS55uBgUt7o"
      },
      "source": [
        "## One step inferencia y temperatura\n",
        "---\n",
        "\n",
        "Se reutiliza el modelo anterior, pero agregando temperatura para la salida de logit e inferencia sobre el prompt de entrada."
      ]
    },
    {
      "cell_type": "code",
      "execution_count": 38,
      "metadata": {
        "colab": {
          "base_uri": "https://localhost:8080/"
        },
        "id": "tZhCN92ohRyx",
        "outputId": "eb94a0b9-263e-4370-9df8-1553d89bf27d"
      },
      "outputs": [
        {
          "output_type": "stream",
          "name": "stdout",
          "text": [
            "Generating fake new !\n",
            " -  -  -  -  -  -  -  -  -  -  -  -  -  -  -  -  -  -  -  -  -  -  -  -  -  -  -  -  -  _  _  -  -  -  -  -  -  -  -  -  -  _  _  _  _  _  -  -  -  -  -  -  -  _  _  _  -  _  -  -  -  _  _  _  -  -  _  _  _  _  _  _  _  _  _  _  _  -  -  -  -  -  -  -  -  -  -  -  -  _  _  _  _  _  _  _  _  _  _  _  _  -  _  _  _  _  _  _  _  -  _  _  _  -  _  _  _  _  _  _  _  _  -  -  -  -  -  -  -  -  -  -  -  -  -  -  -  -  -  -  -  -  -  -  -  -  -  -  -  -  -  -  -  -  -  -  -  -  _  -  -  -  -  -  -  -  _  -  -  -  -  -  -  -  _  _  _  _  -  -  -  -  -  -  -  -  -  _  -  -  -  -  -  -  -  -  -  -  -  -  _  _  _  _  _  _  _  _  _  _  _  _  -  _  _  _  _  _  -  -  -  -  -  -  -  -  -  -  - \n",
            "Fake News ! :\n",
            " nine americans were killed and two americans apparently survived a separate web site wednesday as the nation's largest online retailer said that most of the pilots might emerge from the united states  and emerge from a  office of mexico when it beat out of the chain in a report  released yourself reality after it was included in a move by top rival bank web college board of down meet in a read whose new england patriots to the new england patriots lost over their teammates only if they make a  leave when michael montgomerie is the undisputed boston player on wednesday when he said  he will enter the books and  quoti did not make sure the names of all  inside the online reading that should be known for the same time.\n",
            "\n",
            " if they believe to make a more pitch to the lawyer executive in fact  kevin garnett registered for another out of 24 hits in..\n",
            "\n",
            "Generating fake new !\n",
            " -  -  -  -  -  -  -  -  -  -  -  -  -  -  -  -  -  -  -  -  -  -  -  _  -  -  -  -  -  _  -  _  _  _  -  _  -  -  _  -  -  _  -  -  _  -  _  _  _  _  -  _  _  _  _  _  -  _  _  _  -  _  _  _  _  -  -  _  _  _  _  -  _  _  -  -  -  _  _  -  _  _  -  _  _  -  _  _  -  _  _  _  _  -  -  -  _  -  -  -  -  -  -  _  _  _  _  _  -  -  -  _  _  _  _  _  _  -  -  _  _  _  _  _  _  -  _  _  _  _  _  _  _  _  _  _  _  _  -  _  _  _  -  _  _  _  _  -  _  _  _  _  _  -  -  -  -  -  -  -  -  -  -  -  -  -  -  -  -  -  -  -  -  -  |  -  -  -  -  -  -  -  -  _  -  _  _  _  _  _  -  -  -  -  -  -  _  -  -  _  _  _  _  _  -  -  _  _  -  _  _  _  _  -  _  _  _  _  _  _  -  -  -  -  _  _  -  _  _  -  _  _  _  _  _  _  _  _  -  -  _  _  _  _  -  -  -  -  -  _  _  -  -  _  _  _  _  _  _  _  -  -  _  -  _  _  _  _  -  -  -  -  -  -  -  _  _  -  -  -  -  -  -  -  -  -  -  -  -  -  _  -  - \n",
            "Fake News ! :\n",
            " three foreign ministers met friday with a fourday general meeting on saturday.\n",
            "\n",
            " saying he was too about to hear at a meeting of being held at the  republican national convention in parent web and final over the may coach of the gun keep web writer and her language bar point to the state's web search age paper for her would  victims of her parents gathered in the presidential since the national football gas said on out of beautiful eight of the available to decide  phil davis and  ask jeeves  are getting more than their names without growing traffic as companies use and  companies make it easier for use through the thank it be able to make it a better rise of web and people around during by any low it  and emerge change well over the location and make it  once again this career collections of the leader the software.\n",
            "\n",
            " which is a web application for web site. the companies are on track to build a new technology for more..\n",
            "\n",
            "Generating fake new !\n",
            " -  -  -  -  -  -  -  -  -  -  -  -  -  -  -  -  -  -  -  -  -  -  _  _  -  -  _  -  -  -  -  _  -  -  _  _  -  _  -  -  _  _  -  _  -  -  _  _  _  -  _  _  _  _  _  _  _  _  _  _  _  _  -  -  _  _  _  _  _  _  _  _  _  _  _  _  _  _  _  _  _  _  -  -  -  -  _  _  _  _  _  _  _  -  _  _  _  _  _  -  -  -  -  -  _  _  _  -  _  _  _  _  _  _  _  _  _  -  -  -  -  _  _  _  _  _  _  -  _  _  -  |  |  |  |  |  |  |  -  -  -  -  -  _  -  _  _  _  -  _  _  -  _  _  _  _  _  -  -  -  -  _  _  _  _  _  -  -  -  -  -  -  -  -  -  -  -  -  -  -  -  -  -  -  -  -  -  -  -  -  -  -  -  -  -  -  -  _  -  -  _  -  _  _  _  _  -  -  -  -  -  -  -  -  -  -  _  _  _  _  _  _  -  _  _  _  _  _  _  _  _  _  _  _  _  -  _  _  _  -  _  _  _  -  _  -  -  _  _  _  _  _  -  _  _  _  _  -  _  _  _  -  -  -  -  -  _  -  _  _  _  _  _  _  _  _  _  _  -  _  -  _  _  _  _  _  |  -  _  _  _  _  _  _  _  _  _  _  _  _  -  -  _  _  _  _  _  _  _  _  _  _  _  _  -  -  -  -  _  _  _  _  _  _  -  -  _  _  _  _  _  _  -  _  -  _  _  _  _  _  _  _  _  _  _  _  -  -  _  -  _  _  _  _  _  _  _  _  _  _  _  _  _  _  _  _  _  _  -  -  -  -  _  -  -  _  -  _  _  _  - \n",
            "Fake News ! :\n",
            " first of the first african union finance director in finland is one of the most pressing african union demands for the endangered indian state and make a new move to the director of the top names in including the blue impact handling told phone security bed would make an useful final crime million hotel in an attempt to make the baby it 39s a useful interim personal   do could be up to use through the notice of the tv too popular for one more accept  the senate supreme court heard arguments in a security alliance allowing the union to make up to criticism of the proposed order of governor john kerry's history.\n",
            "\n",
            " president george w. bush said on guess eye that would make the more people and fight against the including satellite american me final in the quite a few days nothing since the know know of a loss to the current model trial in the build a study bed and other quality while all takes on tv together by daniel bar and other society often face from the protect watch nor story you would not make useful like a productive hour ..\n",
            "\n"
          ]
        }
      ],
      "source": [
        "import random\n",
        "import sys\n",
        "from faker import Faker\n",
        "fake = Faker([ 'en_US' ])\n",
        "\n",
        "WARM_UP_STEPS = 0\n",
        "prev_states=None\n",
        "prompt = \"\"\"The most devastating argument against Joe Biden’s re-election bid may have come not from a politician or a pundit, but from a film star. But George Clooney, with his stinging New York Times opinion piece, isn’t the only one speaking out. A growing chorus from Democrats is sinking the president’s hopes of steadying his campaign this week - and perhaps ever.\n",
        "This all comes after it appeared that the president had turned a corner, with the influential Congressional Black Caucus and key liberal members of Congress just voicing their support for him.\n",
        "The president is not up to the task of beating Donald Trump in November, Clooney continues. He calls the Biden campaign’s claim that he is the choice of Democratic primary voters “disingenuous, at best”. And, perhaps most devastating, he says every prominent Democrat he has spoken with knows all this – whether they’re willing to publicly admit it or not.\n",
        "\"\"\"\n",
        "\n",
        "for n in range(WARM_UP_STEPS + 3):\n",
        "\n",
        "  if n < WARM_UP_STEPS:\n",
        "    prompt_warn_up = prompt\n",
        "    print(\"Warning up\")\n",
        "  else:\n",
        "    print(\"Generating fake new !\")\n",
        "  result = []\n",
        "\n",
        "  i = 0\n",
        "  r = 0\n",
        "  s = 0\n",
        "  temp=0.95\n",
        "  while i < 300:\n",
        "\n",
        "    input_embedded = text_to_ids(prompt)\n",
        "    predicted_logits, prev_states = word_model(tf.constant([input_embedded]), states=prev_states, return_state=True, training=False)\n",
        "    predicted_logits = predicted_logits[:, -1, :]/temp\n",
        "    predicted_ids = tf.random.categorical(predicted_logits, num_samples=1)\n",
        "    predicted_ids = tf.squeeze(predicted_ids, axis=-1).numpy()\n",
        "    predicted_ids = predicted_ids[0]\n",
        "\n",
        "    if predicted_ids == 1 or predicted_ids == 2:\n",
        "\n",
        "      if r > 5:\n",
        "        r = 0\n",
        "        temp = 0.95\n",
        "        prompt += \" \"\n",
        "        prompt += fake.text( max_nb_chars=10 ).replace(\".\", \"\")\n",
        "\n",
        "      r+=1\n",
        "      temp-=0.1\n",
        "      sys.stdout.write(\" _ \")\n",
        "      sys.stdout.flush()\n",
        "      continue\n",
        "    elif len(prompt.split(\" \")) >=2 and prompt.split(\" \")[-2] == word_from_id( predicted_ids ):\n",
        "\n",
        "      if s > 5:\n",
        "        s = 0\n",
        "        temp = 0.95\n",
        "        prompt += \" \"\n",
        "        prompt += fake.text( max_nb_chars=10 ).replace(\".\", \"\")\n",
        "\n",
        "      s += 1\n",
        "      temp-=0.1\n",
        "      sys.stdout.write(\" | \")\n",
        "      sys.stdout.flush()\n",
        "      continue\n",
        "    else:\n",
        "      sys.stdout.write(\" - \")\n",
        "      prompt += \" \"\n",
        "      prompt += word_from_id( predicted_ids )\n",
        "      i+=1\n",
        "\n",
        "    sys.stdout.flush()\n",
        "\n",
        "    i+=1\n",
        "  print(\"\")\n",
        "\n",
        "  if n >= WARM_UP_STEPS:\n",
        "    prompt += \".\"\n",
        "    warm_prompt, gen_prompt = prompt[:len(prompt_warn_up)+1], prompt[len(prompt_warn_up)+1:]\n",
        "    print(\"Fake News ! :\")\n",
        "    for p in gen_prompt.split(\",\"):\n",
        "      print(p.capitalize() + \".\\n\")\n",
        "    prompt = warm_prompt\n",
        "    result.append(prompt)\n"
      ]
    },
    {
      "cell_type": "markdown",
      "metadata": {
        "id": "DcI9HYb-fg6n"
      },
      "source": [
        "# Conclusion 2\n",
        "---\n",
        "\n",
        "0.   Hubo que generar tokens para los embeddings de palabras desconocidas, espacios y retorno de linea.\n",
        "\n",
        "1.   La funcion de perdida y el entrenamiento con el modelo entrenado utilizando palabras genero un mejor resultado que los dos entrenados con caracteres y una mejor estructura gramatical al generar texto.\n",
        "\n",
        "2.   El tamano del vocabulario del embedding para palabras es muchisimo mayor al que se necesita para generar caracteres y por consecuencia se necesita mas recursos de hardware para el entrenamiento.\n",
        "\n",
        "3.   El modelo no es eficiente para generar fakes news y que puedan ser interpretadas como reales por un ser humano, si bien se genera texto aleatorio con gramatica aceptable el mismo carece de sentido para generar noticias aceptablemente creibles.\n",
        "\n",
        "4. Se llega a la conclusion de que se necesita utilizar un modelo de embeddings pre-entrenado donde se puedan mantener el contexto de las relaciones entre las distintas palabras. Se opta por continuar con Word2Vec\n"
      ]
    },
    {
      "cell_type": "markdown",
      "metadata": {
        "id": "xV0rOro8_N9J"
      },
      "source": [
        "# Utilizando Word2Vec\n",
        "---\n"
      ]
    },
    {
      "cell_type": "code",
      "execution_count": null,
      "metadata": {
        "colab": {
          "base_uri": "https://localhost:8080/"
        },
        "id": "WcX-cNnhZ7Rl",
        "outputId": "ae9ebfc8-3213-4ec4-8b48-f5919296a9a4"
      },
      "outputs": [
        {
          "name": "stdout",
          "output_type": "stream",
          "text": [
            "Downloading...\n",
            "From (original): https://drive.google.com/uc?id=0B7XkCwpI5KDYNlNUTTlSS21pQmM\n",
            "From (redirected): https://drive.google.com/uc?id=0B7XkCwpI5KDYNlNUTTlSS21pQmM&confirm=t&uuid=4cc47527-9a96-4598-9bab-4c798c44750e\n",
            "To: /content/GoogleNews-vectors-negative300.bin.gz\n",
            "100% 1.65G/1.65G [00:17<00:00, 96.7MB/s]\n"
          ]
        }
      ],
      "source": [
        "!gdown \"0B7XkCwpI5KDYNlNUTTlSS21pQmM\""
      ]
    },
    {
      "cell_type": "code",
      "execution_count": null,
      "metadata": {
        "id": "TVUKd8CVcICH"
      },
      "outputs": [],
      "source": [
        "!gzip -d GoogleNews-vectors-negative300.bin.gz"
      ]
    },
    {
      "cell_type": "code",
      "execution_count": null,
      "metadata": {
        "id": "KezG1zaUoh2u"
      },
      "outputs": [],
      "source": [
        "!mv GoogleNews-vectors-negative300.bin word2vec_model.bin\n"
      ]
    },
    {
      "cell_type": "code",
      "execution_count": null,
      "metadata": {
        "colab": {
          "base_uri": "https://localhost:8080/"
        },
        "id": "4U45PamK_MxS",
        "outputId": "f9cceee9-3878-42a7-92a2-06b8e4dab855"
      },
      "outputs": [
        {
          "name": "stdout",
          "output_type": "stream",
          "text": [
            "Requirement already satisfied: gensim in /usr/local/lib/python3.10/dist-packages (4.3.2)\n",
            "Requirement already satisfied: numpy>=1.18.5 in /usr/local/lib/python3.10/dist-packages (from gensim) (1.25.2)\n",
            "Requirement already satisfied: scipy>=1.7.0 in /usr/local/lib/python3.10/dist-packages (from gensim) (1.11.4)\n",
            "Requirement already satisfied: smart-open>=1.8.1 in /usr/local/lib/python3.10/dist-packages (from gensim) (7.0.4)\n",
            "Requirement already satisfied: wrapt in /usr/local/lib/python3.10/dist-packages (from smart-open>=1.8.1->gensim) (1.14.1)\n"
          ]
        }
      ],
      "source": [
        "!pip install gensim"
      ]
    },
    {
      "cell_type": "markdown",
      "metadata": {
        "id": "eyG6EBWYq3om"
      },
      "source": [
        "### Examples\n",
        "---"
      ]
    },
    {
      "cell_type": "code",
      "execution_count": null,
      "metadata": {
        "colab": {
          "base_uri": "https://localhost:8080/"
        },
        "id": "pyWiHczN-zZB",
        "outputId": "f9220344-f217-4207-fce8-70e5d649118f"
      },
      "outputs": [
        {
          "name": "stdout",
          "output_type": "stream",
          "text": [
            "76086\n",
            "[['andheld', 'game', 'console', 'market,', 'aggressively', 'pricing', 'its', 'new', 'dualscreen', 'model', 'at', '149.'], ['GAZA', 'CITY,', 'Gaza', 'Strip', 'Oct.', '6,', '2004', 'Israel', 'stepped', 'up', 'airstrikes', 'in', 'its', 'Gaza', 'offensive,', 'killing', 'an', 'Islamic', 'Jihad', 'leader', 'and', 'bringing', 'to', '75', 'the', 'number', 'of', 'Palestinians', 'killed', 'in', 'the', 'operation', 'to', 'end', 'rocket', 'fire', 'on', 'Israeli', 'towns.'], ['JOHANNESBURG', 'Reuters', 'Want', 'a', 'computer', 'that', 'screams', 'when', 'a', 'thief', 'strikes', 'Or', 'a', 'personal', 'tracking', 'unit', 'in', 'case', 'you', 'get', 'kidnapped']]\n"
          ]
        }
      ],
      "source": [
        "# Sample code to prepare word2vec word embeddings\n",
        "import gensim\n",
        "import numpy as np\n",
        "\n",
        "documents = all_text.split(\"\\n\")\n",
        "words = [document.split() for document in documents]\n",
        "print(len(words))\n",
        "print(words[:3])\n"
      ]
    },
    {
      "cell_type": "code",
      "execution_count": null,
      "metadata": {
        "colab": {
          "base_uri": "https://localhost:8080/"
        },
        "id": "7OXqZH1v_q6R",
        "outputId": "1f37adc9-47b3-4651-de69-d9c34edc5cfd"
      },
      "outputs": [
        {
          "name": "stderr",
          "output_type": "stream",
          "text": [
            "WARNING:gensim.models.word2vec:Effective 'alpha' higher than previous training cycles\n"
          ]
        }
      ],
      "source": [
        "word_2_vec = gensim.models.Word2Vec(words, vector_size=5, min_count = 1, epochs=5, window = 15)\n",
        "history = word_2_vec.train(words, total_examples=len(words), epochs=15)"
      ]
    },
    {
      "cell_type": "code",
      "execution_count": null,
      "metadata": {
        "colab": {
          "base_uri": "https://localhost:8080/"
        },
        "id": "ABwgUis-Ldfh",
        "outputId": "24a1cfb5-8c67-4d23-a0dd-8e328c7207b3"
      },
      "outputs": [
        {
          "name": "stdout",
          "output_type": "stream",
          "text": [
            "[ 0.81588614 -0.2846946   1.1582787  -1.2027773   0.6512912 ]\n",
            "[('IRAKLION,', 0.997935950756073), ('Umar', 0.9978362917900085), ('Korzhanenko.', 0.9971709251403809), ('thatexposed', 0.9924828410148621), ('Farooq', 0.9923209547996521), ('Argentine', 0.9917839765548706), ('HAVANA', 0.9915964603424072), ('Ramesh', 0.9909374713897705), ('Drafts', 0.9907508492469788), ('Nahayan', 0.9906470775604248)]\n",
            "[('megaprofits.', 0.9982879757881165), ('climbing.', 0.9975526332855225), ('health.', 0.996714174747467), ('traffic.', 0.996441125869751), ('fishermen', 0.9953600764274597), ('numbered.', 0.995258629322052), ('cherished', 0.9945204257965088), ('dehydration', 0.9939523339271545), ('isotopes.', 0.9937291145324707), ('30.4', 0.9921625256538391)]\n"
          ]
        },
        {
          "data": {
            "text/plain": [
              "(113716, 5)"
            ]
          },
          "execution_count": 12,
          "metadata": {},
          "output_type": "execute_result"
        }
      ],
      "source": [
        "print( word_2_vec.wv[\"The\"] )\n",
        "word_2_vec.wv.index_to_key\n",
        "print(word_2_vec.wv.most_similar(\"Kenya\"))\n",
        "print(word_2_vec.wv.most_similar(np.array([ 1.7464108, 4.6858077, -0.375981, -2.8353589, -1.5030173])))\n",
        "word_2_vec.wv.vectors.shape"
      ]
    },
    {
      "cell_type": "markdown",
      "metadata": {
        "id": "TiD_AZuOrh78"
      },
      "source": [
        "# Defining Word2Vec model\n",
        "---"
      ]
    },
    {
      "cell_type": "code",
      "execution_count": null,
      "metadata": {
        "id": "xbeJkhn7rhdv"
      },
      "outputs": [],
      "source": [
        "class TpFinalEx2ModelGRUWords(tf.keras.Model):\n",
        "  def __init__(self, vocab_size, embedding_dim, weights, rnn_units):\n",
        "    super().__init__(self)\n",
        "\n",
        "    self.embedding = tf.keras.layers.Embedding(input_dim=vocab_size, output_dim=embedding_dim, weights=weights ,trainable=False)\n",
        "\n",
        "    self.gru = tf.keras.layers.GRU(rnn_units,\n",
        "                                   return_sequences=True,\n",
        "                                   return_state=True\n",
        "                                   )\n",
        "\n",
        "    self.dense = tf.keras.layers.Dense(vocab_size)\n",
        "    # self.activation = tf.keras.layers.Activation(\"softmax\")\n",
        "\n",
        "  def call(self, inputs, states=None, return_state=False, training=False):\n",
        "    x = inputs\n",
        "    x = self.embedding(x, training=training)\n",
        "    if states is None:\n",
        "      states = self.gru.get_initial_state(x)\n",
        "    x, states = self.gru(x, initial_state=states, training=training)\n",
        "    x = self.dense(x, training=training)\n",
        "    # x = self.activation(x)\n",
        "\n",
        "    if return_state:\n",
        "      return x, states\n",
        "    else:\n",
        "      return x"
      ]
    },
    {
      "cell_type": "code",
      "execution_count": null,
      "metadata": {
        "id": "UrOPDhwupXMc"
      },
      "outputs": [],
      "source": [
        "import string\n",
        "import gensim\n",
        "\n",
        "embedding_dim = 100\n",
        "max_sentence_len = 50\n",
        "translator = str.maketrans('', '', string.punctuation)\n",
        "all_text = all_text.translate(translator)\n",
        "texts_array =  all_text.lower().split(\"\\n\")\n",
        "texts_array = [text.split()[:max_sentence_len] for text in texts_array]\n",
        "word2vec_model = gensim.models.Word2Vec(texts_array, vector_size=embedding_dim, min_count=1, window=5, epochs=100)\n",
        "\n"
      ]
    },
    {
      "cell_type": "code",
      "execution_count": null,
      "metadata": {
        "id": "T5Y28nv8wPYq"
      },
      "outputs": [],
      "source": [
        "import numpy as np\n",
        "from keras.preprocessing.sequence import pad_sequences\n",
        "\n",
        "max_sentence_len = 30\n",
        "encoded_docs = [[word2vec_model.wv.get_index(word) for word in sentence] for sentence in texts_array]\n",
        "encoded_docs = pad_sequences(encoded_docs, maxlen=max_sentence_len)"
      ]
    },
    {
      "cell_type": "code",
      "execution_count": null,
      "metadata": {
        "colab": {
          "base_uri": "https://localhost:8080/"
        },
        "id": "Mh-y4By6xh_P",
        "outputId": "360e0091-41be-4a9c-9935-77bf7ecea419"
      },
      "outputs": [
        {
          "name": "stdout",
          "output_type": "stream",
          "text": [
            "30 [   0    0 4596 3902   26    0 1697   79    5   11  438  954 2423  549\n",
            "    1 5481   45    2 1465   20  386    2  151    1 9411 1387  278   16\n",
            "  898 1232]\n",
            "120000\n"
          ]
        }
      ],
      "source": [
        "print(len(encoded_docs[0]), encoded_docs[0])\n",
        "print(len(encoded_docs))"
      ]
    },
    {
      "cell_type": "code",
      "execution_count": null,
      "metadata": {
        "colab": {
          "base_uri": "https://localhost:8080/"
        },
        "id": "8kuonb3u2w4j",
        "outputId": "a75e06d9-a15b-4e44-9255-939117be3151"
      },
      "outputs": [
        {
          "name": "stdout",
          "output_type": "stream",
          "text": [
            "[('reason', 0.44323819875717163), ('moment', 0.43325141072273254), ('uh', 0.43279144167900085), ('fact', 0.43011337518692017), ('verdict', 0.4190289080142975), ('joke', 0.4176024794578552), ('digitalpoint', 0.4173176884651184), ('fiddling', 0.41603952646255493), ('noses', 0.414946585893631), ('1593', 0.41416117548942566)]\n",
            "[ 2.8416104  -0.52381414 -1.106292   -2.7377968   1.0183451   2.2499557\n",
            "  1.284473   -0.02422495 -1.8747349   0.27938366  1.996621   -0.8530927\n",
            "  0.50854474  3.2437236  -2.4334102  -0.6588165  -1.6647527  -4.307382\n",
            "  0.40888113 -1.1124023   0.7786694  -2.2186093  -0.06076882 -2.2287588\n",
            " -2.258015   -1.9853702  -1.9756048  -1.5068111   0.8138794   0.9783453\n",
            "  0.7170493   1.6533159   1.6234269   3.8549166   0.4866795   0.3904671\n",
            " -0.91530365  3.9686372   1.3423314  -0.5535966   2.9475174  -2.1064115\n",
            "  1.405058   -3.4743085   0.8383597  -6.058852   -4.0619645  -0.6213832\n",
            " -0.84479415  0.37126493 -1.820875   -2.5738173  -0.32440746 -0.6371801\n",
            "  1.9803185   0.7496216  -1.6461608   2.0474105   0.48389527  1.3265444\n",
            "  0.9099797   0.9054572  -0.8187275   2.3063242   2.6829402   0.0442448\n",
            "  3.2375762  -1.6071085  -1.3869433  -0.0501874  -0.6373197  -0.4050889\n",
            "  2.0432842   1.019639    2.107614    0.06799067 -0.33916315 -2.1957288\n",
            "  0.3869134  -0.29654208 -0.72377425  1.0184978  -1.5213104  -0.29031083\n",
            "  1.972573   -1.8812087  -0.18097337 -0.76997083  1.7372317  -4.267064\n",
            "  3.3071096  -1.374319    0.85594034 -0.03272767  0.67239857 -1.2285273\n",
            " -0.5892228   1.7563365  -0.84278494  0.8794783 ]\n"
          ]
        }
      ],
      "source": [
        "print(word2vec_model.wv.most_similar(\"word\"))\n",
        "print(word2vec_model.wv[\"word\"])"
      ]
    },
    {
      "cell_type": "code",
      "execution_count": null,
      "metadata": {
        "colab": {
          "base_uri": "https://localhost:8080/"
        },
        "id": "6uRINw0OKU0Q",
        "outputId": "704a6afa-a564-4c9f-8185-32d53c12e3c3"
      },
      "outputs": [
        {
          "name": "stdout",
          "output_type": "stream",
          "text": [
            "120000\n",
            "1875\n",
            "tf.Tensor(\n",
            "[   0    0 4596 3902   26    0 1697   79    5   11  438  954 2423  549\n",
            "    1 5481   45    2 1465   20  386    2  151    1 9411 1387  278   16\n",
            "  898], shape=(29,), dtype=int32) tf.Tensor(\n",
            "[   0 4596 3902   26    0 1697   79    5   11  438  954 2423  549    1\n",
            " 5481   45    2 1465   20  386    2  151    1 9411 1387  278   16  898\n",
            " 1232], shape=(29,), dtype=int32)\n"
          ]
        }
      ],
      "source": [
        "def word_split_input_target(sequence):\n",
        "    input_text = sequence[:-1]\n",
        "    target_text = sequence[1:]\n",
        "    return input_text, target_text\n",
        "\n",
        "tf_dataset =  tf.data.Dataset.from_tensor_slices(encoded_docs)\n",
        "fit_data = tf_dataset.map(word_split_input_target)\n",
        "\n",
        "print(len(fit_data) )\n",
        "\n",
        "fit_data = (\n",
        "    fit_data\n",
        "    .batch(64, drop_remainder=True)\n",
        "    .prefetch(tf.data.experimental.AUTOTUNE)\n",
        ")\n",
        "print( len(fit_data) )\n",
        "for d, n in fit_data.take(1):\n",
        "  print(d[0], n[0])"
      ]
    },
    {
      "cell_type": "code",
      "execution_count": null,
      "metadata": {
        "colab": {
          "base_uri": "https://localhost:8080/"
        },
        "id": "gTVDIiOC3zzY",
        "outputId": "f91b297b-4b0f-4d82-d1e4-7bafa702d738"
      },
      "outputs": [
        {
          "data": {
            "text/plain": [
              "array([[-0.66886497, -0.1658342 , -0.8511581 , ..., -0.51991403,\n",
              "         1.1744157 ,  1.6315088 ],\n",
              "       [-1.773399  , -1.0567538 ,  0.9325241 , ...,  1.0223478 ,\n",
              "        -0.572462  , -0.15689941],\n",
              "       [-1.735346  ,  2.6054802 , -0.47795486, ..., -1.9693395 ,\n",
              "         2.7190835 , -2.0529046 ],\n",
              "       ...,\n",
              "       [ 0.21102402,  0.5015459 ,  0.32561162, ...,  0.07143563,\n",
              "        -0.02061621, -0.27086273],\n",
              "       [ 0.1257259 ,  0.03212177, -0.07173671, ..., -0.18064432,\n",
              "         0.02586601,  0.17070258],\n",
              "       [ 0.0658655 , -0.23009689,  0.25189728, ...,  0.0901565 ,\n",
              "        -0.21132058,  0.53827846]], dtype=float32)"
            ]
          },
          "execution_count": 82,
          "metadata": {},
          "output_type": "execute_result"
        }
      ],
      "source": [
        "word2vec_model.wv.vectors"
      ]
    },
    {
      "cell_type": "code",
      "execution_count": null,
      "metadata": {
        "id": "bQCDMaL_227u"
      },
      "outputs": [],
      "source": [
        "loss_word = tf.losses.SparseCategoricalCrossentropy(from_logits=True)\n",
        "\n",
        "vocab_size, emdedding_size = word2vec_model.wv.vectors.shape\n",
        "\n",
        "w2v_model = TpFinalEx2ModelGRUWords(\n",
        "    vocab_size=vocab_size,\n",
        "    embedding_dim=emdedding_size,\n",
        "    weights=[word2vec_model.wv.vectors],\n",
        "    rnn_units=1024\n",
        ")\n",
        "w2v_model.compile(optimizer='adam', loss=loss_word)\n"
      ]
    },
    {
      "cell_type": "code",
      "execution_count": null,
      "metadata": {
        "id": "izCn6Ji24W44"
      },
      "outputs": [],
      "source": [
        "from keras.callbacks import LambdaCallback\n",
        "\n",
        "def sample(preds, temperature=1.0):\n",
        "\n",
        "  predicted_logits = preds / temperature\n",
        "\n",
        "  predicted_ids = tf.random.categorical(predicted_logits, num_samples=1)\n",
        "  predicted_ids = tf.squeeze(predicted_ids, axis=-1).numpy()\n",
        "  predicted_ids = predicted_ids[0]\n",
        "  return predicted_ids\n",
        "\n",
        "def generate_next(text, num_generated=10, states=None):\n",
        "  temperature = 0.7\n",
        "  text = text.lower().split()\n",
        "  text = [ w for w in text if w in word2vec_model.wv ]\n",
        "  word_idxs = [word2vec_model.wv.get_index(word) for word in text]\n",
        "  inital_len_text = len(text)\n",
        "\n",
        "  for i in range(num_generated):\n",
        "\n",
        "    pred, states =  w2v_model(tf.constant([word_idxs]), states=states, return_state=True, training=False)\n",
        "    idx = sample(pred[:, -1, :], temperature=temperature)\n",
        "\n",
        "    while temperature >=0 and idx == word_idxs[-1] :\n",
        "      temperature -= 0.05\n",
        "      idx = sample(pred[:, -1, :], temperature=temperature)\n",
        "    temerature = 0.7\n",
        "    word_idxs.append(idx)\n",
        "  r = ' '.join(word2vec_model.wv.index_to_key[idx] for idx in word_idxs)\n",
        "  r = \"<START>\"+ r[:inital_len_text - len(\"<END>\")] + \"<END>\" + r[inital_len_text + len(\"<END>\"):]\n",
        "  return r\n",
        "  return ' '.join(word2vec_model.wv.index_to_key[idx] for idx in word_idxs)\n",
        "\n",
        "def on_epoch_end(epoch, _):\n",
        "  print(f\"Epoch {epoch}\")\n",
        "  texts = [\n",
        "    'random text',\n",
        "    'cars are',\n",
        "    'onde day',\n",
        "    'a man',\n",
        "  ]\n",
        "\n",
        "  for text in texts:\n",
        "    gen_txt = generate_next(text)\n",
        "    print(f\"{text} -> {gen_txt}\")\n",
        "\n"
      ]
    },
    {
      "cell_type": "code",
      "execution_count": null,
      "metadata": {
        "colab": {
          "base_uri": "https://localhost:8080/"
        },
        "id": "salro2nP5huy",
        "outputId": "019d602c-41db-49a8-a91b-f261b1487fb9"
      },
      "outputs": [
        {
          "name": "stdout",
          "output_type": "stream",
          "text": [
            "Epoch 1/20\n",
            "1875/1875 [==============================] - ETA: 0s - loss: 5.1672Epoch 0\n",
            "random text -> random text message seems to be it with the idea of a\n",
            "cars are -> cars are in starting to draw the same day the same day\n",
            "onde day -> day the us government said on tuesday it would drop crude\n",
            "a man -> a man in the background of the red sox are among the\n",
            "1875/1875 [==============================] - 715s 380ms/step - loss: 5.1672\n",
            "Epoch 2/20\n",
            "1875/1875 [==============================] - ETA: 0s - loss: 3.8896Epoch 1\n",
            "random text -> random text messages to the internet calling the text message service to\n",
            "cars are -> cars are about to be a starting browns coach joe gibbs said\n",
            "onde day -> day of the presidential election in the country 39s presidential elections\n",
            "a man -> a man for a man who escaped a young man who was\n",
            "1875/1875 [==============================] - 714s 381ms/step - loss: 3.8896\n",
            "Epoch 3/20\n",
            "1875/1875 [==============================] - ETA: 0s - loss: 3.2999Epoch 2\n",
            "random text -> random text message spelled out a match instigated the world 39s topranked\n",
            "cars are -> cars are planned to enter the drivers car in the sport from\n",
            "onde day -> day and the celtics put the ball off the 18th green\n",
            "a man -> a man who hit the first time in a month on his\n",
            "1875/1875 [==============================] - 714s 381ms/step - loss: 3.2999\n",
            "Epoch 4/20\n",
            "1875/1875 [==============================] - ETA: 0s - loss: 2.9885Epoch 3\n",
            "random text -> random text messages such as the web targeted for an email problem\n",
            "cars are -> cars are flying cars and trucks engines in the us northeast of\n",
            "onde day -> day of a sharp rise in crude oil inventories slide in\n",
            "a man -> a man whose death toll from a train station he has gone\n",
            "1875/1875 [==============================] - 714s 381ms/step - loss: 2.9885\n",
            "Epoch 5/20\n",
            "1875/1875 [==============================] - ETA: 0s - loss: 2.8025Epoch 4\n",
            "random text -> random text in a letter sent to a british government request to\n",
            "cars are -> cars are expected to be sold by the end of a year\n",
            "onde day -> day after the surprising hurricanes hit florida state and virginia was\n",
            "a man -> a man for the first time in his career as he grew\n",
            "1875/1875 [==============================] - 714s 381ms/step - loss: 2.8025\n",
            "Epoch 6/20\n",
            "1875/1875 [==============================] - ETA: 0s - loss: 2.6745Epoch 5\n",
            "random text -> random text has issued a security firm salesman to the firm accounted\n",
            "cars are -> cars are stronger than the fastest pure just above 51 as a\n",
            "onde day -> day off the lpga tour of the tournament the first puerto\n",
            "a man -> a man held hostage in iraq for the past month the dutch\n",
            "1875/1875 [==============================] - 711s 379ms/step - loss: 2.6745\n",
            "Epoch 7/20\n",
            "1875/1875 [==============================] - ETA: 0s - loss: 2.5851Epoch 6\n",
            "random text -> random text messages and other devices are designed for children to make\n",
            "cars are -> cars are just flat to vote on a spyware bill intended to\n",
            "onde day -> day in 1981 but of apple computer incs lta hrefhttpwwwreuterscoukfinancequotelookupjhtmltickeraaplo qtypesym\n",
            "a man -> a man known for osama bin laden and a claim of a\n",
            "1875/1875 [==============================] - 711s 379ms/step - loss: 2.5851\n",
            "Epoch 8/20\n",
            "1875/1875 [==============================] - ETA: 0s - loss: 2.5221Epoch 7\n",
            "random text -> random text messages for the internet vote on president bill fox 39s\n",
            "cars are -> cars are expected to be named to the driver of the 2006\n",
            "onde day -> day but the new orleans hornets acquired center paul rogers on\n",
            "a man -> a man who held in slovakia on wednesday charged with assault with\n",
            "1875/1875 [==============================] - 709s 378ms/step - loss: 2.5221\n",
            "Epoch 9/20\n",
            "1875/1875 [==============================] - ETA: 0s - loss: 2.4823Epoch 8\n",
            "random text -> random text messages inside the spot a conference where the glass eye\n",
            "cars are -> cars are just two months after signing bonus to drive their starting\n",
            "onde day -> day a statement by the associated press in a preseason game\n",
            "a man -> a man who was shot dead on wednesday believed to be investigated\n",
            "1875/1875 [==============================] - 716s 382ms/step - loss: 2.4823\n",
            "Epoch 10/20\n",
            "1875/1875 [==============================] - ETA: 0s - loss: 2.4535Epoch 9\n",
            "random text -> random text code of the swiss author virus author says the report\n",
            "cars are -> cars are spinning off as the innovative format developed format has failed\n",
            "onde day -> day after the telecoms giant developing countries have inspired a similar\n",
            "a man -> a man who identified a turkish truck driver was confirmed he was\n",
            "1875/1875 [==============================] - 717s 383ms/step - loss: 2.4535\n",
            "Epoch 11/20\n",
            "1875/1875 [==============================] - ETA: 0s - loss: 2.4369Epoch 10\n",
            "random text -> random text messages and other internet service providers are proposing to soften\n",
            "cars are -> cars are drivers licenses worth of heavy paper deal is cutting away\n",
            "onde day -> day of the second half to deny ac milan a place\n",
            "a man -> a man in the southeast asia and held talks to spot the\n",
            "1875/1875 [==============================] - 716s 382ms/step - loss: 2.4369\n",
            "Epoch 12/20\n",
            "1875/1875 [==============================] - ETA: 0s - loss: 2.4269Epoch 11\n",
            "random text -> random text treatment of its kind of factors that it appears not\n",
            "cars are -> cars are expected to be flat on friday on a catch mission\n",
            "onde day -> day after the government said it had won a second half\n",
            "a man -> a man held on the death of a former us bishop who\n",
            "1875/1875 [==============================] - 715s 382ms/step - loss: 2.4269\n",
            "Epoch 13/20\n",
            "1875/1875 [==============================] - ETA: 0s - loss: 2.4209Epoch 12\n",
            "random text -> random text made it hard to buy a currency selling him from\n",
            "cars are -> cars are expected to rely on the rise despite apples repair cars\n",
            "onde day -> day after the country 39s first steps to head off its\n",
            "a man -> a man in the southeast asia of australia could face a global\n",
            "1875/1875 [==============================] - 716s 382ms/step - loss: 2.4209\n",
            "Epoch 14/20\n",
            "1875/1875 [==============================] - ETA: 0s - loss: 2.4219Epoch 13\n",
            "random text -> random text has issued a warning from a worm that could run\n",
            "cars are -> cars are driving around drivers licenses and dvds are spinning off devices\n",
            "onde day -> day one of the prevailing roster of the winter games without\n",
            "a man -> a man accused of being an alleged culture of his relatives who\n",
            "1875/1875 [==============================] - 715s 381ms/step - loss: 2.4219\n",
            "Epoch 15/20\n",
            "1875/1875 [==============================] - ETA: 0s - loss: 2.4271Epoch 14\n",
            "random text -> random text messages to appear before election day on their concerns about\n",
            "cars are -> cars are cheap disks and even as poor weather as poor weather\n",
            "onde day -> day at the wismilak international thirdseed sugiyama was fuming after his\n",
            "a man -> a man who believed a selfstyled man in may soon tell you\n",
            "1875/1875 [==============================] - 717s 382ms/step - loss: 2.4271\n",
            "Epoch 16/20\n",
            "1875/1875 [==============================] - ETA: 0s - loss: 2.4332Epoch 15\n",
            "random text -> random text messages and other radio identification tags like a cat does\n",
            "cars are -> cars are in operating a model of the company 39s flash drive\n",
            "onde day -> day and now the same time it was a year ago\n",
            "a man -> a man accused of murdering 19yearold became the sixth german student with\n",
            "1875/1875 [==============================] - 717s 382ms/step - loss: 2.4332\n",
            "Epoch 17/20\n",
            "1875/1875 [==============================] - ETA: 0s - loss: 2.4417Epoch 16\n",
            "random text -> random text messagesor will appear on the internet for a burial of\n",
            "cars are -> cars are expected to rely on consumer confidence in september with a\n",
            "onde day -> day for the first time since 2002 neither was hit when\n",
            "a man -> a man in connection with his parents the bodies of why she\n",
            "1875/1875 [==============================] - 714s 381ms/step - loss: 2.4417\n",
            "Epoch 18/20\n",
            "1875/1875 [==============================] - ETA: 0s - loss: 2.4567Epoch 17\n",
            "random text -> random text suffered a sexual art form during the fitness health fair\n",
            "cars are -> cars are reported in new york or risk of driving traffic conditions\n",
            "onde day -> day of the icc champions trophy tournament with an emphatic win\n",
            "a man -> a man whose anderson is just about every single day at shortstop\n",
            "1875/1875 [==============================] - 715s 381ms/step - loss: 2.4567\n",
            "Epoch 19/20\n",
            "1875/1875 [==============================] - ETA: 0s - loss: 2.4692Epoch 18\n",
            "random text -> random text code for private customers from doubtful a confident worm is\n",
            "cars are -> cars are growing as the drivers 39 luxury car and car adding\n",
            "onde day -> day a second half of the year on the line of\n",
            "a man -> a man identified as members of the alleged coup attempt the democratic\n",
            "1875/1875 [==============================] - 716s 382ms/step - loss: 2.4692\n",
            "Epoch 20/20\n",
            "1875/1875 [==============================] - ETA: 0s - loss: 2.4869Epoch 19\n",
            "random text -> random text net connection for aol says he uses a fuse userland\n",
            "cars are -> cars are in good liquid so why we can 39t anymore we\n",
            "onde day -> day of the first test on the eve of the bowl\n",
            "a man -> a man who believed to be hiding the australian embassy bombing in\n",
            "1875/1875 [==============================] - 715s 382ms/step - loss: 2.4869\n"
          ]
        },
        {
          "data": {
            "text/plain": [
              "<keras.src.callbacks.History at 0x7fc594637fa0>"
            ]
          },
          "execution_count": 85,
          "metadata": {},
          "output_type": "execute_result"
        }
      ],
      "source": [
        "w2v_model.fit(fit_data,\n",
        "          epochs=20,\n",
        "          callbacks=[LambdaCallback(on_epoch_end=on_epoch_end)])"
      ]
    },
    {
      "cell_type": "code",
      "execution_count": null,
      "metadata": {
        "colab": {
          "base_uri": "https://localhost:8080/"
        },
        "id": "ptQQTE_RRpoU",
        "outputId": "1fc576bd-fd4b-4776-92f5-0792f5d8b8ad"
      },
      "outputs": [
        {
          "name": "stderr",
          "output_type": "stream",
          "text": [
            "WARNING:tensorflow:Model's `__init__()` arguments contain non-serializable objects. Please implement a `get_config()` method in the subclassed Model for proper saving and loading. Defaulting to empty config.\n",
            "WARNING:tensorflow:Model's `__init__()` arguments contain non-serializable objects. Please implement a `get_config()` method in the subclassed Model for proper saving and loading. Defaulting to empty config.\n",
            "WARNING:tensorflow:Model's `__init__()` arguments contain non-serializable objects. Please implement a `get_config()` method in the subclassed Model for proper saving and loading. Defaulting to empty config.\n",
            "WARNING:tensorflow:Model's `__init__()` arguments contain non-serializable objects. Please implement a `get_config()` method in the subclassed Model for proper saving and loading. Defaulting to empty config.\n"
          ]
        }
      ],
      "source": [
        "w2v_model.save(\"w2v_gen\")"
      ]
    },
    {
      "cell_type": "markdown",
      "metadata": {
        "id": "ttqFTuXLgs-e"
      },
      "source": [
        "# Generando fakes news\n",
        "---"
      ]
    },
    {
      "cell_type": "code",
      "execution_count": null,
      "metadata": {
        "colab": {
          "base_uri": "https://localhost:8080/"
        },
        "id": "_WBKt96xiz1A",
        "outputId": "68712e5f-79b0-4522-f95b-2972db1b0c2f"
      },
      "outputs": [
        {
          "name": "stdout",
          "output_type": "stream",
          "text": [
            "----------------------------------------------------------------------------------------------------\n",
            "S Korea chided for nuclear tests\n",
            "The UN nuclear watchdog says South Korea's illegal nuclear tests were on a bigger scale than declared.\n",
            "Dog says south illegal nuclear tests were on a bigger scale than any secret iran 39s atomic has undermined its policy for.\n",
            "Ear tests were on a bigger scale than any secret iran 39s atomic has undermined its policy for the possible un quot said friday that state wanted not.\n",
            "----------------------------------------------------------------------------------------------------\n",
            "----------------------------------------------------------------------------------------------------\n",
            "UK Court Backs Probe Into Iraqi's Death\n",
            " LONDON (Reuters) - A British court on Tuesday backed  demands by relatives of a dead Iraqi hotel worker for an  independent probe into claims he was unlawfully killed and  abused by UK troops detaining him.\n",
            "Ked demands by relatives of a dead iraqi hotel worker for an independent probe into claims he was unlawfully killed and abused by uk troops detaining british officials said on thursday they believed them to leave.\n",
            "El worker for an independent probe into claims he was unlawfully killed and abused by uk troops detaining british officials said on thursday they believed them to leave the country 39s wartorn country the ministry said on friday.\n",
            "----------------------------------------------------------------------------------------------------\n",
            "----------------------------------------------------------------------------------------------------\n",
            "Afghans Say Trouble Inevitable But Won't Stop Vote\n",
            " KABUL (Reuters) - Afghan President Hamid Karzai vowed on  Thursday that a historic presidential election would be  successfully held this weekend and reflect the people's wishes  despite inevitable sabotage attempts by Taliban fighters.\n",
            "I vowed on thursday that a historic presidential election would be successfully held this weekend and reflect the wishes despite inevitable sabotage attempts by taliban fighters who accept the war in afghanistan 39s weekend presidential.\n",
            "Idential election would be successfully held this weekend and reflect the wishes despite inevitable sabotage attempts by taliban fighters who accept the war in afghanistan 39s weekend presidential race still cannot be too quickly cannot be held until.\n",
            "----------------------------------------------------------------------------------------------------\n",
            "----------------------------------------------------------------------------------------------------\n",
            "STANFORD NOTEBOOK Gilbertson gives edge to Stanford\n",
            "Washington coach Keith Gilbertson, whose team lost to Notre Dame and Stanford the past two weeks, thinks Stanford (3-1) might have some advantages in its game Saturday at Notre Dame (3-2).\n",
            "M lost to notre dame and stanford the past two thinks stanford might have some advantages in its game saturday at notre dame but wildcats tailback running back chris henry accounts for good.\n",
            "Past two thinks stanford might have some advantages in its game saturday at notre dame but wildcats tailback running back chris henry accounts for good reason miss chris anderson 39s career for the seventh time.\n",
            "----------------------------------------------------------------------------------------------------\n",
            "----------------------------------------------------------------------------------------------------\n",
            "Liberty likely for Bhutto\n",
            "A Pakistani court has granted bail to the husband of former Prime Minister Benazir Bhutto, which should result in his release after eight years in prison.\n",
            "Bail to the husband of former prime minister benazir which should result in his release after eight years in prison and pleaded guilty of sexually to the illegal of.\n",
            "E minister benazir which should result in his release after eight years in prison and pleaded guilty of sexually to the illegal of a child in violation the law has passed the subject.\n",
            "----------------------------------------------------------------------------------------------------\n"
          ]
        }
      ],
      "source": [
        "import re\n",
        "\n",
        "MAX_FAKE_NEWS=4\n",
        "\n",
        "for random_news in ds.take(3):\n",
        "\n",
        "    description_list, label_list, title_list = random_news[\"description\"], random_news[\"label\"], random_news[\"title\"]\n",
        "\n",
        "    n = 0\n",
        "    for description, label, title in zip(description_list, label_list, title_list):\n",
        "      description, label, title = description.numpy().decode(\"UTF-8\"), label.numpy(), title.numpy().decode(\"UTF-8\")\n",
        "\n",
        "      print(\"-\"*100)\n",
        "      print(f\"{title}\")\n",
        "      print(f\"{description}\")\n",
        "      body = generate_next(description, num_generated=10)\n",
        "      clean_body = re.split(r'<END>', body)[1]\n",
        "      clean_body += \".\"\n",
        "      clean_body = clean_body.strip()\n",
        "      clean_body = clean_body.capitalize()\n",
        "      print(clean_body)\n",
        "      clean_body = clean_body.replace(\".\", \"\").lower()\n",
        "      body = generate_next(clean_body, num_generated=10)\n",
        "      clean_body = re.split(r'<END>', body)[1]\n",
        "      clean_body += \".\"\n",
        "      clean_body = clean_body.capitalize()\n",
        "      clean_body = clean_body.strip()\n",
        "      print(clean_body)\n",
        "      print(\"-\"*100)\n",
        "      n+=1\n",
        "      if n > MAX_FAKE_NEWS:\n",
        "        break\n",
        "\n",
        "    break"
      ]
    },
    {
      "cell_type": "markdown",
      "metadata": {
        "id": "vKpleAuMmgpN"
      },
      "source": [
        "# Conclusion Final\n",
        "---\n",
        "\n",
        "<p> Como se esperaba, el resultado final generado por word2vec da mucho mejor resultado. </p>\n",
        "<p> La gran diferencia es que se genero un embedding previo para detectar similirades entre las palabras y se les asigno un vector unico a cada una, el cual es consultado posteriormente para traer palabras que esten contextualmente relacionadas. </p>\n",
        "<p> Tambien, para este entrenamiento pudimos generar un embedding para el dataset entero, que antes por costos computacional no pudimos utilizar, aumentando en gran volumen la cantidad de datos para entrenar el modelo. </p>\n",
        "<p> Para ver si el modelo mejoraba la performance en la generacion de texto, se removieron caracteres de puntuacion. La desventaja de esto es que al genrar texto no se van a poder generar caracteres de puntuacion, lo que si podia hacer el modelo anterior, aunque gramaticalmente no era preciso. </p>\n"
      ]
    }
  ],
  "metadata": {
    "accelerator": "GPU",
    "colab": {
      "gpuType": "A100",
      "machine_shape": "hm",
      "provenance": []
    },
    "kernelspec": {
      "display_name": "Python 3",
      "name": "python3"
    },
    "language_info": {
      "name": "python"
    },
    "widgets": {
      "application/vnd.jupyter.widget-state+json": {
        "c5588cddd7ed45f3bd814967e90d754e": {
          "model_module": "@jupyter-widgets/controls",
          "model_name": "HBoxModel",
          "model_module_version": "1.5.0",
          "state": {
            "_dom_classes": [],
            "_model_module": "@jupyter-widgets/controls",
            "_model_module_version": "1.5.0",
            "_model_name": "HBoxModel",
            "_view_count": null,
            "_view_module": "@jupyter-widgets/controls",
            "_view_module_version": "1.5.0",
            "_view_name": "HBoxView",
            "box_style": "",
            "children": [
              "IPY_MODEL_76d7ca943cea40309a828252e87f47d9",
              "IPY_MODEL_ca24b8ca2c134d88a35de2207323ffef",
              "IPY_MODEL_c1e515098ebb424eb959c526cd0a4046"
            ],
            "layout": "IPY_MODEL_b17409a63d954f808a595e159ec06aba"
          }
        },
        "76d7ca943cea40309a828252e87f47d9": {
          "model_module": "@jupyter-widgets/controls",
          "model_name": "HTMLModel",
          "model_module_version": "1.5.0",
          "state": {
            "_dom_classes": [],
            "_model_module": "@jupyter-widgets/controls",
            "_model_module_version": "1.5.0",
            "_model_name": "HTMLModel",
            "_view_count": null,
            "_view_module": "@jupyter-widgets/controls",
            "_view_module_version": "1.5.0",
            "_view_name": "HTMLView",
            "description": "",
            "description_tooltip": null,
            "layout": "IPY_MODEL_954564bda1814c3bb0bd0d513423181b",
            "placeholder": "​",
            "style": "IPY_MODEL_c604ceea3e1b49ec9d9f952b7b4d18d5",
            "value": "Dl Completed...: 100%"
          }
        },
        "ca24b8ca2c134d88a35de2207323ffef": {
          "model_module": "@jupyter-widgets/controls",
          "model_name": "FloatProgressModel",
          "model_module_version": "1.5.0",
          "state": {
            "_dom_classes": [],
            "_model_module": "@jupyter-widgets/controls",
            "_model_module_version": "1.5.0",
            "_model_name": "FloatProgressModel",
            "_view_count": null,
            "_view_module": "@jupyter-widgets/controls",
            "_view_module_version": "1.5.0",
            "_view_name": "ProgressView",
            "bar_style": "success",
            "description": "",
            "description_tooltip": null,
            "layout": "IPY_MODEL_bf3e690ce7f04abe87d8512be73b21cf",
            "max": 1,
            "min": 0,
            "orientation": "horizontal",
            "style": "IPY_MODEL_defa607c75794f1e967ba425612bab4b",
            "value": 1
          }
        },
        "c1e515098ebb424eb959c526cd0a4046": {
          "model_module": "@jupyter-widgets/controls",
          "model_name": "HTMLModel",
          "model_module_version": "1.5.0",
          "state": {
            "_dom_classes": [],
            "_model_module": "@jupyter-widgets/controls",
            "_model_module_version": "1.5.0",
            "_model_name": "HTMLModel",
            "_view_count": null,
            "_view_module": "@jupyter-widgets/controls",
            "_view_module_version": "1.5.0",
            "_view_name": "HTMLView",
            "description": "",
            "description_tooltip": null,
            "layout": "IPY_MODEL_5ba5b1af39a841f3b5ff79f784891462",
            "placeholder": "​",
            "style": "IPY_MODEL_886f7e20d5a14911b6a667c88c4cf697",
            "value": " 1/1 [00:18&lt;00:00, 18.61s/ url]"
          }
        },
        "b17409a63d954f808a595e159ec06aba": {
          "model_module": "@jupyter-widgets/base",
          "model_name": "LayoutModel",
          "model_module_version": "1.2.0",
          "state": {
            "_model_module": "@jupyter-widgets/base",
            "_model_module_version": "1.2.0",
            "_model_name": "LayoutModel",
            "_view_count": null,
            "_view_module": "@jupyter-widgets/base",
            "_view_module_version": "1.2.0",
            "_view_name": "LayoutView",
            "align_content": null,
            "align_items": null,
            "align_self": null,
            "border": null,
            "bottom": null,
            "display": null,
            "flex": null,
            "flex_flow": null,
            "grid_area": null,
            "grid_auto_columns": null,
            "grid_auto_flow": null,
            "grid_auto_rows": null,
            "grid_column": null,
            "grid_gap": null,
            "grid_row": null,
            "grid_template_areas": null,
            "grid_template_columns": null,
            "grid_template_rows": null,
            "height": null,
            "justify_content": null,
            "justify_items": null,
            "left": null,
            "margin": null,
            "max_height": null,
            "max_width": null,
            "min_height": null,
            "min_width": null,
            "object_fit": null,
            "object_position": null,
            "order": null,
            "overflow": null,
            "overflow_x": null,
            "overflow_y": null,
            "padding": null,
            "right": null,
            "top": null,
            "visibility": null,
            "width": null
          }
        },
        "954564bda1814c3bb0bd0d513423181b": {
          "model_module": "@jupyter-widgets/base",
          "model_name": "LayoutModel",
          "model_module_version": "1.2.0",
          "state": {
            "_model_module": "@jupyter-widgets/base",
            "_model_module_version": "1.2.0",
            "_model_name": "LayoutModel",
            "_view_count": null,
            "_view_module": "@jupyter-widgets/base",
            "_view_module_version": "1.2.0",
            "_view_name": "LayoutView",
            "align_content": null,
            "align_items": null,
            "align_self": null,
            "border": null,
            "bottom": null,
            "display": null,
            "flex": null,
            "flex_flow": null,
            "grid_area": null,
            "grid_auto_columns": null,
            "grid_auto_flow": null,
            "grid_auto_rows": null,
            "grid_column": null,
            "grid_gap": null,
            "grid_row": null,
            "grid_template_areas": null,
            "grid_template_columns": null,
            "grid_template_rows": null,
            "height": null,
            "justify_content": null,
            "justify_items": null,
            "left": null,
            "margin": null,
            "max_height": null,
            "max_width": null,
            "min_height": null,
            "min_width": null,
            "object_fit": null,
            "object_position": null,
            "order": null,
            "overflow": null,
            "overflow_x": null,
            "overflow_y": null,
            "padding": null,
            "right": null,
            "top": null,
            "visibility": null,
            "width": null
          }
        },
        "c604ceea3e1b49ec9d9f952b7b4d18d5": {
          "model_module": "@jupyter-widgets/controls",
          "model_name": "DescriptionStyleModel",
          "model_module_version": "1.5.0",
          "state": {
            "_model_module": "@jupyter-widgets/controls",
            "_model_module_version": "1.5.0",
            "_model_name": "DescriptionStyleModel",
            "_view_count": null,
            "_view_module": "@jupyter-widgets/base",
            "_view_module_version": "1.2.0",
            "_view_name": "StyleView",
            "description_width": ""
          }
        },
        "bf3e690ce7f04abe87d8512be73b21cf": {
          "model_module": "@jupyter-widgets/base",
          "model_name": "LayoutModel",
          "model_module_version": "1.2.0",
          "state": {
            "_model_module": "@jupyter-widgets/base",
            "_model_module_version": "1.2.0",
            "_model_name": "LayoutModel",
            "_view_count": null,
            "_view_module": "@jupyter-widgets/base",
            "_view_module_version": "1.2.0",
            "_view_name": "LayoutView",
            "align_content": null,
            "align_items": null,
            "align_self": null,
            "border": null,
            "bottom": null,
            "display": null,
            "flex": null,
            "flex_flow": null,
            "grid_area": null,
            "grid_auto_columns": null,
            "grid_auto_flow": null,
            "grid_auto_rows": null,
            "grid_column": null,
            "grid_gap": null,
            "grid_row": null,
            "grid_template_areas": null,
            "grid_template_columns": null,
            "grid_template_rows": null,
            "height": null,
            "justify_content": null,
            "justify_items": null,
            "left": null,
            "margin": null,
            "max_height": null,
            "max_width": null,
            "min_height": null,
            "min_width": null,
            "object_fit": null,
            "object_position": null,
            "order": null,
            "overflow": null,
            "overflow_x": null,
            "overflow_y": null,
            "padding": null,
            "right": null,
            "top": null,
            "visibility": null,
            "width": "20px"
          }
        },
        "defa607c75794f1e967ba425612bab4b": {
          "model_module": "@jupyter-widgets/controls",
          "model_name": "ProgressStyleModel",
          "model_module_version": "1.5.0",
          "state": {
            "_model_module": "@jupyter-widgets/controls",
            "_model_module_version": "1.5.0",
            "_model_name": "ProgressStyleModel",
            "_view_count": null,
            "_view_module": "@jupyter-widgets/base",
            "_view_module_version": "1.2.0",
            "_view_name": "StyleView",
            "bar_color": null,
            "description_width": ""
          }
        },
        "5ba5b1af39a841f3b5ff79f784891462": {
          "model_module": "@jupyter-widgets/base",
          "model_name": "LayoutModel",
          "model_module_version": "1.2.0",
          "state": {
            "_model_module": "@jupyter-widgets/base",
            "_model_module_version": "1.2.0",
            "_model_name": "LayoutModel",
            "_view_count": null,
            "_view_module": "@jupyter-widgets/base",
            "_view_module_version": "1.2.0",
            "_view_name": "LayoutView",
            "align_content": null,
            "align_items": null,
            "align_self": null,
            "border": null,
            "bottom": null,
            "display": null,
            "flex": null,
            "flex_flow": null,
            "grid_area": null,
            "grid_auto_columns": null,
            "grid_auto_flow": null,
            "grid_auto_rows": null,
            "grid_column": null,
            "grid_gap": null,
            "grid_row": null,
            "grid_template_areas": null,
            "grid_template_columns": null,
            "grid_template_rows": null,
            "height": null,
            "justify_content": null,
            "justify_items": null,
            "left": null,
            "margin": null,
            "max_height": null,
            "max_width": null,
            "min_height": null,
            "min_width": null,
            "object_fit": null,
            "object_position": null,
            "order": null,
            "overflow": null,
            "overflow_x": null,
            "overflow_y": null,
            "padding": null,
            "right": null,
            "top": null,
            "visibility": null,
            "width": null
          }
        },
        "886f7e20d5a14911b6a667c88c4cf697": {
          "model_module": "@jupyter-widgets/controls",
          "model_name": "DescriptionStyleModel",
          "model_module_version": "1.5.0",
          "state": {
            "_model_module": "@jupyter-widgets/controls",
            "_model_module_version": "1.5.0",
            "_model_name": "DescriptionStyleModel",
            "_view_count": null,
            "_view_module": "@jupyter-widgets/base",
            "_view_module_version": "1.2.0",
            "_view_name": "StyleView",
            "description_width": ""
          }
        },
        "407a0e0bda1948aa98a73f2f54341752": {
          "model_module": "@jupyter-widgets/controls",
          "model_name": "HBoxModel",
          "model_module_version": "1.5.0",
          "state": {
            "_dom_classes": [],
            "_model_module": "@jupyter-widgets/controls",
            "_model_module_version": "1.5.0",
            "_model_name": "HBoxModel",
            "_view_count": null,
            "_view_module": "@jupyter-widgets/controls",
            "_view_module_version": "1.5.0",
            "_view_name": "HBoxView",
            "box_style": "",
            "children": [
              "IPY_MODEL_31c12c8678fd4c07b52b860b245b5ce3",
              "IPY_MODEL_28971d2b5e9d43d38d423959a0751933",
              "IPY_MODEL_3f8c0f78a9bc4b11bf92623f7871ce27"
            ],
            "layout": "IPY_MODEL_0412341579f64c57b8944cbc5d9fbc7c"
          }
        },
        "31c12c8678fd4c07b52b860b245b5ce3": {
          "model_module": "@jupyter-widgets/controls",
          "model_name": "HTMLModel",
          "model_module_version": "1.5.0",
          "state": {
            "_dom_classes": [],
            "_model_module": "@jupyter-widgets/controls",
            "_model_module_version": "1.5.0",
            "_model_name": "HTMLModel",
            "_view_count": null,
            "_view_module": "@jupyter-widgets/controls",
            "_view_module_version": "1.5.0",
            "_view_name": "HTMLView",
            "description": "",
            "description_tooltip": null,
            "layout": "IPY_MODEL_a33ac8163abc41f19768b63ac9aee51e",
            "placeholder": "​",
            "style": "IPY_MODEL_ad22bd54425242ad963ad0f335ec5530",
            "value": "Dl Size...: 100%"
          }
        },
        "28971d2b5e9d43d38d423959a0751933": {
          "model_module": "@jupyter-widgets/controls",
          "model_name": "FloatProgressModel",
          "model_module_version": "1.5.0",
          "state": {
            "_dom_classes": [],
            "_model_module": "@jupyter-widgets/controls",
            "_model_module_version": "1.5.0",
            "_model_name": "FloatProgressModel",
            "_view_count": null,
            "_view_module": "@jupyter-widgets/controls",
            "_view_module_version": "1.5.0",
            "_view_name": "ProgressView",
            "bar_style": "success",
            "description": "",
            "description_tooltip": null,
            "layout": "IPY_MODEL_ed2b2ce23c6b4067a9e07c5964fdb2f1",
            "max": 1,
            "min": 0,
            "orientation": "horizontal",
            "style": "IPY_MODEL_9247398c25df4e9395ed028d22425096",
            "value": 1
          }
        },
        "3f8c0f78a9bc4b11bf92623f7871ce27": {
          "model_module": "@jupyter-widgets/controls",
          "model_name": "HTMLModel",
          "model_module_version": "1.5.0",
          "state": {
            "_dom_classes": [],
            "_model_module": "@jupyter-widgets/controls",
            "_model_module_version": "1.5.0",
            "_model_name": "HTMLModel",
            "_view_count": null,
            "_view_module": "@jupyter-widgets/controls",
            "_view_module_version": "1.5.0",
            "_view_name": "HTMLView",
            "description": "",
            "description_tooltip": null,
            "layout": "IPY_MODEL_a7686085e0d14fc495820161595dfe50",
            "placeholder": "​",
            "style": "IPY_MODEL_33c068482d9148e7becf7756d1727e74",
            "value": " 11/11 [00:18&lt;00:00, 17.88s/ MiB]"
          }
        },
        "0412341579f64c57b8944cbc5d9fbc7c": {
          "model_module": "@jupyter-widgets/base",
          "model_name": "LayoutModel",
          "model_module_version": "1.2.0",
          "state": {
            "_model_module": "@jupyter-widgets/base",
            "_model_module_version": "1.2.0",
            "_model_name": "LayoutModel",
            "_view_count": null,
            "_view_module": "@jupyter-widgets/base",
            "_view_module_version": "1.2.0",
            "_view_name": "LayoutView",
            "align_content": null,
            "align_items": null,
            "align_self": null,
            "border": null,
            "bottom": null,
            "display": null,
            "flex": null,
            "flex_flow": null,
            "grid_area": null,
            "grid_auto_columns": null,
            "grid_auto_flow": null,
            "grid_auto_rows": null,
            "grid_column": null,
            "grid_gap": null,
            "grid_row": null,
            "grid_template_areas": null,
            "grid_template_columns": null,
            "grid_template_rows": null,
            "height": null,
            "justify_content": null,
            "justify_items": null,
            "left": null,
            "margin": null,
            "max_height": null,
            "max_width": null,
            "min_height": null,
            "min_width": null,
            "object_fit": null,
            "object_position": null,
            "order": null,
            "overflow": null,
            "overflow_x": null,
            "overflow_y": null,
            "padding": null,
            "right": null,
            "top": null,
            "visibility": null,
            "width": null
          }
        },
        "a33ac8163abc41f19768b63ac9aee51e": {
          "model_module": "@jupyter-widgets/base",
          "model_name": "LayoutModel",
          "model_module_version": "1.2.0",
          "state": {
            "_model_module": "@jupyter-widgets/base",
            "_model_module_version": "1.2.0",
            "_model_name": "LayoutModel",
            "_view_count": null,
            "_view_module": "@jupyter-widgets/base",
            "_view_module_version": "1.2.0",
            "_view_name": "LayoutView",
            "align_content": null,
            "align_items": null,
            "align_self": null,
            "border": null,
            "bottom": null,
            "display": null,
            "flex": null,
            "flex_flow": null,
            "grid_area": null,
            "grid_auto_columns": null,
            "grid_auto_flow": null,
            "grid_auto_rows": null,
            "grid_column": null,
            "grid_gap": null,
            "grid_row": null,
            "grid_template_areas": null,
            "grid_template_columns": null,
            "grid_template_rows": null,
            "height": null,
            "justify_content": null,
            "justify_items": null,
            "left": null,
            "margin": null,
            "max_height": null,
            "max_width": null,
            "min_height": null,
            "min_width": null,
            "object_fit": null,
            "object_position": null,
            "order": null,
            "overflow": null,
            "overflow_x": null,
            "overflow_y": null,
            "padding": null,
            "right": null,
            "top": null,
            "visibility": null,
            "width": null
          }
        },
        "ad22bd54425242ad963ad0f335ec5530": {
          "model_module": "@jupyter-widgets/controls",
          "model_name": "DescriptionStyleModel",
          "model_module_version": "1.5.0",
          "state": {
            "_model_module": "@jupyter-widgets/controls",
            "_model_module_version": "1.5.0",
            "_model_name": "DescriptionStyleModel",
            "_view_count": null,
            "_view_module": "@jupyter-widgets/base",
            "_view_module_version": "1.2.0",
            "_view_name": "StyleView",
            "description_width": ""
          }
        },
        "ed2b2ce23c6b4067a9e07c5964fdb2f1": {
          "model_module": "@jupyter-widgets/base",
          "model_name": "LayoutModel",
          "model_module_version": "1.2.0",
          "state": {
            "_model_module": "@jupyter-widgets/base",
            "_model_module_version": "1.2.0",
            "_model_name": "LayoutModel",
            "_view_count": null,
            "_view_module": "@jupyter-widgets/base",
            "_view_module_version": "1.2.0",
            "_view_name": "LayoutView",
            "align_content": null,
            "align_items": null,
            "align_self": null,
            "border": null,
            "bottom": null,
            "display": null,
            "flex": null,
            "flex_flow": null,
            "grid_area": null,
            "grid_auto_columns": null,
            "grid_auto_flow": null,
            "grid_auto_rows": null,
            "grid_column": null,
            "grid_gap": null,
            "grid_row": null,
            "grid_template_areas": null,
            "grid_template_columns": null,
            "grid_template_rows": null,
            "height": null,
            "justify_content": null,
            "justify_items": null,
            "left": null,
            "margin": null,
            "max_height": null,
            "max_width": null,
            "min_height": null,
            "min_width": null,
            "object_fit": null,
            "object_position": null,
            "order": null,
            "overflow": null,
            "overflow_x": null,
            "overflow_y": null,
            "padding": null,
            "right": null,
            "top": null,
            "visibility": null,
            "width": "20px"
          }
        },
        "9247398c25df4e9395ed028d22425096": {
          "model_module": "@jupyter-widgets/controls",
          "model_name": "ProgressStyleModel",
          "model_module_version": "1.5.0",
          "state": {
            "_model_module": "@jupyter-widgets/controls",
            "_model_module_version": "1.5.0",
            "_model_name": "ProgressStyleModel",
            "_view_count": null,
            "_view_module": "@jupyter-widgets/base",
            "_view_module_version": "1.2.0",
            "_view_name": "StyleView",
            "bar_color": null,
            "description_width": ""
          }
        },
        "a7686085e0d14fc495820161595dfe50": {
          "model_module": "@jupyter-widgets/base",
          "model_name": "LayoutModel",
          "model_module_version": "1.2.0",
          "state": {
            "_model_module": "@jupyter-widgets/base",
            "_model_module_version": "1.2.0",
            "_model_name": "LayoutModel",
            "_view_count": null,
            "_view_module": "@jupyter-widgets/base",
            "_view_module_version": "1.2.0",
            "_view_name": "LayoutView",
            "align_content": null,
            "align_items": null,
            "align_self": null,
            "border": null,
            "bottom": null,
            "display": null,
            "flex": null,
            "flex_flow": null,
            "grid_area": null,
            "grid_auto_columns": null,
            "grid_auto_flow": null,
            "grid_auto_rows": null,
            "grid_column": null,
            "grid_gap": null,
            "grid_row": null,
            "grid_template_areas": null,
            "grid_template_columns": null,
            "grid_template_rows": null,
            "height": null,
            "justify_content": null,
            "justify_items": null,
            "left": null,
            "margin": null,
            "max_height": null,
            "max_width": null,
            "min_height": null,
            "min_width": null,
            "object_fit": null,
            "object_position": null,
            "order": null,
            "overflow": null,
            "overflow_x": null,
            "overflow_y": null,
            "padding": null,
            "right": null,
            "top": null,
            "visibility": null,
            "width": null
          }
        },
        "33c068482d9148e7becf7756d1727e74": {
          "model_module": "@jupyter-widgets/controls",
          "model_name": "DescriptionStyleModel",
          "model_module_version": "1.5.0",
          "state": {
            "_model_module": "@jupyter-widgets/controls",
            "_model_module_version": "1.5.0",
            "_model_name": "DescriptionStyleModel",
            "_view_count": null,
            "_view_module": "@jupyter-widgets/base",
            "_view_module_version": "1.2.0",
            "_view_name": "StyleView",
            "description_width": ""
          }
        },
        "b41e9039a1ad43aeb2bf12950120f357": {
          "model_module": "@jupyter-widgets/controls",
          "model_name": "HBoxModel",
          "model_module_version": "1.5.0",
          "state": {
            "_dom_classes": [],
            "_model_module": "@jupyter-widgets/controls",
            "_model_module_version": "1.5.0",
            "_model_name": "HBoxModel",
            "_view_count": null,
            "_view_module": "@jupyter-widgets/controls",
            "_view_module_version": "1.5.0",
            "_view_name": "HBoxView",
            "box_style": "",
            "children": [
              "IPY_MODEL_d50a2727d62c44289ee6996623846de1",
              "IPY_MODEL_db8de2430cbc459da3b18c7e680ac83e",
              "IPY_MODEL_85ca1942e307457387a75027e52f14ff"
            ],
            "layout": "IPY_MODEL_d7ec1592ddd14af9b90c590cb32ca2c1"
          }
        },
        "d50a2727d62c44289ee6996623846de1": {
          "model_module": "@jupyter-widgets/controls",
          "model_name": "HTMLModel",
          "model_module_version": "1.5.0",
          "state": {
            "_dom_classes": [],
            "_model_module": "@jupyter-widgets/controls",
            "_model_module_version": "1.5.0",
            "_model_name": "HTMLModel",
            "_view_count": null,
            "_view_module": "@jupyter-widgets/controls",
            "_view_module_version": "1.5.0",
            "_view_name": "HTMLView",
            "description": "",
            "description_tooltip": null,
            "layout": "IPY_MODEL_8021f3ebf64f4fc2838392263e64d304",
            "placeholder": "​",
            "style": "IPY_MODEL_e45045236f9547d1bc17f51782073371",
            "value": "Extraction completed...: 100%"
          }
        },
        "db8de2430cbc459da3b18c7e680ac83e": {
          "model_module": "@jupyter-widgets/controls",
          "model_name": "FloatProgressModel",
          "model_module_version": "1.5.0",
          "state": {
            "_dom_classes": [],
            "_model_module": "@jupyter-widgets/controls",
            "_model_module_version": "1.5.0",
            "_model_name": "FloatProgressModel",
            "_view_count": null,
            "_view_module": "@jupyter-widgets/controls",
            "_view_module_version": "1.5.0",
            "_view_name": "ProgressView",
            "bar_style": "success",
            "description": "",
            "description_tooltip": null,
            "layout": "IPY_MODEL_c534b01ea82a4a00bd92ab17f4327877",
            "max": 1,
            "min": 0,
            "orientation": "horizontal",
            "style": "IPY_MODEL_307ef163215e4b3a8e3fc51709e73752",
            "value": 1
          }
        },
        "85ca1942e307457387a75027e52f14ff": {
          "model_module": "@jupyter-widgets/controls",
          "model_name": "HTMLModel",
          "model_module_version": "1.5.0",
          "state": {
            "_dom_classes": [],
            "_model_module": "@jupyter-widgets/controls",
            "_model_module_version": "1.5.0",
            "_model_name": "HTMLModel",
            "_view_count": null,
            "_view_module": "@jupyter-widgets/controls",
            "_view_module_version": "1.5.0",
            "_view_name": "HTMLView",
            "description": "",
            "description_tooltip": null,
            "layout": "IPY_MODEL_5a5f36a5f96b4b789d09ab56321be2a3",
            "placeholder": "​",
            "style": "IPY_MODEL_7869af34a483420f82fc193335b941db",
            "value": " 4/4 [00:18&lt;00:00, 18.84s/ file]"
          }
        },
        "d7ec1592ddd14af9b90c590cb32ca2c1": {
          "model_module": "@jupyter-widgets/base",
          "model_name": "LayoutModel",
          "model_module_version": "1.2.0",
          "state": {
            "_model_module": "@jupyter-widgets/base",
            "_model_module_version": "1.2.0",
            "_model_name": "LayoutModel",
            "_view_count": null,
            "_view_module": "@jupyter-widgets/base",
            "_view_module_version": "1.2.0",
            "_view_name": "LayoutView",
            "align_content": null,
            "align_items": null,
            "align_self": null,
            "border": null,
            "bottom": null,
            "display": null,
            "flex": null,
            "flex_flow": null,
            "grid_area": null,
            "grid_auto_columns": null,
            "grid_auto_flow": null,
            "grid_auto_rows": null,
            "grid_column": null,
            "grid_gap": null,
            "grid_row": null,
            "grid_template_areas": null,
            "grid_template_columns": null,
            "grid_template_rows": null,
            "height": null,
            "justify_content": null,
            "justify_items": null,
            "left": null,
            "margin": null,
            "max_height": null,
            "max_width": null,
            "min_height": null,
            "min_width": null,
            "object_fit": null,
            "object_position": null,
            "order": null,
            "overflow": null,
            "overflow_x": null,
            "overflow_y": null,
            "padding": null,
            "right": null,
            "top": null,
            "visibility": null,
            "width": null
          }
        },
        "8021f3ebf64f4fc2838392263e64d304": {
          "model_module": "@jupyter-widgets/base",
          "model_name": "LayoutModel",
          "model_module_version": "1.2.0",
          "state": {
            "_model_module": "@jupyter-widgets/base",
            "_model_module_version": "1.2.0",
            "_model_name": "LayoutModel",
            "_view_count": null,
            "_view_module": "@jupyter-widgets/base",
            "_view_module_version": "1.2.0",
            "_view_name": "LayoutView",
            "align_content": null,
            "align_items": null,
            "align_self": null,
            "border": null,
            "bottom": null,
            "display": null,
            "flex": null,
            "flex_flow": null,
            "grid_area": null,
            "grid_auto_columns": null,
            "grid_auto_flow": null,
            "grid_auto_rows": null,
            "grid_column": null,
            "grid_gap": null,
            "grid_row": null,
            "grid_template_areas": null,
            "grid_template_columns": null,
            "grid_template_rows": null,
            "height": null,
            "justify_content": null,
            "justify_items": null,
            "left": null,
            "margin": null,
            "max_height": null,
            "max_width": null,
            "min_height": null,
            "min_width": null,
            "object_fit": null,
            "object_position": null,
            "order": null,
            "overflow": null,
            "overflow_x": null,
            "overflow_y": null,
            "padding": null,
            "right": null,
            "top": null,
            "visibility": null,
            "width": null
          }
        },
        "e45045236f9547d1bc17f51782073371": {
          "model_module": "@jupyter-widgets/controls",
          "model_name": "DescriptionStyleModel",
          "model_module_version": "1.5.0",
          "state": {
            "_model_module": "@jupyter-widgets/controls",
            "_model_module_version": "1.5.0",
            "_model_name": "DescriptionStyleModel",
            "_view_count": null,
            "_view_module": "@jupyter-widgets/base",
            "_view_module_version": "1.2.0",
            "_view_name": "StyleView",
            "description_width": ""
          }
        },
        "c534b01ea82a4a00bd92ab17f4327877": {
          "model_module": "@jupyter-widgets/base",
          "model_name": "LayoutModel",
          "model_module_version": "1.2.0",
          "state": {
            "_model_module": "@jupyter-widgets/base",
            "_model_module_version": "1.2.0",
            "_model_name": "LayoutModel",
            "_view_count": null,
            "_view_module": "@jupyter-widgets/base",
            "_view_module_version": "1.2.0",
            "_view_name": "LayoutView",
            "align_content": null,
            "align_items": null,
            "align_self": null,
            "border": null,
            "bottom": null,
            "display": null,
            "flex": null,
            "flex_flow": null,
            "grid_area": null,
            "grid_auto_columns": null,
            "grid_auto_flow": null,
            "grid_auto_rows": null,
            "grid_column": null,
            "grid_gap": null,
            "grid_row": null,
            "grid_template_areas": null,
            "grid_template_columns": null,
            "grid_template_rows": null,
            "height": null,
            "justify_content": null,
            "justify_items": null,
            "left": null,
            "margin": null,
            "max_height": null,
            "max_width": null,
            "min_height": null,
            "min_width": null,
            "object_fit": null,
            "object_position": null,
            "order": null,
            "overflow": null,
            "overflow_x": null,
            "overflow_y": null,
            "padding": null,
            "right": null,
            "top": null,
            "visibility": null,
            "width": "20px"
          }
        },
        "307ef163215e4b3a8e3fc51709e73752": {
          "model_module": "@jupyter-widgets/controls",
          "model_name": "ProgressStyleModel",
          "model_module_version": "1.5.0",
          "state": {
            "_model_module": "@jupyter-widgets/controls",
            "_model_module_version": "1.5.0",
            "_model_name": "ProgressStyleModel",
            "_view_count": null,
            "_view_module": "@jupyter-widgets/base",
            "_view_module_version": "1.2.0",
            "_view_name": "StyleView",
            "bar_color": null,
            "description_width": ""
          }
        },
        "5a5f36a5f96b4b789d09ab56321be2a3": {
          "model_module": "@jupyter-widgets/base",
          "model_name": "LayoutModel",
          "model_module_version": "1.2.0",
          "state": {
            "_model_module": "@jupyter-widgets/base",
            "_model_module_version": "1.2.0",
            "_model_name": "LayoutModel",
            "_view_count": null,
            "_view_module": "@jupyter-widgets/base",
            "_view_module_version": "1.2.0",
            "_view_name": "LayoutView",
            "align_content": null,
            "align_items": null,
            "align_self": null,
            "border": null,
            "bottom": null,
            "display": null,
            "flex": null,
            "flex_flow": null,
            "grid_area": null,
            "grid_auto_columns": null,
            "grid_auto_flow": null,
            "grid_auto_rows": null,
            "grid_column": null,
            "grid_gap": null,
            "grid_row": null,
            "grid_template_areas": null,
            "grid_template_columns": null,
            "grid_template_rows": null,
            "height": null,
            "justify_content": null,
            "justify_items": null,
            "left": null,
            "margin": null,
            "max_height": null,
            "max_width": null,
            "min_height": null,
            "min_width": null,
            "object_fit": null,
            "object_position": null,
            "order": null,
            "overflow": null,
            "overflow_x": null,
            "overflow_y": null,
            "padding": null,
            "right": null,
            "top": null,
            "visibility": null,
            "width": null
          }
        },
        "7869af34a483420f82fc193335b941db": {
          "model_module": "@jupyter-widgets/controls",
          "model_name": "DescriptionStyleModel",
          "model_module_version": "1.5.0",
          "state": {
            "_model_module": "@jupyter-widgets/controls",
            "_model_module_version": "1.5.0",
            "_model_name": "DescriptionStyleModel",
            "_view_count": null,
            "_view_module": "@jupyter-widgets/base",
            "_view_module_version": "1.2.0",
            "_view_name": "StyleView",
            "description_width": ""
          }
        },
        "74a1cd443735447098a27cffd4ee2af7": {
          "model_module": "@jupyter-widgets/controls",
          "model_name": "HBoxModel",
          "model_module_version": "1.5.0",
          "state": {
            "_dom_classes": [],
            "_model_module": "@jupyter-widgets/controls",
            "_model_module_version": "1.5.0",
            "_model_name": "HBoxModel",
            "_view_count": null,
            "_view_module": "@jupyter-widgets/controls",
            "_view_module_version": "1.5.0",
            "_view_name": "HBoxView",
            "box_style": "",
            "children": [
              "IPY_MODEL_5e123b5ce04e42e9962aaeb6f6df5f31",
              "IPY_MODEL_debc9d6236cd450b972a04d4ea27581c",
              "IPY_MODEL_2b10009cc2da4a90b9ad6ea9c51545f8"
            ],
            "layout": "IPY_MODEL_44b3830a17374465b4e9efecc9417558"
          }
        },
        "5e123b5ce04e42e9962aaeb6f6df5f31": {
          "model_module": "@jupyter-widgets/controls",
          "model_name": "HTMLModel",
          "model_module_version": "1.5.0",
          "state": {
            "_dom_classes": [],
            "_model_module": "@jupyter-widgets/controls",
            "_model_module_version": "1.5.0",
            "_model_name": "HTMLModel",
            "_view_count": null,
            "_view_module": "@jupyter-widgets/controls",
            "_view_module_version": "1.5.0",
            "_view_name": "HTMLView",
            "description": "",
            "description_tooltip": null,
            "layout": "IPY_MODEL_16e5309c38d14dc9b05c03da74addabe",
            "placeholder": "​",
            "style": "IPY_MODEL_e1a0d8861f33414d9eefea5915fdf65e",
            "value": "Generating splits...: 100%"
          }
        },
        "debc9d6236cd450b972a04d4ea27581c": {
          "model_module": "@jupyter-widgets/controls",
          "model_name": "FloatProgressModel",
          "model_module_version": "1.5.0",
          "state": {
            "_dom_classes": [],
            "_model_module": "@jupyter-widgets/controls",
            "_model_module_version": "1.5.0",
            "_model_name": "FloatProgressModel",
            "_view_count": null,
            "_view_module": "@jupyter-widgets/controls",
            "_view_module_version": "1.5.0",
            "_view_name": "ProgressView",
            "bar_style": "",
            "description": "",
            "description_tooltip": null,
            "layout": "IPY_MODEL_12106f8e3f7441ce9a50d9aba9256345",
            "max": 2,
            "min": 0,
            "orientation": "horizontal",
            "style": "IPY_MODEL_d49c44c27a0541229a2ca305807baaff",
            "value": 2
          }
        },
        "2b10009cc2da4a90b9ad6ea9c51545f8": {
          "model_module": "@jupyter-widgets/controls",
          "model_name": "HTMLModel",
          "model_module_version": "1.5.0",
          "state": {
            "_dom_classes": [],
            "_model_module": "@jupyter-widgets/controls",
            "_model_module_version": "1.5.0",
            "_model_name": "HTMLModel",
            "_view_count": null,
            "_view_module": "@jupyter-widgets/controls",
            "_view_module_version": "1.5.0",
            "_view_name": "HTMLView",
            "description": "",
            "description_tooltip": null,
            "layout": "IPY_MODEL_e11772c6af974b5da49a979a056c8f6d",
            "placeholder": "​",
            "style": "IPY_MODEL_119b1ce46fb64279be8e581213bc5fa6",
            "value": " 2/2 [00:12&lt;00:00,  5.30s/ splits]"
          }
        },
        "44b3830a17374465b4e9efecc9417558": {
          "model_module": "@jupyter-widgets/base",
          "model_name": "LayoutModel",
          "model_module_version": "1.2.0",
          "state": {
            "_model_module": "@jupyter-widgets/base",
            "_model_module_version": "1.2.0",
            "_model_name": "LayoutModel",
            "_view_count": null,
            "_view_module": "@jupyter-widgets/base",
            "_view_module_version": "1.2.0",
            "_view_name": "LayoutView",
            "align_content": null,
            "align_items": null,
            "align_self": null,
            "border": null,
            "bottom": null,
            "display": null,
            "flex": null,
            "flex_flow": null,
            "grid_area": null,
            "grid_auto_columns": null,
            "grid_auto_flow": null,
            "grid_auto_rows": null,
            "grid_column": null,
            "grid_gap": null,
            "grid_row": null,
            "grid_template_areas": null,
            "grid_template_columns": null,
            "grid_template_rows": null,
            "height": null,
            "justify_content": null,
            "justify_items": null,
            "left": null,
            "margin": null,
            "max_height": null,
            "max_width": null,
            "min_height": null,
            "min_width": null,
            "object_fit": null,
            "object_position": null,
            "order": null,
            "overflow": null,
            "overflow_x": null,
            "overflow_y": null,
            "padding": null,
            "right": null,
            "top": null,
            "visibility": "hidden",
            "width": null
          }
        },
        "16e5309c38d14dc9b05c03da74addabe": {
          "model_module": "@jupyter-widgets/base",
          "model_name": "LayoutModel",
          "model_module_version": "1.2.0",
          "state": {
            "_model_module": "@jupyter-widgets/base",
            "_model_module_version": "1.2.0",
            "_model_name": "LayoutModel",
            "_view_count": null,
            "_view_module": "@jupyter-widgets/base",
            "_view_module_version": "1.2.0",
            "_view_name": "LayoutView",
            "align_content": null,
            "align_items": null,
            "align_self": null,
            "border": null,
            "bottom": null,
            "display": null,
            "flex": null,
            "flex_flow": null,
            "grid_area": null,
            "grid_auto_columns": null,
            "grid_auto_flow": null,
            "grid_auto_rows": null,
            "grid_column": null,
            "grid_gap": null,
            "grid_row": null,
            "grid_template_areas": null,
            "grid_template_columns": null,
            "grid_template_rows": null,
            "height": null,
            "justify_content": null,
            "justify_items": null,
            "left": null,
            "margin": null,
            "max_height": null,
            "max_width": null,
            "min_height": null,
            "min_width": null,
            "object_fit": null,
            "object_position": null,
            "order": null,
            "overflow": null,
            "overflow_x": null,
            "overflow_y": null,
            "padding": null,
            "right": null,
            "top": null,
            "visibility": null,
            "width": null
          }
        },
        "e1a0d8861f33414d9eefea5915fdf65e": {
          "model_module": "@jupyter-widgets/controls",
          "model_name": "DescriptionStyleModel",
          "model_module_version": "1.5.0",
          "state": {
            "_model_module": "@jupyter-widgets/controls",
            "_model_module_version": "1.5.0",
            "_model_name": "DescriptionStyleModel",
            "_view_count": null,
            "_view_module": "@jupyter-widgets/base",
            "_view_module_version": "1.2.0",
            "_view_name": "StyleView",
            "description_width": ""
          }
        },
        "12106f8e3f7441ce9a50d9aba9256345": {
          "model_module": "@jupyter-widgets/base",
          "model_name": "LayoutModel",
          "model_module_version": "1.2.0",
          "state": {
            "_model_module": "@jupyter-widgets/base",
            "_model_module_version": "1.2.0",
            "_model_name": "LayoutModel",
            "_view_count": null,
            "_view_module": "@jupyter-widgets/base",
            "_view_module_version": "1.2.0",
            "_view_name": "LayoutView",
            "align_content": null,
            "align_items": null,
            "align_self": null,
            "border": null,
            "bottom": null,
            "display": null,
            "flex": null,
            "flex_flow": null,
            "grid_area": null,
            "grid_auto_columns": null,
            "grid_auto_flow": null,
            "grid_auto_rows": null,
            "grid_column": null,
            "grid_gap": null,
            "grid_row": null,
            "grid_template_areas": null,
            "grid_template_columns": null,
            "grid_template_rows": null,
            "height": null,
            "justify_content": null,
            "justify_items": null,
            "left": null,
            "margin": null,
            "max_height": null,
            "max_width": null,
            "min_height": null,
            "min_width": null,
            "object_fit": null,
            "object_position": null,
            "order": null,
            "overflow": null,
            "overflow_x": null,
            "overflow_y": null,
            "padding": null,
            "right": null,
            "top": null,
            "visibility": null,
            "width": null
          }
        },
        "d49c44c27a0541229a2ca305807baaff": {
          "model_module": "@jupyter-widgets/controls",
          "model_name": "ProgressStyleModel",
          "model_module_version": "1.5.0",
          "state": {
            "_model_module": "@jupyter-widgets/controls",
            "_model_module_version": "1.5.0",
            "_model_name": "ProgressStyleModel",
            "_view_count": null,
            "_view_module": "@jupyter-widgets/base",
            "_view_module_version": "1.2.0",
            "_view_name": "StyleView",
            "bar_color": null,
            "description_width": ""
          }
        },
        "e11772c6af974b5da49a979a056c8f6d": {
          "model_module": "@jupyter-widgets/base",
          "model_name": "LayoutModel",
          "model_module_version": "1.2.0",
          "state": {
            "_model_module": "@jupyter-widgets/base",
            "_model_module_version": "1.2.0",
            "_model_name": "LayoutModel",
            "_view_count": null,
            "_view_module": "@jupyter-widgets/base",
            "_view_module_version": "1.2.0",
            "_view_name": "LayoutView",
            "align_content": null,
            "align_items": null,
            "align_self": null,
            "border": null,
            "bottom": null,
            "display": null,
            "flex": null,
            "flex_flow": null,
            "grid_area": null,
            "grid_auto_columns": null,
            "grid_auto_flow": null,
            "grid_auto_rows": null,
            "grid_column": null,
            "grid_gap": null,
            "grid_row": null,
            "grid_template_areas": null,
            "grid_template_columns": null,
            "grid_template_rows": null,
            "height": null,
            "justify_content": null,
            "justify_items": null,
            "left": null,
            "margin": null,
            "max_height": null,
            "max_width": null,
            "min_height": null,
            "min_width": null,
            "object_fit": null,
            "object_position": null,
            "order": null,
            "overflow": null,
            "overflow_x": null,
            "overflow_y": null,
            "padding": null,
            "right": null,
            "top": null,
            "visibility": null,
            "width": null
          }
        },
        "119b1ce46fb64279be8e581213bc5fa6": {
          "model_module": "@jupyter-widgets/controls",
          "model_name": "DescriptionStyleModel",
          "model_module_version": "1.5.0",
          "state": {
            "_model_module": "@jupyter-widgets/controls",
            "_model_module_version": "1.5.0",
            "_model_name": "DescriptionStyleModel",
            "_view_count": null,
            "_view_module": "@jupyter-widgets/base",
            "_view_module_version": "1.2.0",
            "_view_name": "StyleView",
            "description_width": ""
          }
        },
        "55a4ebec5b8846bcb747c5d44f2ea601": {
          "model_module": "@jupyter-widgets/controls",
          "model_name": "HBoxModel",
          "model_module_version": "1.5.0",
          "state": {
            "_dom_classes": [],
            "_model_module": "@jupyter-widgets/controls",
            "_model_module_version": "1.5.0",
            "_model_name": "HBoxModel",
            "_view_count": null,
            "_view_module": "@jupyter-widgets/controls",
            "_view_module_version": "1.5.0",
            "_view_name": "HBoxView",
            "box_style": "",
            "children": [
              "IPY_MODEL_dff84f5a3e114ad683156c66b3b096aa",
              "IPY_MODEL_4a9d69aa436d4363b24fb7ae207b68f3",
              "IPY_MODEL_12839b4cea4443a594b447a8574b19a8"
            ],
            "layout": "IPY_MODEL_420fbc01ace04d2eb8f5c02c2262a245"
          }
        },
        "dff84f5a3e114ad683156c66b3b096aa": {
          "model_module": "@jupyter-widgets/controls",
          "model_name": "HTMLModel",
          "model_module_version": "1.5.0",
          "state": {
            "_dom_classes": [],
            "_model_module": "@jupyter-widgets/controls",
            "_model_module_version": "1.5.0",
            "_model_name": "HTMLModel",
            "_view_count": null,
            "_view_module": "@jupyter-widgets/controls",
            "_view_module_version": "1.5.0",
            "_view_name": "HTMLView",
            "description": "",
            "description_tooltip": null,
            "layout": "IPY_MODEL_b855160fc9a345a6a07ce0af9b8335fa",
            "placeholder": "​",
            "style": "IPY_MODEL_f33658056c83499dbec4451b80135567",
            "value": "Generating train examples...:  97%"
          }
        },
        "4a9d69aa436d4363b24fb7ae207b68f3": {
          "model_module": "@jupyter-widgets/controls",
          "model_name": "FloatProgressModel",
          "model_module_version": "1.5.0",
          "state": {
            "_dom_classes": [],
            "_model_module": "@jupyter-widgets/controls",
            "_model_module_version": "1.5.0",
            "_model_name": "FloatProgressModel",
            "_view_count": null,
            "_view_module": "@jupyter-widgets/controls",
            "_view_module_version": "1.5.0",
            "_view_name": "ProgressView",
            "bar_style": "",
            "description": "",
            "description_tooltip": null,
            "layout": "IPY_MODEL_e9f20b2b43c44326bc8511e0c15cfbd6",
            "max": 120000,
            "min": 0,
            "orientation": "horizontal",
            "style": "IPY_MODEL_985c7e1970144fbca697ba18df767f9e",
            "value": 120000
          }
        },
        "12839b4cea4443a594b447a8574b19a8": {
          "model_module": "@jupyter-widgets/controls",
          "model_name": "HTMLModel",
          "model_module_version": "1.5.0",
          "state": {
            "_dom_classes": [],
            "_model_module": "@jupyter-widgets/controls",
            "_model_module_version": "1.5.0",
            "_model_name": "HTMLModel",
            "_view_count": null,
            "_view_module": "@jupyter-widgets/controls",
            "_view_module_version": "1.5.0",
            "_view_name": "HTMLView",
            "description": "",
            "description_tooltip": null,
            "layout": "IPY_MODEL_64fa09ec6fca4a04b81ce4075f5841e2",
            "placeholder": "​",
            "style": "IPY_MODEL_2ac6f9b56ee744e685e63ff49883d10d",
            "value": " 116375/120000 [00:11&lt;00:00, 10618.95 examples/s]"
          }
        },
        "420fbc01ace04d2eb8f5c02c2262a245": {
          "model_module": "@jupyter-widgets/base",
          "model_name": "LayoutModel",
          "model_module_version": "1.2.0",
          "state": {
            "_model_module": "@jupyter-widgets/base",
            "_model_module_version": "1.2.0",
            "_model_name": "LayoutModel",
            "_view_count": null,
            "_view_module": "@jupyter-widgets/base",
            "_view_module_version": "1.2.0",
            "_view_name": "LayoutView",
            "align_content": null,
            "align_items": null,
            "align_self": null,
            "border": null,
            "bottom": null,
            "display": null,
            "flex": null,
            "flex_flow": null,
            "grid_area": null,
            "grid_auto_columns": null,
            "grid_auto_flow": null,
            "grid_auto_rows": null,
            "grid_column": null,
            "grid_gap": null,
            "grid_row": null,
            "grid_template_areas": null,
            "grid_template_columns": null,
            "grid_template_rows": null,
            "height": null,
            "justify_content": null,
            "justify_items": null,
            "left": null,
            "margin": null,
            "max_height": null,
            "max_width": null,
            "min_height": null,
            "min_width": null,
            "object_fit": null,
            "object_position": null,
            "order": null,
            "overflow": null,
            "overflow_x": null,
            "overflow_y": null,
            "padding": null,
            "right": null,
            "top": null,
            "visibility": "hidden",
            "width": null
          }
        },
        "b855160fc9a345a6a07ce0af9b8335fa": {
          "model_module": "@jupyter-widgets/base",
          "model_name": "LayoutModel",
          "model_module_version": "1.2.0",
          "state": {
            "_model_module": "@jupyter-widgets/base",
            "_model_module_version": "1.2.0",
            "_model_name": "LayoutModel",
            "_view_count": null,
            "_view_module": "@jupyter-widgets/base",
            "_view_module_version": "1.2.0",
            "_view_name": "LayoutView",
            "align_content": null,
            "align_items": null,
            "align_self": null,
            "border": null,
            "bottom": null,
            "display": null,
            "flex": null,
            "flex_flow": null,
            "grid_area": null,
            "grid_auto_columns": null,
            "grid_auto_flow": null,
            "grid_auto_rows": null,
            "grid_column": null,
            "grid_gap": null,
            "grid_row": null,
            "grid_template_areas": null,
            "grid_template_columns": null,
            "grid_template_rows": null,
            "height": null,
            "justify_content": null,
            "justify_items": null,
            "left": null,
            "margin": null,
            "max_height": null,
            "max_width": null,
            "min_height": null,
            "min_width": null,
            "object_fit": null,
            "object_position": null,
            "order": null,
            "overflow": null,
            "overflow_x": null,
            "overflow_y": null,
            "padding": null,
            "right": null,
            "top": null,
            "visibility": null,
            "width": null
          }
        },
        "f33658056c83499dbec4451b80135567": {
          "model_module": "@jupyter-widgets/controls",
          "model_name": "DescriptionStyleModel",
          "model_module_version": "1.5.0",
          "state": {
            "_model_module": "@jupyter-widgets/controls",
            "_model_module_version": "1.5.0",
            "_model_name": "DescriptionStyleModel",
            "_view_count": null,
            "_view_module": "@jupyter-widgets/base",
            "_view_module_version": "1.2.0",
            "_view_name": "StyleView",
            "description_width": ""
          }
        },
        "e9f20b2b43c44326bc8511e0c15cfbd6": {
          "model_module": "@jupyter-widgets/base",
          "model_name": "LayoutModel",
          "model_module_version": "1.2.0",
          "state": {
            "_model_module": "@jupyter-widgets/base",
            "_model_module_version": "1.2.0",
            "_model_name": "LayoutModel",
            "_view_count": null,
            "_view_module": "@jupyter-widgets/base",
            "_view_module_version": "1.2.0",
            "_view_name": "LayoutView",
            "align_content": null,
            "align_items": null,
            "align_self": null,
            "border": null,
            "bottom": null,
            "display": null,
            "flex": null,
            "flex_flow": null,
            "grid_area": null,
            "grid_auto_columns": null,
            "grid_auto_flow": null,
            "grid_auto_rows": null,
            "grid_column": null,
            "grid_gap": null,
            "grid_row": null,
            "grid_template_areas": null,
            "grid_template_columns": null,
            "grid_template_rows": null,
            "height": null,
            "justify_content": null,
            "justify_items": null,
            "left": null,
            "margin": null,
            "max_height": null,
            "max_width": null,
            "min_height": null,
            "min_width": null,
            "object_fit": null,
            "object_position": null,
            "order": null,
            "overflow": null,
            "overflow_x": null,
            "overflow_y": null,
            "padding": null,
            "right": null,
            "top": null,
            "visibility": null,
            "width": null
          }
        },
        "985c7e1970144fbca697ba18df767f9e": {
          "model_module": "@jupyter-widgets/controls",
          "model_name": "ProgressStyleModel",
          "model_module_version": "1.5.0",
          "state": {
            "_model_module": "@jupyter-widgets/controls",
            "_model_module_version": "1.5.0",
            "_model_name": "ProgressStyleModel",
            "_view_count": null,
            "_view_module": "@jupyter-widgets/base",
            "_view_module_version": "1.2.0",
            "_view_name": "StyleView",
            "bar_color": null,
            "description_width": ""
          }
        },
        "64fa09ec6fca4a04b81ce4075f5841e2": {
          "model_module": "@jupyter-widgets/base",
          "model_name": "LayoutModel",
          "model_module_version": "1.2.0",
          "state": {
            "_model_module": "@jupyter-widgets/base",
            "_model_module_version": "1.2.0",
            "_model_name": "LayoutModel",
            "_view_count": null,
            "_view_module": "@jupyter-widgets/base",
            "_view_module_version": "1.2.0",
            "_view_name": "LayoutView",
            "align_content": null,
            "align_items": null,
            "align_self": null,
            "border": null,
            "bottom": null,
            "display": null,
            "flex": null,
            "flex_flow": null,
            "grid_area": null,
            "grid_auto_columns": null,
            "grid_auto_flow": null,
            "grid_auto_rows": null,
            "grid_column": null,
            "grid_gap": null,
            "grid_row": null,
            "grid_template_areas": null,
            "grid_template_columns": null,
            "grid_template_rows": null,
            "height": null,
            "justify_content": null,
            "justify_items": null,
            "left": null,
            "margin": null,
            "max_height": null,
            "max_width": null,
            "min_height": null,
            "min_width": null,
            "object_fit": null,
            "object_position": null,
            "order": null,
            "overflow": null,
            "overflow_x": null,
            "overflow_y": null,
            "padding": null,
            "right": null,
            "top": null,
            "visibility": null,
            "width": null
          }
        },
        "2ac6f9b56ee744e685e63ff49883d10d": {
          "model_module": "@jupyter-widgets/controls",
          "model_name": "DescriptionStyleModel",
          "model_module_version": "1.5.0",
          "state": {
            "_model_module": "@jupyter-widgets/controls",
            "_model_module_version": "1.5.0",
            "_model_name": "DescriptionStyleModel",
            "_view_count": null,
            "_view_module": "@jupyter-widgets/base",
            "_view_module_version": "1.2.0",
            "_view_name": "StyleView",
            "description_width": ""
          }
        },
        "2ca9e5a418fa46078dc4e0ffbee204d3": {
          "model_module": "@jupyter-widgets/controls",
          "model_name": "HBoxModel",
          "model_module_version": "1.5.0",
          "state": {
            "_dom_classes": [],
            "_model_module": "@jupyter-widgets/controls",
            "_model_module_version": "1.5.0",
            "_model_name": "HBoxModel",
            "_view_count": null,
            "_view_module": "@jupyter-widgets/controls",
            "_view_module_version": "1.5.0",
            "_view_name": "HBoxView",
            "box_style": "",
            "children": [
              "IPY_MODEL_85beed43ccd14001bf27a8472db9702a",
              "IPY_MODEL_1cfb8b9de39240069030e22e52d737fe",
              "IPY_MODEL_bd0c694f0a174c6fa2d478edf0c6b129"
            ],
            "layout": "IPY_MODEL_188ce96fd89f430d9e5a96df9a36b701"
          }
        },
        "85beed43ccd14001bf27a8472db9702a": {
          "model_module": "@jupyter-widgets/controls",
          "model_name": "HTMLModel",
          "model_module_version": "1.5.0",
          "state": {
            "_dom_classes": [],
            "_model_module": "@jupyter-widgets/controls",
            "_model_module_version": "1.5.0",
            "_model_name": "HTMLModel",
            "_view_count": null,
            "_view_module": "@jupyter-widgets/controls",
            "_view_module_version": "1.5.0",
            "_view_name": "HTMLView",
            "description": "",
            "description_tooltip": null,
            "layout": "IPY_MODEL_f962fd48b85c49abbeb06a60985237f7",
            "placeholder": "​",
            "style": "IPY_MODEL_24c5808a4c8f46e9965ae1e37734f7ff",
            "value": "Shuffling /root/tensorflow_datasets/ag_news_subset/incomplete.PNM23X_1.0.0/ag_news_subset-train.tfrecord*...:   0%"
          }
        },
        "1cfb8b9de39240069030e22e52d737fe": {
          "model_module": "@jupyter-widgets/controls",
          "model_name": "FloatProgressModel",
          "model_module_version": "1.5.0",
          "state": {
            "_dom_classes": [],
            "_model_module": "@jupyter-widgets/controls",
            "_model_module_version": "1.5.0",
            "_model_name": "FloatProgressModel",
            "_view_count": null,
            "_view_module": "@jupyter-widgets/controls",
            "_view_module_version": "1.5.0",
            "_view_name": "ProgressView",
            "bar_style": "",
            "description": "",
            "description_tooltip": null,
            "layout": "IPY_MODEL_4f200dd236b84de5b595b1c8a6de5351",
            "max": 120000,
            "min": 0,
            "orientation": "horizontal",
            "style": "IPY_MODEL_e35aa4cfed7e4d0d8b3f1cefbf2af3e0",
            "value": 120000
          }
        },
        "bd0c694f0a174c6fa2d478edf0c6b129": {
          "model_module": "@jupyter-widgets/controls",
          "model_name": "HTMLModel",
          "model_module_version": "1.5.0",
          "state": {
            "_dom_classes": [],
            "_model_module": "@jupyter-widgets/controls",
            "_model_module_version": "1.5.0",
            "_model_name": "HTMLModel",
            "_view_count": null,
            "_view_module": "@jupyter-widgets/controls",
            "_view_module_version": "1.5.0",
            "_view_name": "HTMLView",
            "description": "",
            "description_tooltip": null,
            "layout": "IPY_MODEL_05154a3dcc8a4110be3aa6e5438b85f8",
            "placeholder": "​",
            "style": "IPY_MODEL_f61d89d736ce44629a5e2fbc63e5b17b",
            "value": " 0/120000 [00:00&lt;?, ? examples/s]"
          }
        },
        "188ce96fd89f430d9e5a96df9a36b701": {
          "model_module": "@jupyter-widgets/base",
          "model_name": "LayoutModel",
          "model_module_version": "1.2.0",
          "state": {
            "_model_module": "@jupyter-widgets/base",
            "_model_module_version": "1.2.0",
            "_model_name": "LayoutModel",
            "_view_count": null,
            "_view_module": "@jupyter-widgets/base",
            "_view_module_version": "1.2.0",
            "_view_name": "LayoutView",
            "align_content": null,
            "align_items": null,
            "align_self": null,
            "border": null,
            "bottom": null,
            "display": null,
            "flex": null,
            "flex_flow": null,
            "grid_area": null,
            "grid_auto_columns": null,
            "grid_auto_flow": null,
            "grid_auto_rows": null,
            "grid_column": null,
            "grid_gap": null,
            "grid_row": null,
            "grid_template_areas": null,
            "grid_template_columns": null,
            "grid_template_rows": null,
            "height": null,
            "justify_content": null,
            "justify_items": null,
            "left": null,
            "margin": null,
            "max_height": null,
            "max_width": null,
            "min_height": null,
            "min_width": null,
            "object_fit": null,
            "object_position": null,
            "order": null,
            "overflow": null,
            "overflow_x": null,
            "overflow_y": null,
            "padding": null,
            "right": null,
            "top": null,
            "visibility": "hidden",
            "width": null
          }
        },
        "f962fd48b85c49abbeb06a60985237f7": {
          "model_module": "@jupyter-widgets/base",
          "model_name": "LayoutModel",
          "model_module_version": "1.2.0",
          "state": {
            "_model_module": "@jupyter-widgets/base",
            "_model_module_version": "1.2.0",
            "_model_name": "LayoutModel",
            "_view_count": null,
            "_view_module": "@jupyter-widgets/base",
            "_view_module_version": "1.2.0",
            "_view_name": "LayoutView",
            "align_content": null,
            "align_items": null,
            "align_self": null,
            "border": null,
            "bottom": null,
            "display": null,
            "flex": null,
            "flex_flow": null,
            "grid_area": null,
            "grid_auto_columns": null,
            "grid_auto_flow": null,
            "grid_auto_rows": null,
            "grid_column": null,
            "grid_gap": null,
            "grid_row": null,
            "grid_template_areas": null,
            "grid_template_columns": null,
            "grid_template_rows": null,
            "height": null,
            "justify_content": null,
            "justify_items": null,
            "left": null,
            "margin": null,
            "max_height": null,
            "max_width": null,
            "min_height": null,
            "min_width": null,
            "object_fit": null,
            "object_position": null,
            "order": null,
            "overflow": null,
            "overflow_x": null,
            "overflow_y": null,
            "padding": null,
            "right": null,
            "top": null,
            "visibility": null,
            "width": null
          }
        },
        "24c5808a4c8f46e9965ae1e37734f7ff": {
          "model_module": "@jupyter-widgets/controls",
          "model_name": "DescriptionStyleModel",
          "model_module_version": "1.5.0",
          "state": {
            "_model_module": "@jupyter-widgets/controls",
            "_model_module_version": "1.5.0",
            "_model_name": "DescriptionStyleModel",
            "_view_count": null,
            "_view_module": "@jupyter-widgets/base",
            "_view_module_version": "1.2.0",
            "_view_name": "StyleView",
            "description_width": ""
          }
        },
        "4f200dd236b84de5b595b1c8a6de5351": {
          "model_module": "@jupyter-widgets/base",
          "model_name": "LayoutModel",
          "model_module_version": "1.2.0",
          "state": {
            "_model_module": "@jupyter-widgets/base",
            "_model_module_version": "1.2.0",
            "_model_name": "LayoutModel",
            "_view_count": null,
            "_view_module": "@jupyter-widgets/base",
            "_view_module_version": "1.2.0",
            "_view_name": "LayoutView",
            "align_content": null,
            "align_items": null,
            "align_self": null,
            "border": null,
            "bottom": null,
            "display": null,
            "flex": null,
            "flex_flow": null,
            "grid_area": null,
            "grid_auto_columns": null,
            "grid_auto_flow": null,
            "grid_auto_rows": null,
            "grid_column": null,
            "grid_gap": null,
            "grid_row": null,
            "grid_template_areas": null,
            "grid_template_columns": null,
            "grid_template_rows": null,
            "height": null,
            "justify_content": null,
            "justify_items": null,
            "left": null,
            "margin": null,
            "max_height": null,
            "max_width": null,
            "min_height": null,
            "min_width": null,
            "object_fit": null,
            "object_position": null,
            "order": null,
            "overflow": null,
            "overflow_x": null,
            "overflow_y": null,
            "padding": null,
            "right": null,
            "top": null,
            "visibility": null,
            "width": null
          }
        },
        "e35aa4cfed7e4d0d8b3f1cefbf2af3e0": {
          "model_module": "@jupyter-widgets/controls",
          "model_name": "ProgressStyleModel",
          "model_module_version": "1.5.0",
          "state": {
            "_model_module": "@jupyter-widgets/controls",
            "_model_module_version": "1.5.0",
            "_model_name": "ProgressStyleModel",
            "_view_count": null,
            "_view_module": "@jupyter-widgets/base",
            "_view_module_version": "1.2.0",
            "_view_name": "StyleView",
            "bar_color": null,
            "description_width": ""
          }
        },
        "05154a3dcc8a4110be3aa6e5438b85f8": {
          "model_module": "@jupyter-widgets/base",
          "model_name": "LayoutModel",
          "model_module_version": "1.2.0",
          "state": {
            "_model_module": "@jupyter-widgets/base",
            "_model_module_version": "1.2.0",
            "_model_name": "LayoutModel",
            "_view_count": null,
            "_view_module": "@jupyter-widgets/base",
            "_view_module_version": "1.2.0",
            "_view_name": "LayoutView",
            "align_content": null,
            "align_items": null,
            "align_self": null,
            "border": null,
            "bottom": null,
            "display": null,
            "flex": null,
            "flex_flow": null,
            "grid_area": null,
            "grid_auto_columns": null,
            "grid_auto_flow": null,
            "grid_auto_rows": null,
            "grid_column": null,
            "grid_gap": null,
            "grid_row": null,
            "grid_template_areas": null,
            "grid_template_columns": null,
            "grid_template_rows": null,
            "height": null,
            "justify_content": null,
            "justify_items": null,
            "left": null,
            "margin": null,
            "max_height": null,
            "max_width": null,
            "min_height": null,
            "min_width": null,
            "object_fit": null,
            "object_position": null,
            "order": null,
            "overflow": null,
            "overflow_x": null,
            "overflow_y": null,
            "padding": null,
            "right": null,
            "top": null,
            "visibility": null,
            "width": null
          }
        },
        "f61d89d736ce44629a5e2fbc63e5b17b": {
          "model_module": "@jupyter-widgets/controls",
          "model_name": "DescriptionStyleModel",
          "model_module_version": "1.5.0",
          "state": {
            "_model_module": "@jupyter-widgets/controls",
            "_model_module_version": "1.5.0",
            "_model_name": "DescriptionStyleModel",
            "_view_count": null,
            "_view_module": "@jupyter-widgets/base",
            "_view_module_version": "1.2.0",
            "_view_name": "StyleView",
            "description_width": ""
          }
        },
        "c0ed76a802d749229e3ddd663c777bfc": {
          "model_module": "@jupyter-widgets/controls",
          "model_name": "HBoxModel",
          "model_module_version": "1.5.0",
          "state": {
            "_dom_classes": [],
            "_model_module": "@jupyter-widgets/controls",
            "_model_module_version": "1.5.0",
            "_model_name": "HBoxModel",
            "_view_count": null,
            "_view_module": "@jupyter-widgets/controls",
            "_view_module_version": "1.5.0",
            "_view_name": "HBoxView",
            "box_style": "",
            "children": [
              "IPY_MODEL_78057e7b18da4a85b639fe3dd6852236",
              "IPY_MODEL_1e64a826f7ac4138bae90ca00d78e8d4",
              "IPY_MODEL_de486660be254bc4a4c283c0bd1b2e8c"
            ],
            "layout": "IPY_MODEL_654d693d2b73463894f6472e6a1c4e8e"
          }
        },
        "78057e7b18da4a85b639fe3dd6852236": {
          "model_module": "@jupyter-widgets/controls",
          "model_name": "HTMLModel",
          "model_module_version": "1.5.0",
          "state": {
            "_dom_classes": [],
            "_model_module": "@jupyter-widgets/controls",
            "_model_module_version": "1.5.0",
            "_model_name": "HTMLModel",
            "_view_count": null,
            "_view_module": "@jupyter-widgets/controls",
            "_view_module_version": "1.5.0",
            "_view_name": "HTMLView",
            "description": "",
            "description_tooltip": null,
            "layout": "IPY_MODEL_dafd81756a4c493e891cc2745496b130",
            "placeholder": "​",
            "style": "IPY_MODEL_e5f48a2bf7794b51a952d4c4ea03dfdc",
            "value": "Generating test examples...:   0%"
          }
        },
        "1e64a826f7ac4138bae90ca00d78e8d4": {
          "model_module": "@jupyter-widgets/controls",
          "model_name": "FloatProgressModel",
          "model_module_version": "1.5.0",
          "state": {
            "_dom_classes": [],
            "_model_module": "@jupyter-widgets/controls",
            "_model_module_version": "1.5.0",
            "_model_name": "FloatProgressModel",
            "_view_count": null,
            "_view_module": "@jupyter-widgets/controls",
            "_view_module_version": "1.5.0",
            "_view_name": "ProgressView",
            "bar_style": "",
            "description": "",
            "description_tooltip": null,
            "layout": "IPY_MODEL_82013f52561244a39399607be4113a11",
            "max": 7600,
            "min": 0,
            "orientation": "horizontal",
            "style": "IPY_MODEL_7cf9acbf0ce34465b3b2cdb94fb0935a",
            "value": 7600
          }
        },
        "de486660be254bc4a4c283c0bd1b2e8c": {
          "model_module": "@jupyter-widgets/controls",
          "model_name": "HTMLModel",
          "model_module_version": "1.5.0",
          "state": {
            "_dom_classes": [],
            "_model_module": "@jupyter-widgets/controls",
            "_model_module_version": "1.5.0",
            "_model_name": "HTMLModel",
            "_view_count": null,
            "_view_module": "@jupyter-widgets/controls",
            "_view_module_version": "1.5.0",
            "_view_name": "HTMLView",
            "description": "",
            "description_tooltip": null,
            "layout": "IPY_MODEL_a9d484fb3ecb434184eab2b315b89156",
            "placeholder": "​",
            "style": "IPY_MODEL_83f75c9336c64adfba10da0b3422015e",
            "value": " 0/7600 [00:00&lt;?, ? examples/s]"
          }
        },
        "654d693d2b73463894f6472e6a1c4e8e": {
          "model_module": "@jupyter-widgets/base",
          "model_name": "LayoutModel",
          "model_module_version": "1.2.0",
          "state": {
            "_model_module": "@jupyter-widgets/base",
            "_model_module_version": "1.2.0",
            "_model_name": "LayoutModel",
            "_view_count": null,
            "_view_module": "@jupyter-widgets/base",
            "_view_module_version": "1.2.0",
            "_view_name": "LayoutView",
            "align_content": null,
            "align_items": null,
            "align_self": null,
            "border": null,
            "bottom": null,
            "display": null,
            "flex": null,
            "flex_flow": null,
            "grid_area": null,
            "grid_auto_columns": null,
            "grid_auto_flow": null,
            "grid_auto_rows": null,
            "grid_column": null,
            "grid_gap": null,
            "grid_row": null,
            "grid_template_areas": null,
            "grid_template_columns": null,
            "grid_template_rows": null,
            "height": null,
            "justify_content": null,
            "justify_items": null,
            "left": null,
            "margin": null,
            "max_height": null,
            "max_width": null,
            "min_height": null,
            "min_width": null,
            "object_fit": null,
            "object_position": null,
            "order": null,
            "overflow": null,
            "overflow_x": null,
            "overflow_y": null,
            "padding": null,
            "right": null,
            "top": null,
            "visibility": "hidden",
            "width": null
          }
        },
        "dafd81756a4c493e891cc2745496b130": {
          "model_module": "@jupyter-widgets/base",
          "model_name": "LayoutModel",
          "model_module_version": "1.2.0",
          "state": {
            "_model_module": "@jupyter-widgets/base",
            "_model_module_version": "1.2.0",
            "_model_name": "LayoutModel",
            "_view_count": null,
            "_view_module": "@jupyter-widgets/base",
            "_view_module_version": "1.2.0",
            "_view_name": "LayoutView",
            "align_content": null,
            "align_items": null,
            "align_self": null,
            "border": null,
            "bottom": null,
            "display": null,
            "flex": null,
            "flex_flow": null,
            "grid_area": null,
            "grid_auto_columns": null,
            "grid_auto_flow": null,
            "grid_auto_rows": null,
            "grid_column": null,
            "grid_gap": null,
            "grid_row": null,
            "grid_template_areas": null,
            "grid_template_columns": null,
            "grid_template_rows": null,
            "height": null,
            "justify_content": null,
            "justify_items": null,
            "left": null,
            "margin": null,
            "max_height": null,
            "max_width": null,
            "min_height": null,
            "min_width": null,
            "object_fit": null,
            "object_position": null,
            "order": null,
            "overflow": null,
            "overflow_x": null,
            "overflow_y": null,
            "padding": null,
            "right": null,
            "top": null,
            "visibility": null,
            "width": null
          }
        },
        "e5f48a2bf7794b51a952d4c4ea03dfdc": {
          "model_module": "@jupyter-widgets/controls",
          "model_name": "DescriptionStyleModel",
          "model_module_version": "1.5.0",
          "state": {
            "_model_module": "@jupyter-widgets/controls",
            "_model_module_version": "1.5.0",
            "_model_name": "DescriptionStyleModel",
            "_view_count": null,
            "_view_module": "@jupyter-widgets/base",
            "_view_module_version": "1.2.0",
            "_view_name": "StyleView",
            "description_width": ""
          }
        },
        "82013f52561244a39399607be4113a11": {
          "model_module": "@jupyter-widgets/base",
          "model_name": "LayoutModel",
          "model_module_version": "1.2.0",
          "state": {
            "_model_module": "@jupyter-widgets/base",
            "_model_module_version": "1.2.0",
            "_model_name": "LayoutModel",
            "_view_count": null,
            "_view_module": "@jupyter-widgets/base",
            "_view_module_version": "1.2.0",
            "_view_name": "LayoutView",
            "align_content": null,
            "align_items": null,
            "align_self": null,
            "border": null,
            "bottom": null,
            "display": null,
            "flex": null,
            "flex_flow": null,
            "grid_area": null,
            "grid_auto_columns": null,
            "grid_auto_flow": null,
            "grid_auto_rows": null,
            "grid_column": null,
            "grid_gap": null,
            "grid_row": null,
            "grid_template_areas": null,
            "grid_template_columns": null,
            "grid_template_rows": null,
            "height": null,
            "justify_content": null,
            "justify_items": null,
            "left": null,
            "margin": null,
            "max_height": null,
            "max_width": null,
            "min_height": null,
            "min_width": null,
            "object_fit": null,
            "object_position": null,
            "order": null,
            "overflow": null,
            "overflow_x": null,
            "overflow_y": null,
            "padding": null,
            "right": null,
            "top": null,
            "visibility": null,
            "width": null
          }
        },
        "7cf9acbf0ce34465b3b2cdb94fb0935a": {
          "model_module": "@jupyter-widgets/controls",
          "model_name": "ProgressStyleModel",
          "model_module_version": "1.5.0",
          "state": {
            "_model_module": "@jupyter-widgets/controls",
            "_model_module_version": "1.5.0",
            "_model_name": "ProgressStyleModel",
            "_view_count": null,
            "_view_module": "@jupyter-widgets/base",
            "_view_module_version": "1.2.0",
            "_view_name": "StyleView",
            "bar_color": null,
            "description_width": ""
          }
        },
        "a9d484fb3ecb434184eab2b315b89156": {
          "model_module": "@jupyter-widgets/base",
          "model_name": "LayoutModel",
          "model_module_version": "1.2.0",
          "state": {
            "_model_module": "@jupyter-widgets/base",
            "_model_module_version": "1.2.0",
            "_model_name": "LayoutModel",
            "_view_count": null,
            "_view_module": "@jupyter-widgets/base",
            "_view_module_version": "1.2.0",
            "_view_name": "LayoutView",
            "align_content": null,
            "align_items": null,
            "align_self": null,
            "border": null,
            "bottom": null,
            "display": null,
            "flex": null,
            "flex_flow": null,
            "grid_area": null,
            "grid_auto_columns": null,
            "grid_auto_flow": null,
            "grid_auto_rows": null,
            "grid_column": null,
            "grid_gap": null,
            "grid_row": null,
            "grid_template_areas": null,
            "grid_template_columns": null,
            "grid_template_rows": null,
            "height": null,
            "justify_content": null,
            "justify_items": null,
            "left": null,
            "margin": null,
            "max_height": null,
            "max_width": null,
            "min_height": null,
            "min_width": null,
            "object_fit": null,
            "object_position": null,
            "order": null,
            "overflow": null,
            "overflow_x": null,
            "overflow_y": null,
            "padding": null,
            "right": null,
            "top": null,
            "visibility": null,
            "width": null
          }
        },
        "83f75c9336c64adfba10da0b3422015e": {
          "model_module": "@jupyter-widgets/controls",
          "model_name": "DescriptionStyleModel",
          "model_module_version": "1.5.0",
          "state": {
            "_model_module": "@jupyter-widgets/controls",
            "_model_module_version": "1.5.0",
            "_model_name": "DescriptionStyleModel",
            "_view_count": null,
            "_view_module": "@jupyter-widgets/base",
            "_view_module_version": "1.2.0",
            "_view_name": "StyleView",
            "description_width": ""
          }
        },
        "a0e1a71d90a8484897a7185a975f1706": {
          "model_module": "@jupyter-widgets/controls",
          "model_name": "HBoxModel",
          "model_module_version": "1.5.0",
          "state": {
            "_dom_classes": [],
            "_model_module": "@jupyter-widgets/controls",
            "_model_module_version": "1.5.0",
            "_model_name": "HBoxModel",
            "_view_count": null,
            "_view_module": "@jupyter-widgets/controls",
            "_view_module_version": "1.5.0",
            "_view_name": "HBoxView",
            "box_style": "",
            "children": [
              "IPY_MODEL_4a34fd9ebea941d39098e500e30a368f",
              "IPY_MODEL_54ea590faf8c41508caf226d62060d02",
              "IPY_MODEL_78232e4cc6b741a5843a49b02bcff2ae"
            ],
            "layout": "IPY_MODEL_e1a6b01eada64b5f9aaa6b53d4d4e4a5"
          }
        },
        "4a34fd9ebea941d39098e500e30a368f": {
          "model_module": "@jupyter-widgets/controls",
          "model_name": "HTMLModel",
          "model_module_version": "1.5.0",
          "state": {
            "_dom_classes": [],
            "_model_module": "@jupyter-widgets/controls",
            "_model_module_version": "1.5.0",
            "_model_name": "HTMLModel",
            "_view_count": null,
            "_view_module": "@jupyter-widgets/controls",
            "_view_module_version": "1.5.0",
            "_view_name": "HTMLView",
            "description": "",
            "description_tooltip": null,
            "layout": "IPY_MODEL_6eb9dc1cc4bc4505bec870379ccc39b1",
            "placeholder": "​",
            "style": "IPY_MODEL_185b59beabed4960bdd17c8dbabb3539",
            "value": "Shuffling /root/tensorflow_datasets/ag_news_subset/incomplete.PNM23X_1.0.0/ag_news_subset-test.tfrecord*...:   0%"
          }
        },
        "54ea590faf8c41508caf226d62060d02": {
          "model_module": "@jupyter-widgets/controls",
          "model_name": "FloatProgressModel",
          "model_module_version": "1.5.0",
          "state": {
            "_dom_classes": [],
            "_model_module": "@jupyter-widgets/controls",
            "_model_module_version": "1.5.0",
            "_model_name": "FloatProgressModel",
            "_view_count": null,
            "_view_module": "@jupyter-widgets/controls",
            "_view_module_version": "1.5.0",
            "_view_name": "ProgressView",
            "bar_style": "",
            "description": "",
            "description_tooltip": null,
            "layout": "IPY_MODEL_27c28179d8744e71bdbf92dd6ef74d75",
            "max": 7600,
            "min": 0,
            "orientation": "horizontal",
            "style": "IPY_MODEL_ce6f8c05362041b69c39cf588848af8f",
            "value": 7600
          }
        },
        "78232e4cc6b741a5843a49b02bcff2ae": {
          "model_module": "@jupyter-widgets/controls",
          "model_name": "HTMLModel",
          "model_module_version": "1.5.0",
          "state": {
            "_dom_classes": [],
            "_model_module": "@jupyter-widgets/controls",
            "_model_module_version": "1.5.0",
            "_model_name": "HTMLModel",
            "_view_count": null,
            "_view_module": "@jupyter-widgets/controls",
            "_view_module_version": "1.5.0",
            "_view_name": "HTMLView",
            "description": "",
            "description_tooltip": null,
            "layout": "IPY_MODEL_765163361ec545e8ba785ee0b35b9fb9",
            "placeholder": "​",
            "style": "IPY_MODEL_6e1b7cc537a74e34b651374a7389b4d8",
            "value": " 0/7600 [00:00&lt;?, ? examples/s]"
          }
        },
        "e1a6b01eada64b5f9aaa6b53d4d4e4a5": {
          "model_module": "@jupyter-widgets/base",
          "model_name": "LayoutModel",
          "model_module_version": "1.2.0",
          "state": {
            "_model_module": "@jupyter-widgets/base",
            "_model_module_version": "1.2.0",
            "_model_name": "LayoutModel",
            "_view_count": null,
            "_view_module": "@jupyter-widgets/base",
            "_view_module_version": "1.2.0",
            "_view_name": "LayoutView",
            "align_content": null,
            "align_items": null,
            "align_self": null,
            "border": null,
            "bottom": null,
            "display": null,
            "flex": null,
            "flex_flow": null,
            "grid_area": null,
            "grid_auto_columns": null,
            "grid_auto_flow": null,
            "grid_auto_rows": null,
            "grid_column": null,
            "grid_gap": null,
            "grid_row": null,
            "grid_template_areas": null,
            "grid_template_columns": null,
            "grid_template_rows": null,
            "height": null,
            "justify_content": null,
            "justify_items": null,
            "left": null,
            "margin": null,
            "max_height": null,
            "max_width": null,
            "min_height": null,
            "min_width": null,
            "object_fit": null,
            "object_position": null,
            "order": null,
            "overflow": null,
            "overflow_x": null,
            "overflow_y": null,
            "padding": null,
            "right": null,
            "top": null,
            "visibility": "hidden",
            "width": null
          }
        },
        "6eb9dc1cc4bc4505bec870379ccc39b1": {
          "model_module": "@jupyter-widgets/base",
          "model_name": "LayoutModel",
          "model_module_version": "1.2.0",
          "state": {
            "_model_module": "@jupyter-widgets/base",
            "_model_module_version": "1.2.0",
            "_model_name": "LayoutModel",
            "_view_count": null,
            "_view_module": "@jupyter-widgets/base",
            "_view_module_version": "1.2.0",
            "_view_name": "LayoutView",
            "align_content": null,
            "align_items": null,
            "align_self": null,
            "border": null,
            "bottom": null,
            "display": null,
            "flex": null,
            "flex_flow": null,
            "grid_area": null,
            "grid_auto_columns": null,
            "grid_auto_flow": null,
            "grid_auto_rows": null,
            "grid_column": null,
            "grid_gap": null,
            "grid_row": null,
            "grid_template_areas": null,
            "grid_template_columns": null,
            "grid_template_rows": null,
            "height": null,
            "justify_content": null,
            "justify_items": null,
            "left": null,
            "margin": null,
            "max_height": null,
            "max_width": null,
            "min_height": null,
            "min_width": null,
            "object_fit": null,
            "object_position": null,
            "order": null,
            "overflow": null,
            "overflow_x": null,
            "overflow_y": null,
            "padding": null,
            "right": null,
            "top": null,
            "visibility": null,
            "width": null
          }
        },
        "185b59beabed4960bdd17c8dbabb3539": {
          "model_module": "@jupyter-widgets/controls",
          "model_name": "DescriptionStyleModel",
          "model_module_version": "1.5.0",
          "state": {
            "_model_module": "@jupyter-widgets/controls",
            "_model_module_version": "1.5.0",
            "_model_name": "DescriptionStyleModel",
            "_view_count": null,
            "_view_module": "@jupyter-widgets/base",
            "_view_module_version": "1.2.0",
            "_view_name": "StyleView",
            "description_width": ""
          }
        },
        "27c28179d8744e71bdbf92dd6ef74d75": {
          "model_module": "@jupyter-widgets/base",
          "model_name": "LayoutModel",
          "model_module_version": "1.2.0",
          "state": {
            "_model_module": "@jupyter-widgets/base",
            "_model_module_version": "1.2.0",
            "_model_name": "LayoutModel",
            "_view_count": null,
            "_view_module": "@jupyter-widgets/base",
            "_view_module_version": "1.2.0",
            "_view_name": "LayoutView",
            "align_content": null,
            "align_items": null,
            "align_self": null,
            "border": null,
            "bottom": null,
            "display": null,
            "flex": null,
            "flex_flow": null,
            "grid_area": null,
            "grid_auto_columns": null,
            "grid_auto_flow": null,
            "grid_auto_rows": null,
            "grid_column": null,
            "grid_gap": null,
            "grid_row": null,
            "grid_template_areas": null,
            "grid_template_columns": null,
            "grid_template_rows": null,
            "height": null,
            "justify_content": null,
            "justify_items": null,
            "left": null,
            "margin": null,
            "max_height": null,
            "max_width": null,
            "min_height": null,
            "min_width": null,
            "object_fit": null,
            "object_position": null,
            "order": null,
            "overflow": null,
            "overflow_x": null,
            "overflow_y": null,
            "padding": null,
            "right": null,
            "top": null,
            "visibility": null,
            "width": null
          }
        },
        "ce6f8c05362041b69c39cf588848af8f": {
          "model_module": "@jupyter-widgets/controls",
          "model_name": "ProgressStyleModel",
          "model_module_version": "1.5.0",
          "state": {
            "_model_module": "@jupyter-widgets/controls",
            "_model_module_version": "1.5.0",
            "_model_name": "ProgressStyleModel",
            "_view_count": null,
            "_view_module": "@jupyter-widgets/base",
            "_view_module_version": "1.2.0",
            "_view_name": "StyleView",
            "bar_color": null,
            "description_width": ""
          }
        },
        "765163361ec545e8ba785ee0b35b9fb9": {
          "model_module": "@jupyter-widgets/base",
          "model_name": "LayoutModel",
          "model_module_version": "1.2.0",
          "state": {
            "_model_module": "@jupyter-widgets/base",
            "_model_module_version": "1.2.0",
            "_model_name": "LayoutModel",
            "_view_count": null,
            "_view_module": "@jupyter-widgets/base",
            "_view_module_version": "1.2.0",
            "_view_name": "LayoutView",
            "align_content": null,
            "align_items": null,
            "align_self": null,
            "border": null,
            "bottom": null,
            "display": null,
            "flex": null,
            "flex_flow": null,
            "grid_area": null,
            "grid_auto_columns": null,
            "grid_auto_flow": null,
            "grid_auto_rows": null,
            "grid_column": null,
            "grid_gap": null,
            "grid_row": null,
            "grid_template_areas": null,
            "grid_template_columns": null,
            "grid_template_rows": null,
            "height": null,
            "justify_content": null,
            "justify_items": null,
            "left": null,
            "margin": null,
            "max_height": null,
            "max_width": null,
            "min_height": null,
            "min_width": null,
            "object_fit": null,
            "object_position": null,
            "order": null,
            "overflow": null,
            "overflow_x": null,
            "overflow_y": null,
            "padding": null,
            "right": null,
            "top": null,
            "visibility": null,
            "width": null
          }
        },
        "6e1b7cc537a74e34b651374a7389b4d8": {
          "model_module": "@jupyter-widgets/controls",
          "model_name": "DescriptionStyleModel",
          "model_module_version": "1.5.0",
          "state": {
            "_model_module": "@jupyter-widgets/controls",
            "_model_module_version": "1.5.0",
            "_model_name": "DescriptionStyleModel",
            "_view_count": null,
            "_view_module": "@jupyter-widgets/base",
            "_view_module_version": "1.2.0",
            "_view_name": "StyleView",
            "description_width": ""
          }
        }
      }
    }
  },
  "nbformat": 4,
  "nbformat_minor": 0
}